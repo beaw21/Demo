{
 "cells": [
  {
   "cell_type": "markdown",
   "metadata": {
    "id": "6gJ3Q6a2RfqJ"
   },
   "source": [
    "**pandas data frames**"
   ]
  },
  {
   "cell_type": "code",
   "execution_count": 1,
   "metadata": {
    "id": "V0ynHeOPRzYJ"
   },
   "outputs": [],
   "source": [
    "from sklearn.datasets import load_wine\n",
    "import pandas as pd\n",
    "import numpy as np\n",
    "import re"
   ]
  },
  {
   "cell_type": "markdown",
   "metadata": {
    "id": "wGuhMQTJZfmz"
   },
   "source": [
    "read file csv"
   ]
  },
  {
   "cell_type": "code",
   "execution_count": 2,
   "metadata": {
    "id": "_DoPoAipSubP"
   },
   "outputs": [],
   "source": [
    "read_data_file = pd.read_csv('type_smells.csv')"
   ]
  },
  {
   "cell_type": "code",
   "execution_count": 3,
   "metadata": {
    "id": "ykuprLAqTABW"
   },
   "outputs": [],
   "source": [
    "df = pd.DataFrame(read_data_file)"
   ]
  },
  {
   "cell_type": "markdown",
   "metadata": {
    "id": "7wb81PePpyGj"
   },
   "source": [
    "part of smell"
   ]
  },
  {
   "cell_type": "code",
   "execution_count": 4,
   "metadata": {
    "id": "RUe2xJq4TzOr"
   },
   "outputs": [],
   "source": [
    "data_smell = df[{'sum_smells_open_commit' , 'sum_smell_closed' }]"
   ]
  },
  {
   "cell_type": "code",
   "execution_count": 5,
   "metadata": {
    "colab": {
     "base_uri": "https://localhost:8080/",
     "height": 167
    },
    "id": "HSF9hyPKWi-q",
    "outputId": "4e94a166-533a-43c8-f93e-d5ea73be1d44"
   },
   "outputs": [],
   "source": [
    "rename_data_smell = data_smell.rename(columns= {'sum_smells_open_commit' : 'befor_commit' , 'sum_smell_closed' : 'after_commit'})"
   ]
  },
  {
   "cell_type": "code",
   "execution_count": 6,
   "metadata": {
    "id": "F38zT8wyi7aT"
   },
   "outputs": [],
   "source": [
    "after_commit = rename_data_smell['after_commit']"
   ]
  },
  {
   "cell_type": "code",
   "execution_count": 7,
   "metadata": {
    "id": "IzSHV-o8itIb"
   },
   "outputs": [],
   "source": [
    "befor_commit = rename_data_smell['befor_commit']"
   ]
  },
  {
   "cell_type": "code",
   "execution_count": 8,
   "metadata": {
    "id": "Hr49zo9eUG3J"
   },
   "outputs": [],
   "source": [
    "df['valus_smella'] =  rename_data_smell['after_commit'] - rename_data_smell['befor_commit']"
   ]
  },
  {
   "cell_type": "code",
   "execution_count": 9,
   "metadata": {
    "id": "-IwLa3amXk2y"
   },
   "outputs": [],
   "source": [
    "cal_smell = df['valus_smella']"
   ]
  },
  {
   "cell_type": "markdown",
   "metadata": {
    "id": "fvCZj_gLp_Xu"
   },
   "source": [
    "columns list"
   ]
  },
  {
   "cell_type": "code",
   "execution_count": 10,
   "metadata": {
    "colab": {
     "base_uri": "https://localhost:8080/"
    },
    "id": "No2h4SagqucU",
    "outputId": "7f1cdfb4-3b21-4533-99c5-c926941ba9fb"
   },
   "outputs": [
    {
     "data": {
      "text/plain": [
       "['url',\n",
       " 'commit',\n",
       " 'parents',\n",
       " 'java s112',\n",
       " 'java s112.1',\n",
       " 'java s119',\n",
       " 'java s119.1',\n",
       " 'java:S106',\n",
       " 'java:S106.1',\n",
       " 'java s1068',\n",
       " 'java s1068.1',\n",
       " 'java s1123',\n",
       " 'java s1123.1',\n",
       " 'java s1133',\n",
       " 'java s1133.1',\n",
       " 'java s1168',\n",
       " 'java s1168.1',\n",
       " 'java s1172',\n",
       " 'java s1172.1',\n",
       " 'java s1181',\n",
       " 'java s1181.1',\n",
       " 'java s1187',\n",
       " 'java s1187.1',\n",
       " 'java s1192',\n",
       " 'java s1192.1',\n",
       " 'java s 1874',\n",
       " 'java s 1874.1',\n",
       " 'java s1948',\n",
       " 'java s1948.1',\n",
       " 'java s 2293',\n",
       " 'java s 2293.1',\n",
       " 'sum_smells_open_commit',\n",
       " 'sum_smell_closed',\n",
       " 'remove_smell',\n",
       " 'open_time',\n",
       " 'closed_time',\n",
       " 'time',\n",
       " 'changed_file',\n",
       " 'additions',\n",
       " 'deletions',\n",
       " 'Dev',\n",
       " 'valus_smella']"
      ]
     },
     "execution_count": 10,
     "metadata": {},
     "output_type": "execute_result"
    }
   ],
   "source": [
    "list(df.columns)"
   ]
  },
  {
   "cell_type": "code",
   "execution_count": 11,
   "metadata": {
    "id": "rLlM1p-zrUNy"
   },
   "outputs": [],
   "source": [
    "rule  = df[{'java s112',\n",
    "              'java s112.1',\n",
    "              'java s119',\n",
    "              'java s119.1',\n",
    "              'java:S106',\n",
    "              'java:S106.1',\n",
    "              'java s1068',\n",
    "              'java s1068.1',\n",
    "              'java s1123',\n",
    "              'java s1123.1',\n",
    "              'java s1133',\n",
    "              'java s1133.1',\n",
    "              'java s1168',\n",
    "              'java s1168.1',\n",
    "              'java s1172',\n",
    "              'java s1172.1',\n",
    "              'java s1181',\n",
    "              'java s1181.1',\n",
    "              'java s1187',\n",
    "              'java s1187.1',\n",
    "              'java s1192',\n",
    "              'java s1192.1',\n",
    "              'java s 1874',\n",
    "              'java s 1874.1',\n",
    "              'java s1948',\n",
    "              'java s1948.1',\n",
    "              'java s 2293',\n",
    "              'java s 2293.1'}]"
   ]
  },
  {
   "cell_type": "code",
   "execution_count": 12,
   "metadata": {
    "colab": {
     "base_uri": "https://localhost:8080/",
     "height": 292
    },
    "id": "Hiv0900CrnAb",
    "outputId": "c695d84c-043c-4379-931a-c4e1c27a576a"
   },
   "outputs": [
    {
     "data": {
      "text/html": [
       "<div>\n",
       "<style scoped>\n",
       "    .dataframe tbody tr th:only-of-type {\n",
       "        vertical-align: middle;\n",
       "    }\n",
       "\n",
       "    .dataframe tbody tr th {\n",
       "        vertical-align: top;\n",
       "    }\n",
       "\n",
       "    .dataframe thead th {\n",
       "        text-align: right;\n",
       "    }\n",
       "</style>\n",
       "<table border=\"1\" class=\"dataframe\">\n",
       "  <thead>\n",
       "    <tr style=\"text-align: right;\">\n",
       "      <th></th>\n",
       "      <th>java s112.1</th>\n",
       "      <th>java s1172</th>\n",
       "      <th>java s1133</th>\n",
       "      <th>java s119</th>\n",
       "      <th>java s1068.1</th>\n",
       "      <th>java s1181.1</th>\n",
       "      <th>java s1068</th>\n",
       "      <th>java s1123.1</th>\n",
       "      <th>java s1187.1</th>\n",
       "      <th>java:S106</th>\n",
       "      <th>...</th>\n",
       "      <th>java s1181</th>\n",
       "      <th>java s1192.1</th>\n",
       "      <th>java s1123</th>\n",
       "      <th>java s1172.1</th>\n",
       "      <th>java s112</th>\n",
       "      <th>java:S106.1</th>\n",
       "      <th>java s1133.1</th>\n",
       "      <th>java s 2293</th>\n",
       "      <th>java s 2293.1</th>\n",
       "      <th>java s1948</th>\n",
       "    </tr>\n",
       "  </thead>\n",
       "  <tbody>\n",
       "    <tr>\n",
       "      <th>0</th>\n",
       "      <td>0</td>\n",
       "      <td>0</td>\n",
       "      <td>1</td>\n",
       "      <td>0</td>\n",
       "      <td>0</td>\n",
       "      <td>0</td>\n",
       "      <td>0</td>\n",
       "      <td>0</td>\n",
       "      <td>0</td>\n",
       "      <td>0</td>\n",
       "      <td>...</td>\n",
       "      <td>0</td>\n",
       "      <td>0</td>\n",
       "      <td>0</td>\n",
       "      <td>0</td>\n",
       "      <td>6</td>\n",
       "      <td>0</td>\n",
       "      <td>5</td>\n",
       "      <td>0</td>\n",
       "      <td>0</td>\n",
       "      <td>0</td>\n",
       "    </tr>\n",
       "    <tr>\n",
       "      <th>1</th>\n",
       "      <td>0</td>\n",
       "      <td>0</td>\n",
       "      <td>0</td>\n",
       "      <td>8</td>\n",
       "      <td>0</td>\n",
       "      <td>0</td>\n",
       "      <td>0</td>\n",
       "      <td>0</td>\n",
       "      <td>0</td>\n",
       "      <td>1</td>\n",
       "      <td>...</td>\n",
       "      <td>0</td>\n",
       "      <td>0</td>\n",
       "      <td>0</td>\n",
       "      <td>0</td>\n",
       "      <td>0</td>\n",
       "      <td>0</td>\n",
       "      <td>0</td>\n",
       "      <td>0</td>\n",
       "      <td>0</td>\n",
       "      <td>0</td>\n",
       "    </tr>\n",
       "    <tr>\n",
       "      <th>2</th>\n",
       "      <td>0</td>\n",
       "      <td>0</td>\n",
       "      <td>0</td>\n",
       "      <td>0</td>\n",
       "      <td>0</td>\n",
       "      <td>0</td>\n",
       "      <td>0</td>\n",
       "      <td>0</td>\n",
       "      <td>0</td>\n",
       "      <td>0</td>\n",
       "      <td>...</td>\n",
       "      <td>0</td>\n",
       "      <td>0</td>\n",
       "      <td>0</td>\n",
       "      <td>0</td>\n",
       "      <td>4</td>\n",
       "      <td>4</td>\n",
       "      <td>0</td>\n",
       "      <td>0</td>\n",
       "      <td>3</td>\n",
       "      <td>3</td>\n",
       "    </tr>\n",
       "    <tr>\n",
       "      <th>3</th>\n",
       "      <td>0</td>\n",
       "      <td>0</td>\n",
       "      <td>3</td>\n",
       "      <td>0</td>\n",
       "      <td>1</td>\n",
       "      <td>0</td>\n",
       "      <td>0</td>\n",
       "      <td>0</td>\n",
       "      <td>0</td>\n",
       "      <td>0</td>\n",
       "      <td>...</td>\n",
       "      <td>1</td>\n",
       "      <td>0</td>\n",
       "      <td>3</td>\n",
       "      <td>0</td>\n",
       "      <td>0</td>\n",
       "      <td>0</td>\n",
       "      <td>0</td>\n",
       "      <td>0</td>\n",
       "      <td>0</td>\n",
       "      <td>0</td>\n",
       "    </tr>\n",
       "    <tr>\n",
       "      <th>4</th>\n",
       "      <td>3</td>\n",
       "      <td>0</td>\n",
       "      <td>0</td>\n",
       "      <td>0</td>\n",
       "      <td>0</td>\n",
       "      <td>0</td>\n",
       "      <td>0</td>\n",
       "      <td>0</td>\n",
       "      <td>0</td>\n",
       "      <td>0</td>\n",
       "      <td>...</td>\n",
       "      <td>0</td>\n",
       "      <td>0</td>\n",
       "      <td>0</td>\n",
       "      <td>3</td>\n",
       "      <td>2</td>\n",
       "      <td>0</td>\n",
       "      <td>0</td>\n",
       "      <td>0</td>\n",
       "      <td>0</td>\n",
       "      <td>0</td>\n",
       "    </tr>\n",
       "    <tr>\n",
       "      <th>5</th>\n",
       "      <td>0</td>\n",
       "      <td>0</td>\n",
       "      <td>0</td>\n",
       "      <td>0</td>\n",
       "      <td>0</td>\n",
       "      <td>0</td>\n",
       "      <td>0</td>\n",
       "      <td>0</td>\n",
       "      <td>0</td>\n",
       "      <td>0</td>\n",
       "      <td>...</td>\n",
       "      <td>0</td>\n",
       "      <td>0</td>\n",
       "      <td>0</td>\n",
       "      <td>0</td>\n",
       "      <td>10</td>\n",
       "      <td>0</td>\n",
       "      <td>1</td>\n",
       "      <td>0</td>\n",
       "      <td>0</td>\n",
       "      <td>0</td>\n",
       "    </tr>\n",
       "  </tbody>\n",
       "</table>\n",
       "<p>6 rows × 28 columns</p>\n",
       "</div>"
      ],
      "text/plain": [
       "   java s112.1  java s1172  java s1133  java s119  java s1068.1  java s1181.1  \\\n",
       "0            0           0           1          0             0             0   \n",
       "1            0           0           0          8             0             0   \n",
       "2            0           0           0          0             0             0   \n",
       "3            0           0           3          0             1             0   \n",
       "4            3           0           0          0             0             0   \n",
       "5            0           0           0          0             0             0   \n",
       "\n",
       "   java s1068  java s1123.1  java s1187.1  java:S106  ...  java s1181  \\\n",
       "0           0             0             0          0  ...           0   \n",
       "1           0             0             0          1  ...           0   \n",
       "2           0             0             0          0  ...           0   \n",
       "3           0             0             0          0  ...           1   \n",
       "4           0             0             0          0  ...           0   \n",
       "5           0             0             0          0  ...           0   \n",
       "\n",
       "   java s1192.1  java s1123  java s1172.1  java s112  java:S106.1  \\\n",
       "0             0           0             0          6            0   \n",
       "1             0           0             0          0            0   \n",
       "2             0           0             0          4            4   \n",
       "3             0           3             0          0            0   \n",
       "4             0           0             3          2            0   \n",
       "5             0           0             0         10            0   \n",
       "\n",
       "   java s1133.1  java s 2293  java s 2293.1  java s1948  \n",
       "0             5            0              0           0  \n",
       "1             0            0              0           0  \n",
       "2             0            0              3           3  \n",
       "3             0            0              0           0  \n",
       "4             0            0              0           0  \n",
       "5             1            0              0           0  \n",
       "\n",
       "[6 rows x 28 columns]"
      ]
     },
     "execution_count": 12,
     "metadata": {},
     "output_type": "execute_result"
    }
   ],
   "source": [
    "rule"
   ]
  },
  {
   "cell_type": "markdown",
   "metadata": {
    "id": "3uriqWZGZwrl"
   },
   "source": [
    "Set data type time  "
   ]
  },
  {
   "cell_type": "code",
   "execution_count": 13,
   "metadata": {
    "id": "H1TspvmCT-Gd"
   },
   "outputs": [],
   "source": [
    "data_time = df[{'open_time' , 'closed_time' }]"
   ]
  },
  {
   "cell_type": "code",
   "execution_count": 14,
   "metadata": {
    "id": "KRILzAv9jvQn"
   },
   "outputs": [],
   "source": [
    "open_time = pd.to_datetime(df['open_time'])\n",
    "closed_time = pd.to_datetime(df['closed_time'])"
   ]
  },
  {
   "cell_type": "code",
   "execution_count": 15,
   "metadata": {
    "id": "DG_ZTQ8aUN3C"
   },
   "outputs": [],
   "source": [
    "df['cla_time'] = pd.to_datetime(df['closed_time']) - pd.to_datetime(df['open_time'])"
   ]
  },
  {
   "cell_type": "code",
   "execution_count": 16,
   "metadata": {
    "id": "GrEvaXY-UpmO"
   },
   "outputs": [],
   "source": [
    "cal_time = df['cla_time']"
   ]
  },
  {
   "cell_type": "markdown",
   "metadata": {
    "id": "sn8xUCKtnEBT"
   },
   "source": [
    "Information issus on GitHub "
   ]
  },
  {
   "cell_type": "code",
   "execution_count": 17,
   "metadata": {
    "id": "vgi32aodUAtE"
   },
   "outputs": [],
   "source": [
    "data_file = df[{'changed_file' , 'additions'  , 'deletions' , 'Dev' }]"
   ]
  },
  {
   "cell_type": "code",
   "execution_count": 18,
   "metadata": {
    "id": "KWSne01bkFQY"
   },
   "outputs": [],
   "source": [
    "changed_file = df['changed_file']"
   ]
  },
  {
   "cell_type": "code",
   "execution_count": 19,
   "metadata": {
    "id": "gCXDNGK0lEZW"
   },
   "outputs": [],
   "source": [
    "additions = df['additions']"
   ]
  },
  {
   "cell_type": "code",
   "execution_count": 20,
   "metadata": {
    "id": "f9aEipWMlHOr"
   },
   "outputs": [],
   "source": [
    "deletions = df['deletions']"
   ]
  },
  {
   "cell_type": "code",
   "execution_count": 21,
   "metadata": {
    "id": "NOFcZIdZlKDK"
   },
   "outputs": [],
   "source": [
    "Dev = df['Dev']"
   ]
  },
  {
   "cell_type": "markdown",
   "metadata": {
    "id": "ltDICOQkmYQM"
   },
   "source": [
    "data frame containing information "
   ]
  },
  {
   "cell_type": "code",
   "execution_count": 22,
   "metadata": {
    "id": "3907RNDUifhL"
   },
   "outputs": [],
   "source": [
    "data_flink =pd.DataFrame({ 'befor_commit' : befor_commit ,'after_commit' : after_commit , 'cal_smell' : cal_smell,\n",
    "                              'open_time' : open_time , 'closed_time' : closed_time , 'cal_time' : cal_time,\n",
    "                              'changed_file' : changed_file , 'additions' : additions , 'deletions': deletions , 'dev': Dev\n",
    "                            })"
   ]
  },
  {
   "cell_type": "code",
   "execution_count": 23,
   "metadata": {
    "colab": {
     "base_uri": "https://localhost:8080/",
     "height": 361
    },
    "id": "nLVCBXRek5et",
    "outputId": "fb7bf62c-eff1-4f15-a5ae-257ef723e577"
   },
   "outputs": [
    {
     "data": {
      "text/html": [
       "<div>\n",
       "<style scoped>\n",
       "    .dataframe tbody tr th:only-of-type {\n",
       "        vertical-align: middle;\n",
       "    }\n",
       "\n",
       "    .dataframe tbody tr th {\n",
       "        vertical-align: top;\n",
       "    }\n",
       "\n",
       "    .dataframe thead th {\n",
       "        text-align: right;\n",
       "    }\n",
       "</style>\n",
       "<table border=\"1\" class=\"dataframe\">\n",
       "  <thead>\n",
       "    <tr style=\"text-align: right;\">\n",
       "      <th></th>\n",
       "      <th>befor_commit</th>\n",
       "      <th>after_commit</th>\n",
       "      <th>cal_smell</th>\n",
       "      <th>open_time</th>\n",
       "      <th>closed_time</th>\n",
       "      <th>cal_time</th>\n",
       "      <th>changed_file</th>\n",
       "      <th>additions</th>\n",
       "      <th>deletions</th>\n",
       "      <th>dev</th>\n",
       "    </tr>\n",
       "  </thead>\n",
       "  <tbody>\n",
       "    <tr>\n",
       "      <th>0</th>\n",
       "      <td>8</td>\n",
       "      <td>5</td>\n",
       "      <td>-3</td>\n",
       "      <td>2015-09-01 22:25:00</td>\n",
       "      <td>2016-08-24 17:09:00</td>\n",
       "      <td>357 days 18:44:00</td>\n",
       "      <td>45</td>\n",
       "      <td>429</td>\n",
       "      <td>253</td>\n",
       "      <td>1</td>\n",
       "    </tr>\n",
       "    <tr>\n",
       "      <th>1</th>\n",
       "      <td>9</td>\n",
       "      <td>8</td>\n",
       "      <td>-1</td>\n",
       "      <td>2018-02-05 04:58:00</td>\n",
       "      <td>2018-04-05 21:07:00</td>\n",
       "      <td>59 days 16:09:00</td>\n",
       "      <td>15</td>\n",
       "      <td>843</td>\n",
       "      <td>327</td>\n",
       "      <td>2</td>\n",
       "    </tr>\n",
       "    <tr>\n",
       "      <th>2</th>\n",
       "      <td>7</td>\n",
       "      <td>7</td>\n",
       "      <td>0</td>\n",
       "      <td>2014-09-09 16:16:00</td>\n",
       "      <td>2015-01-08 23:40:00</td>\n",
       "      <td>121 days 07:24:00</td>\n",
       "      <td>9</td>\n",
       "      <td>326</td>\n",
       "      <td>148</td>\n",
       "      <td>1</td>\n",
       "    </tr>\n",
       "    <tr>\n",
       "      <th>3</th>\n",
       "      <td>17</td>\n",
       "      <td>1</td>\n",
       "      <td>-16</td>\n",
       "      <td>2021-03-16 20:12:00</td>\n",
       "      <td>2021-03-24 19:29:00</td>\n",
       "      <td>7 days 23:17:00</td>\n",
       "      <td>5</td>\n",
       "      <td>127</td>\n",
       "      <td>79</td>\n",
       "      <td>2</td>\n",
       "    </tr>\n",
       "    <tr>\n",
       "      <th>4</th>\n",
       "      <td>2</td>\n",
       "      <td>14</td>\n",
       "      <td>12</td>\n",
       "      <td>2018-07-09 17:02:00</td>\n",
       "      <td>2018-07-13 02:03:00</td>\n",
       "      <td>3 days 09:01:00</td>\n",
       "      <td>9</td>\n",
       "      <td>955</td>\n",
       "      <td>36</td>\n",
       "      <td>2</td>\n",
       "    </tr>\n",
       "    <tr>\n",
       "      <th>5</th>\n",
       "      <td>10</td>\n",
       "      <td>1</td>\n",
       "      <td>-9</td>\n",
       "      <td>2014-08-03 02:19:00</td>\n",
       "      <td>2014-08-18 21:22:00</td>\n",
       "      <td>15 days 19:03:00</td>\n",
       "      <td>32</td>\n",
       "      <td>249</td>\n",
       "      <td>1180</td>\n",
       "      <td>2</td>\n",
       "    </tr>\n",
       "  </tbody>\n",
       "</table>\n",
       "</div>"
      ],
      "text/plain": [
       "   befor_commit  after_commit  cal_smell           open_time  \\\n",
       "0             8             5         -3 2015-09-01 22:25:00   \n",
       "1             9             8         -1 2018-02-05 04:58:00   \n",
       "2             7             7          0 2014-09-09 16:16:00   \n",
       "3            17             1        -16 2021-03-16 20:12:00   \n",
       "4             2            14         12 2018-07-09 17:02:00   \n",
       "5            10             1         -9 2014-08-03 02:19:00   \n",
       "\n",
       "          closed_time          cal_time  changed_file  additions  deletions  \\\n",
       "0 2016-08-24 17:09:00 357 days 18:44:00            45        429        253   \n",
       "1 2018-04-05 21:07:00  59 days 16:09:00            15        843        327   \n",
       "2 2015-01-08 23:40:00 121 days 07:24:00             9        326        148   \n",
       "3 2021-03-24 19:29:00   7 days 23:17:00             5        127         79   \n",
       "4 2018-07-13 02:03:00   3 days 09:01:00             9        955         36   \n",
       "5 2014-08-18 21:22:00  15 days 19:03:00            32        249       1180   \n",
       "\n",
       "   dev  \n",
       "0    1  \n",
       "1    2  \n",
       "2    1  \n",
       "3    2  \n",
       "4    2  \n",
       "5    2  "
      ]
     },
     "execution_count": 23,
     "metadata": {},
     "output_type": "execute_result"
    }
   ],
   "source": [
    "data_flink"
   ]
  },
  {
   "cell_type": "markdown",
   "metadata": {
    "id": "KBl4vrhxaNxK"
   },
   "source": [
    "Jion columns data flink"
   ]
  }
 ],
 "metadata": {
  "colab": {
   "name": "Copy of Untitled0.ipynb",
   "provenance": []
  },
  "kernelspec": {
   "display_name": "Python 3",
   "language": "python",
   "name": "python3"
  },
  "language_info": {
   "codemirror_mode": {
    "name": "ipython",
    "version": 3
   },
   "file_extension": ".py",
   "mimetype": "text/x-python",
   "name": "python",
   "nbconvert_exporter": "python",
   "pygments_lexer": "ipython3",
   "version": "3.8.8"
  }
 },
 "nbformat": 4,
 "nbformat_minor": 1
}
