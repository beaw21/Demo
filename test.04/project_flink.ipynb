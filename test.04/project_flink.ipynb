{
 "cells": [
  {
   "cell_type": "markdown",
   "metadata": {
    "id": "6gJ3Q6a2RfqJ"
   },
   "source": [
    "**pandas data frames**"
   ]
  },
  {
   "cell_type": "code",
   "execution_count": 1,
   "metadata": {
    "id": "V0ynHeOPRzYJ"
   },
   "outputs": [],
   "source": [
    "from sklearn.datasets import load_wine\n",
    "import pandas as pd\n",
    "import numpy as np\n",
    "import re"
   ]
  },
  {
   "cell_type": "markdown",
   "metadata": {
    "id": "wGuhMQTJZfmz"
   },
   "source": [
    "read file csv"
   ]
  },
  {
   "cell_type": "code",
   "execution_count": 2,
   "metadata": {
    "id": "_DoPoAipSubP"
   },
   "outputs": [],
   "source": [
    "read_data_file = pd.read_csv('type_smells.csv')"
   ]
  },
  {
   "cell_type": "code",
   "execution_count": 3,
   "metadata": {
    "id": "ykuprLAqTABW"
   },
   "outputs": [],
   "source": [
    "df = pd.DataFrame(read_data_file)"
   ]
  },
  {
   "cell_type": "markdown",
   "metadata": {
    "id": "7wb81PePpyGj"
   },
   "source": [
    "part of smell"
   ]
  },
  {
   "cell_type": "code",
   "execution_count": 39,
   "metadata": {
    "id": "RUe2xJq4TzOr"
   },
   "outputs": [],
   "source": [
    "x1  = df[('s106_before')] + df[('s112_before')] + df[('s119_before')] +  df[('s1123_before')]  +  df[('s1133_before')] + df[('s1141_before')] "
   ]
  },
  {
   "cell_type": "code",
   "execution_count": 41,
   "metadata": {
    "colab": {
     "base_uri": "https://localhost:8080/",
     "height": 167
    },
    "id": "HSF9hyPKWi-q",
    "outputId": "4e94a166-533a-43c8-f93e-d5ea73be1d44"
   },
   "outputs": [],
   "source": [
    "x2 = df[('s1155_before')] + df[('s1168_before')] + df[('s1172_before')] +  df[('s1181_before')] + df[('s1187_before')] + df[('s1192_before')] "
   ]
  },
  {
   "cell_type": "code",
   "execution_count": 44,
   "metadata": {
    "id": "F38zT8wyi7aT"
   },
   "outputs": [],
   "source": [
    "x3  =  df[('s1199_before')] + df[('s1610_before')] + df[('s1612_before')] + df[('s1643_before')] + df[('s1874_before')] + df[('s1948_before')] "
   ]
  },
  {
   "cell_type": "code",
   "execution_count": 47,
   "metadata": {},
   "outputs": [],
   "source": [
    "x4  = df[('s1199_before.1')] + df[('s2139_before')] + df[('s2699_before')]  + df[('s2293_before')] + df[('s3011_before')]  +  df[('s3400_before')] "
   ]
  },
  {
   "cell_type": "code",
   "execution_count": 49,
   "metadata": {},
   "outputs": [],
   "source": [
    "x5  = df[('s3415_before')] + df[('s3358_before')] + df[('s3740_before')]  + df[('s3776_before')] + df[('s4042_before')]  +  df[('s5411_before')] "
   ]
  },
  {
   "cell_type": "code",
   "execution_count": 48,
   "metadata": {},
   "outputs": [],
   "source": [
    "x6  = df[('s5777_before')] + df[('s5993_before')] + df[('s6212_before')]  + df[('s6213_before')] "
   ]
  },
  {
   "cell_type": "code",
   "execution_count": 50,
   "metadata": {},
   "outputs": [],
   "source": [
    "befor_commit_smell = x1 +x2 + x3 +x4 +x5 + x6"
   ]
  },
  {
   "cell_type": "code",
   "execution_count": 67,
   "metadata": {},
   "outputs": [],
   "source": [
    "df['befor_commit_smell'] = befor_commit_smell"
   ]
  },
  {
   "cell_type": "code",
   "execution_count": 52,
   "metadata": {},
   "outputs": [],
   "source": [
    "y1  = df[('s106_after')] + df[('s112_after')] + df[('s119_after')] +  df[('s1123_after')]  +  df[('s1133_after')] + df[('s1141_after')] "
   ]
  },
  {
   "cell_type": "code",
   "execution_count": 53,
   "metadata": {},
   "outputs": [],
   "source": [
    "y2 = df[('s1155_after')] + df[('s1168_after')] + df[('s1172_after')] +  df[('s1181_after')] + df[('s1187_after')] + df[('s1192_after')] "
   ]
  },
  {
   "cell_type": "code",
   "execution_count": 56,
   "metadata": {},
   "outputs": [],
   "source": [
    "y3  =  df[('s1199_after')] + df[('s1610_after')] + df[('S1612_after')] + df[('s1643_after')] + df[('s1874_after')] + df[('s1948_after')] "
   ]
  },
  {
   "cell_type": "code",
   "execution_count": 57,
   "metadata": {},
   "outputs": [],
   "source": [
    "y4  = df[('s1199_after.1')] + df[('s2139_after')] + df[('s2699_after')]  + df[('s2293_after')] + df[('s3011_after')]  +  df[('s3400_after')] "
   ]
  },
  {
   "cell_type": "code",
   "execution_count": 58,
   "metadata": {},
   "outputs": [],
   "source": [
    "y5  = df[('s3415_after')] + df[('s3358_after')] + df[('s3740_after')]  + df[('s3776_after')] + df[('s4042_after')]  +  df[('s5411_after')] "
   ]
  },
  {
   "cell_type": "code",
   "execution_count": 59,
   "metadata": {},
   "outputs": [],
   "source": [
    "y6  = df[('s5777_after')] + df[('s5993_after')] + df[('S1612_after')]  + df[('s6213_after')] "
   ]
  },
  {
   "cell_type": "code",
   "execution_count": 60,
   "metadata": {},
   "outputs": [],
   "source": [
    "after_commit_smell = y1 +y2 + y3 +y4 +y5 + y6"
   ]
  },
  {
   "cell_type": "code",
   "execution_count": 66,
   "metadata": {},
   "outputs": [],
   "source": [
    "df['after_commit_smell'] = after_commit_smell"
   ]
  },
  {
   "cell_type": "code",
   "execution_count": 63,
   "metadata": {},
   "outputs": [],
   "source": [
    "df['cal_smell']  = after_commit_smell - befor_commit_smell"
   ]
  },
  {
   "cell_type": "code",
   "execution_count": null,
   "metadata": {},
   "outputs": [],
   "source": [
    "cal_smell = df"
   ]
  },
  {
   "cell_type": "markdown",
   "metadata": {
    "id": "fvCZj_gLp_Xu"
   },
   "source": [
    "columns list"
   ]
  },
  {
   "cell_type": "code",
   "execution_count": 22,
   "metadata": {
    "colab": {
     "base_uri": "https://localhost:8080/"
    },
    "id": "No2h4SagqucU",
    "outputId": "7f1cdfb4-3b21-4533-99c5-c926941ba9fb"
   },
   "outputs": [
    {
     "data": {
      "text/plain": [
       "['url',\n",
       " 'commit',\n",
       " 'parents',\n",
       " 's106_before',\n",
       " 's106_after',\n",
       " 's112_before',\n",
       " 's112_after',\n",
       " 's119_before',\n",
       " 's119_after',\n",
       " 's1123_before',\n",
       " 's1123_after',\n",
       " 's1133_before',\n",
       " 's1133_after',\n",
       " 's1141_before',\n",
       " 's1141_after',\n",
       " 's1155_before',\n",
       " 's1155_after',\n",
       " 's1168_before',\n",
       " 's1168_after',\n",
       " 's1172_before',\n",
       " 's1172_after',\n",
       " 's1181_before',\n",
       " 's1181_after',\n",
       " 's1187_before',\n",
       " 's1187_after',\n",
       " 's1192_before',\n",
       " 's1192_after',\n",
       " 's1199_before',\n",
       " 's1199_after',\n",
       " 's1610_before',\n",
       " 's1610_after',\n",
       " 's1612_before',\n",
       " 'S1612_after',\n",
       " 's1643_before',\n",
       " 's1643_after',\n",
       " 's1874_before',\n",
       " 's1874_after',\n",
       " 's1948_before',\n",
       " 's1948_after',\n",
       " 's1199_before.1',\n",
       " 's1199_after.1',\n",
       " 's2139_before',\n",
       " 's2139_after',\n",
       " 's2699_before',\n",
       " 's2699_after',\n",
       " 's2293_before',\n",
       " 's2293_after',\n",
       " 's3011_before',\n",
       " 's3011_after',\n",
       " 's3400_before',\n",
       " 's3400_after',\n",
       " 's3415_before',\n",
       " 's3415_after',\n",
       " 's3358_before',\n",
       " 's3358_after',\n",
       " 's3740_before',\n",
       " 's3740_after',\n",
       " 's3776_before',\n",
       " 's3776_after',\n",
       " 's4042_before',\n",
       " 's4042_after',\n",
       " 's5411_before',\n",
       " 's5411_after',\n",
       " 's5777_before',\n",
       " 's5777_after',\n",
       " 's5993_before',\n",
       " 's5993_after',\n",
       " 's6212_before',\n",
       " 's6212_after',\n",
       " 's6213_before',\n",
       " 's6213_after',\n",
       " 'open_time',\n",
       " 'closed_time',\n",
       " 'changed_file',\n",
       " 'additions',\n",
       " 'deletions',\n",
       " 'Dev']"
      ]
     },
     "execution_count": 22,
     "metadata": {},
     "output_type": "execute_result"
    }
   ],
   "source": [
    "list(df.columns)"
   ]
  },
  {
   "cell_type": "code",
   "execution_count": 68,
   "metadata": {
    "id": "rLlM1p-zrUNy"
   },
   "outputs": [],
   "source": [
    "rule  = df[{\n",
    "     's106_before',\n",
    " 's106_after',\n",
    " 's112_before',\n",
    " 's112_after',\n",
    " 's119_before',\n",
    " 's119_after',\n",
    " 's1123_before',\n",
    " 's1123_after',\n",
    " 's1133_before',\n",
    " 's1133_after',\n",
    " 's1141_before',\n",
    " 's1141_after',\n",
    " 's1155_before',\n",
    " 's1155_after',\n",
    " 's1168_before',\n",
    " 's1168_after',\n",
    " 's1172_before',\n",
    " 's1172_after',\n",
    " 's1181_before',\n",
    " 's1181_after',\n",
    " 's1187_before',\n",
    " 's1187_after',\n",
    " 's1192_before',\n",
    " 's1192_after',\n",
    " 's1199_before',\n",
    " 's1199_after',\n",
    " 's1610_before',\n",
    " 's1610_after',\n",
    " 's1612_before',\n",
    " 'S1612_after',\n",
    " 's1643_before',\n",
    " 's1643_after',\n",
    " 's1874_before',\n",
    " 's1874_after',\n",
    " 's1948_before',\n",
    " 's1948_after',\n",
    " 's1199_before.1',\n",
    " 's1199_after.1',\n",
    " 's2139_before',\n",
    " 's2139_after',\n",
    " 's2699_before',\n",
    " 's2699_after',\n",
    " 's2293_before',\n",
    " 's2293_after',\n",
    " 's3011_before',\n",
    " 's3011_after',\n",
    " 's3400_before',\n",
    " 's3400_after',\n",
    " 's3415_before',\n",
    " 's3415_after',\n",
    " 's3358_before',\n",
    " 's3358_after',\n",
    " 's3740_before',\n",
    " 's3740_after',\n",
    " 's3776_before',\n",
    " 's3776_after',\n",
    " 's4042_before',\n",
    " 's4042_after',\n",
    " 's5411_before',\n",
    " 's5411_after',\n",
    " 's5777_before',\n",
    " 's5777_after',\n",
    " 's5993_before',\n",
    " 's5993_after',\n",
    " 's6212_before',\n",
    " 's6212_after',\n",
    " 's6213_before',\n",
    " 's6213_after'\n",
    "}]"
   ]
  },
  {
   "cell_type": "markdown",
   "metadata": {
    "id": "3uriqWZGZwrl"
   },
   "source": [
    "Set data type time  "
   ]
  },
  {
   "cell_type": "code",
   "execution_count": 71,
   "metadata": {
    "id": "H1TspvmCT-Gd"
   },
   "outputs": [],
   "source": [
    "data_time = df[{'open_time' , 'closed_time' }]"
   ]
  },
  {
   "cell_type": "code",
   "execution_count": 72,
   "metadata": {
    "id": "KRILzAv9jvQn"
   },
   "outputs": [],
   "source": [
    "open_time = pd.to_datetime(df['open_time'])\n",
    "closed_time = pd.to_datetime(df['closed_time'])"
   ]
  },
  {
   "cell_type": "code",
   "execution_count": 73,
   "metadata": {
    "id": "DG_ZTQ8aUN3C"
   },
   "outputs": [],
   "source": [
    "df['cla_time'] = pd.to_datetime(df['closed_time']) - pd.to_datetime(df['open_time'])"
   ]
  },
  {
   "cell_type": "code",
   "execution_count": 74,
   "metadata": {
    "id": "GrEvaXY-UpmO"
   },
   "outputs": [],
   "source": [
    "cal_time = df['cla_time']"
   ]
  },
  {
   "cell_type": "markdown",
   "metadata": {
    "id": "sn8xUCKtnEBT"
   },
   "source": [
    "Information issus on GitHub "
   ]
  },
  {
   "cell_type": "code",
   "execution_count": 75,
   "metadata": {
    "id": "vgi32aodUAtE"
   },
   "outputs": [],
   "source": [
    "data_file = df[{'changed_file' , 'additions'  , 'deletions' , 'Dev' }]"
   ]
  },
  {
   "cell_type": "code",
   "execution_count": 76,
   "metadata": {
    "id": "KWSne01bkFQY"
   },
   "outputs": [],
   "source": [
    "changed_file = df['changed_file']"
   ]
  },
  {
   "cell_type": "code",
   "execution_count": 77,
   "metadata": {
    "id": "gCXDNGK0lEZW"
   },
   "outputs": [],
   "source": [
    "additions = df['additions']"
   ]
  },
  {
   "cell_type": "code",
   "execution_count": 78,
   "metadata": {
    "id": "f9aEipWMlHOr"
   },
   "outputs": [],
   "source": [
    "deletions = df['deletions']"
   ]
  },
  {
   "cell_type": "code",
   "execution_count": 79,
   "metadata": {
    "id": "NOFcZIdZlKDK"
   },
   "outputs": [],
   "source": [
    "Dev = df['Dev']"
   ]
  },
  {
   "cell_type": "markdown",
   "metadata": {
    "id": "ltDICOQkmYQM"
   },
   "source": [
    "data frame containing information "
   ]
  },
  {
   "cell_type": "code",
   "execution_count": 80,
   "metadata": {
    "id": "3907RNDUifhL"
   },
   "outputs": [
    {
     "ename": "NameError",
     "evalue": "name 'cal_smell' is not defined",
     "output_type": "error",
     "traceback": [
      "\u001b[1;31m---------------------------------------------------------------------------\u001b[0m",
      "\u001b[1;31mNameError\u001b[0m                                 Traceback (most recent call last)",
      "\u001b[1;32m<ipython-input-80-7298136ae68f>\u001b[0m in \u001b[0;36m<module>\u001b[1;34m\u001b[0m\n\u001b[1;32m----> 1\u001b[1;33m data_flink =pd.DataFrame({  'befor_commit_smell ' : befor_commit_smell , 'after_commit_smell' : after_commit_smell, 'cal_smell' : cal_smell,\n\u001b[0m\u001b[0;32m      2\u001b[0m                               \u001b[1;34m'open_time'\u001b[0m \u001b[1;33m:\u001b[0m \u001b[0mopen_time\u001b[0m \u001b[1;33m,\u001b[0m \u001b[1;34m'closed_time'\u001b[0m \u001b[1;33m:\u001b[0m \u001b[0mclosed_time\u001b[0m \u001b[1;33m,\u001b[0m \u001b[1;34m'cal_time'\u001b[0m \u001b[1;33m:\u001b[0m \u001b[0mcal_time\u001b[0m\u001b[1;33m,\u001b[0m\u001b[1;33m\u001b[0m\u001b[1;33m\u001b[0m\u001b[0m\n\u001b[0;32m      3\u001b[0m                               \u001b[1;34m'changed_file'\u001b[0m \u001b[1;33m:\u001b[0m \u001b[0mchanged_file\u001b[0m \u001b[1;33m,\u001b[0m \u001b[1;34m'additions'\u001b[0m \u001b[1;33m:\u001b[0m \u001b[0madditions\u001b[0m \u001b[1;33m,\u001b[0m \u001b[1;34m'deletions'\u001b[0m\u001b[1;33m:\u001b[0m \u001b[0mdeletions\u001b[0m \u001b[1;33m,\u001b[0m \u001b[1;34m'dev'\u001b[0m\u001b[1;33m:\u001b[0m \u001b[0mDev\u001b[0m\u001b[1;33m\u001b[0m\u001b[1;33m\u001b[0m\u001b[0m\n\u001b[0;32m      4\u001b[0m                             })\n",
      "\u001b[1;31mNameError\u001b[0m: name 'cal_smell' is not defined"
     ]
    }
   ],
   "source": [
    "data_flink =pd.DataFrame({  'befor_commit_smell ' : befor_commit_smell , 'after_commit_smell' : after_commit_smell, 'cal_smell' : cal_smell,\n",
    "                              'open_time' : open_time , 'closed_time' : closed_time , 'cal_time' : cal_time,\n",
    "                              'changed_file' : changed_file , 'additions' : additions , 'deletions': deletions , 'dev': Dev\n",
    "                            })"
   ]
  },
  {
   "cell_type": "code",
   "execution_count": 20,
   "metadata": {
    "colab": {
     "base_uri": "https://localhost:8080/",
     "height": 361
    },
    "id": "nLVCBXRek5et",
    "outputId": "fb7bf62c-eff1-4f15-a5ae-257ef723e577"
   },
   "outputs": [
    {
     "data": {
      "text/html": [
       "<div>\n",
       "<style scoped>\n",
       "    .dataframe tbody tr th:only-of-type {\n",
       "        vertical-align: middle;\n",
       "    }\n",
       "\n",
       "    .dataframe tbody tr th {\n",
       "        vertical-align: top;\n",
       "    }\n",
       "\n",
       "    .dataframe thead th {\n",
       "        text-align: right;\n",
       "    }\n",
       "</style>\n",
       "<table border=\"1\" class=\"dataframe\">\n",
       "  <thead>\n",
       "    <tr style=\"text-align: right;\">\n",
       "      <th></th>\n",
       "      <th>open_time</th>\n",
       "      <th>closed_time</th>\n",
       "      <th>cal_time</th>\n",
       "      <th>changed_file</th>\n",
       "      <th>additions</th>\n",
       "      <th>deletions</th>\n",
       "      <th>dev</th>\n",
       "    </tr>\n",
       "  </thead>\n",
       "  <tbody>\n",
       "    <tr>\n",
       "      <th>0</th>\n",
       "      <td>2015-09-01 22:25:00</td>\n",
       "      <td>2016-08-24 17:09:00</td>\n",
       "      <td>357 days 18:44:00</td>\n",
       "      <td>45</td>\n",
       "      <td>429</td>\n",
       "      <td>253</td>\n",
       "      <td>1</td>\n",
       "    </tr>\n",
       "    <tr>\n",
       "      <th>1</th>\n",
       "      <td>2018-02-05 04:58:00</td>\n",
       "      <td>2018-04-05 21:07:00</td>\n",
       "      <td>59 days 16:09:00</td>\n",
       "      <td>15</td>\n",
       "      <td>843</td>\n",
       "      <td>327</td>\n",
       "      <td>2</td>\n",
       "    </tr>\n",
       "    <tr>\n",
       "      <th>2</th>\n",
       "      <td>2014-09-09 16:16:00</td>\n",
       "      <td>2015-01-08 23:40:00</td>\n",
       "      <td>121 days 07:24:00</td>\n",
       "      <td>9</td>\n",
       "      <td>326</td>\n",
       "      <td>148</td>\n",
       "      <td>1</td>\n",
       "    </tr>\n",
       "    <tr>\n",
       "      <th>3</th>\n",
       "      <td>2021-03-16 20:12:00</td>\n",
       "      <td>2021-03-24 19:29:00</td>\n",
       "      <td>7 days 23:17:00</td>\n",
       "      <td>5</td>\n",
       "      <td>127</td>\n",
       "      <td>79</td>\n",
       "      <td>2</td>\n",
       "    </tr>\n",
       "    <tr>\n",
       "      <th>4</th>\n",
       "      <td>2018-07-09 17:02:00</td>\n",
       "      <td>2018-07-13 02:03:00</td>\n",
       "      <td>3 days 09:01:00</td>\n",
       "      <td>9</td>\n",
       "      <td>955</td>\n",
       "      <td>36</td>\n",
       "      <td>2</td>\n",
       "    </tr>\n",
       "    <tr>\n",
       "      <th>5</th>\n",
       "      <td>2014-08-03 02:19:00</td>\n",
       "      <td>2014-08-18 21:22:00</td>\n",
       "      <td>15 days 19:03:00</td>\n",
       "      <td>32</td>\n",
       "      <td>249</td>\n",
       "      <td>1180</td>\n",
       "      <td>2</td>\n",
       "    </tr>\n",
       "    <tr>\n",
       "      <th>6</th>\n",
       "      <td>2016-04-02 18:10:00</td>\n",
       "      <td>2016-04-21 03:52:00</td>\n",
       "      <td>18 days 09:42:00</td>\n",
       "      <td>8</td>\n",
       "      <td>905</td>\n",
       "      <td>37</td>\n",
       "      <td>2</td>\n",
       "    </tr>\n",
       "    <tr>\n",
       "      <th>7</th>\n",
       "      <td>2014-12-12 21:55:00</td>\n",
       "      <td>2014-12-19 00:58:00</td>\n",
       "      <td>6 days 03:03:00</td>\n",
       "      <td>47</td>\n",
       "      <td>8283</td>\n",
       "      <td>8783</td>\n",
       "      <td>1</td>\n",
       "    </tr>\n",
       "    <tr>\n",
       "      <th>8</th>\n",
       "      <td>2017-02-17 10:19:00</td>\n",
       "      <td>2017-02-23 22:56:00</td>\n",
       "      <td>6 days 12:37:00</td>\n",
       "      <td>34</td>\n",
       "      <td>2887</td>\n",
       "      <td>9</td>\n",
       "      <td>2</td>\n",
       "    </tr>\n",
       "    <tr>\n",
       "      <th>9</th>\n",
       "      <td>2019-11-15 22:59:00</td>\n",
       "      <td>2019-11-20 19:15:00</td>\n",
       "      <td>4 days 20:16:00</td>\n",
       "      <td>3</td>\n",
       "      <td>27</td>\n",
       "      <td>7</td>\n",
       "      <td>2</td>\n",
       "    </tr>\n",
       "    <tr>\n",
       "      <th>10</th>\n",
       "      <td>2020-06-11 16:30:00</td>\n",
       "      <td>2020-06-15 23:20:00</td>\n",
       "      <td>4 days 06:50:00</td>\n",
       "      <td>7</td>\n",
       "      <td>408</td>\n",
       "      <td>273</td>\n",
       "      <td>1</td>\n",
       "    </tr>\n",
       "    <tr>\n",
       "      <th>11</th>\n",
       "      <td>2020-04-18 21:42:00</td>\n",
       "      <td>2020-04-18 21:42:00</td>\n",
       "      <td>0 days 00:00:00</td>\n",
       "      <td>14</td>\n",
       "      <td>771</td>\n",
       "      <td>34</td>\n",
       "      <td>1</td>\n",
       "    </tr>\n",
       "    <tr>\n",
       "      <th>12</th>\n",
       "      <td>2019-11-27 10:55:00</td>\n",
       "      <td>2019-11-27 10:55:00</td>\n",
       "      <td>0 days 00:00:00</td>\n",
       "      <td>257</td>\n",
       "      <td>26188</td>\n",
       "      <td>0</td>\n",
       "      <td>2</td>\n",
       "    </tr>\n",
       "    <tr>\n",
       "      <th>13</th>\n",
       "      <td>2017-06-08 10:38:00</td>\n",
       "      <td>2017-08-10 16:36:00</td>\n",
       "      <td>63 days 05:58:00</td>\n",
       "      <td>22</td>\n",
       "      <td>375</td>\n",
       "      <td>113</td>\n",
       "      <td>2</td>\n",
       "    </tr>\n",
       "    <tr>\n",
       "      <th>14</th>\n",
       "      <td>2020-09-26 21:26:00</td>\n",
       "      <td>2020-09-30 08:44:00</td>\n",
       "      <td>3 days 11:18:00</td>\n",
       "      <td>15</td>\n",
       "      <td>486</td>\n",
       "      <td>21</td>\n",
       "      <td>2</td>\n",
       "    </tr>\n",
       "    <tr>\n",
       "      <th>15</th>\n",
       "      <td>2010-12-17 01:09:00</td>\n",
       "      <td>2011-01-06 02:57:00</td>\n",
       "      <td>20 days 01:48:00</td>\n",
       "      <td>882</td>\n",
       "      <td>156,857</td>\n",
       "      <td>0</td>\n",
       "      <td>2</td>\n",
       "    </tr>\n",
       "    <tr>\n",
       "      <th>16</th>\n",
       "      <td>2012-11-05 06:13:00</td>\n",
       "      <td>2013-01-25 02:17:00</td>\n",
       "      <td>80 days 20:04:00</td>\n",
       "      <td>89</td>\n",
       "      <td>3248</td>\n",
       "      <td>298</td>\n",
       "      <td>1</td>\n",
       "    </tr>\n",
       "    <tr>\n",
       "      <th>17</th>\n",
       "      <td>2012-08-15 20:39:00</td>\n",
       "      <td>2012-08-15 23:26:00</td>\n",
       "      <td>0 days 02:47:00</td>\n",
       "      <td>9</td>\n",
       "      <td>129</td>\n",
       "      <td>71</td>\n",
       "      <td>1</td>\n",
       "    </tr>\n",
       "    <tr>\n",
       "      <th>18</th>\n",
       "      <td>2013-11-08 21:28:00</td>\n",
       "      <td>2013-11-11 21:51:00</td>\n",
       "      <td>3 days 00:23:00</td>\n",
       "      <td>3</td>\n",
       "      <td>317</td>\n",
       "      <td>207</td>\n",
       "      <td>1</td>\n",
       "    </tr>\n",
       "    <tr>\n",
       "      <th>19</th>\n",
       "      <td>2013-01-19 06:57:00</td>\n",
       "      <td>2013-04-29 20:09:00</td>\n",
       "      <td>100 days 13:12:00</td>\n",
       "      <td>1388</td>\n",
       "      <td>221080</td>\n",
       "      <td>0</td>\n",
       "      <td>1</td>\n",
       "    </tr>\n",
       "    <tr>\n",
       "      <th>20</th>\n",
       "      <td>2014-09-24 20:00:00</td>\n",
       "      <td>2014-10-06 21:20:00</td>\n",
       "      <td>12 days 01:20:00</td>\n",
       "      <td>60</td>\n",
       "      <td>3643</td>\n",
       "      <td>1652</td>\n",
       "      <td>2</td>\n",
       "    </tr>\n",
       "    <tr>\n",
       "      <th>21</th>\n",
       "      <td>2014-11-10 22:11:00</td>\n",
       "      <td>2014-12-10 22:29:00</td>\n",
       "      <td>30 days 00:18:00</td>\n",
       "      <td>15</td>\n",
       "      <td>1136</td>\n",
       "      <td>1874</td>\n",
       "      <td>2</td>\n",
       "    </tr>\n",
       "    <tr>\n",
       "      <th>22</th>\n",
       "      <td>2014-03-16 17:01:00</td>\n",
       "      <td>2014-11-20 21:29:00</td>\n",
       "      <td>249 days 04:28:00</td>\n",
       "      <td>12</td>\n",
       "      <td>689</td>\n",
       "      <td>6</td>\n",
       "      <td>1</td>\n",
       "    </tr>\n",
       "    <tr>\n",
       "      <th>23</th>\n",
       "      <td>2014-08-18 21:22:00</td>\n",
       "      <td>2014-09-07 04:08:00</td>\n",
       "      <td>19 days 06:46:00</td>\n",
       "      <td>77</td>\n",
       "      <td>577</td>\n",
       "      <td>669</td>\n",
       "      <td>2</td>\n",
       "    </tr>\n",
       "    <tr>\n",
       "      <th>24</th>\n",
       "      <td>2015-06-05 20:34:00</td>\n",
       "      <td>2015-06-10 19:26:00</td>\n",
       "      <td>4 days 22:52:00</td>\n",
       "      <td>3</td>\n",
       "      <td>18</td>\n",
       "      <td>12</td>\n",
       "      <td>1</td>\n",
       "    </tr>\n",
       "    <tr>\n",
       "      <th>25</th>\n",
       "      <td>2015-07-11 19:00:00</td>\n",
       "      <td>2015-06-06 18:56:00</td>\n",
       "      <td>-36 days +23:56:00</td>\n",
       "      <td>5</td>\n",
       "      <td>10</td>\n",
       "      <td>10</td>\n",
       "      <td>2</td>\n",
       "    </tr>\n",
       "    <tr>\n",
       "      <th>26</th>\n",
       "      <td>2016-09-21 03:03:00</td>\n",
       "      <td>2016-10-14 21:36:00</td>\n",
       "      <td>23 days 18:33:00</td>\n",
       "      <td>55</td>\n",
       "      <td>2553</td>\n",
       "      <td>226</td>\n",
       "      <td>2</td>\n",
       "    </tr>\n",
       "    <tr>\n",
       "      <th>27</th>\n",
       "      <td>2019-07-03 16:47:00</td>\n",
       "      <td>2019-08-05 18:25:00</td>\n",
       "      <td>33 days 01:38:00</td>\n",
       "      <td>13</td>\n",
       "      <td>90</td>\n",
       "      <td>5</td>\n",
       "      <td>2</td>\n",
       "    </tr>\n",
       "    <tr>\n",
       "      <th>28</th>\n",
       "      <td>2021-09-09 21:41:00</td>\n",
       "      <td>2021-09-16 02:14:00</td>\n",
       "      <td>6 days 04:33:00</td>\n",
       "      <td>5</td>\n",
       "      <td>502</td>\n",
       "      <td>64</td>\n",
       "      <td>2</td>\n",
       "    </tr>\n",
       "    <tr>\n",
       "      <th>29</th>\n",
       "      <td>2020-11-09 09:45:00</td>\n",
       "      <td>2020-12-27 12:52:00</td>\n",
       "      <td>48 days 03:07:00</td>\n",
       "      <td>13</td>\n",
       "      <td>314</td>\n",
       "      <td>201</td>\n",
       "      <td>1</td>\n",
       "    </tr>\n",
       "  </tbody>\n",
       "</table>\n",
       "</div>"
      ],
      "text/plain": [
       "             open_time         closed_time           cal_time  changed_file  \\\n",
       "0  2015-09-01 22:25:00 2016-08-24 17:09:00  357 days 18:44:00            45   \n",
       "1  2018-02-05 04:58:00 2018-04-05 21:07:00   59 days 16:09:00            15   \n",
       "2  2014-09-09 16:16:00 2015-01-08 23:40:00  121 days 07:24:00             9   \n",
       "3  2021-03-16 20:12:00 2021-03-24 19:29:00    7 days 23:17:00             5   \n",
       "4  2018-07-09 17:02:00 2018-07-13 02:03:00    3 days 09:01:00             9   \n",
       "5  2014-08-03 02:19:00 2014-08-18 21:22:00   15 days 19:03:00            32   \n",
       "6  2016-04-02 18:10:00 2016-04-21 03:52:00   18 days 09:42:00             8   \n",
       "7  2014-12-12 21:55:00 2014-12-19 00:58:00    6 days 03:03:00            47   \n",
       "8  2017-02-17 10:19:00 2017-02-23 22:56:00    6 days 12:37:00            34   \n",
       "9  2019-11-15 22:59:00 2019-11-20 19:15:00    4 days 20:16:00             3   \n",
       "10 2020-06-11 16:30:00 2020-06-15 23:20:00    4 days 06:50:00             7   \n",
       "11 2020-04-18 21:42:00 2020-04-18 21:42:00    0 days 00:00:00            14   \n",
       "12 2019-11-27 10:55:00 2019-11-27 10:55:00    0 days 00:00:00           257   \n",
       "13 2017-06-08 10:38:00 2017-08-10 16:36:00   63 days 05:58:00            22   \n",
       "14 2020-09-26 21:26:00 2020-09-30 08:44:00    3 days 11:18:00            15   \n",
       "15 2010-12-17 01:09:00 2011-01-06 02:57:00   20 days 01:48:00           882   \n",
       "16 2012-11-05 06:13:00 2013-01-25 02:17:00   80 days 20:04:00            89   \n",
       "17 2012-08-15 20:39:00 2012-08-15 23:26:00    0 days 02:47:00             9   \n",
       "18 2013-11-08 21:28:00 2013-11-11 21:51:00    3 days 00:23:00             3   \n",
       "19 2013-01-19 06:57:00 2013-04-29 20:09:00  100 days 13:12:00          1388   \n",
       "20 2014-09-24 20:00:00 2014-10-06 21:20:00   12 days 01:20:00            60   \n",
       "21 2014-11-10 22:11:00 2014-12-10 22:29:00   30 days 00:18:00            15   \n",
       "22 2014-03-16 17:01:00 2014-11-20 21:29:00  249 days 04:28:00            12   \n",
       "23 2014-08-18 21:22:00 2014-09-07 04:08:00   19 days 06:46:00            77   \n",
       "24 2015-06-05 20:34:00 2015-06-10 19:26:00    4 days 22:52:00             3   \n",
       "25 2015-07-11 19:00:00 2015-06-06 18:56:00 -36 days +23:56:00             5   \n",
       "26 2016-09-21 03:03:00 2016-10-14 21:36:00   23 days 18:33:00            55   \n",
       "27 2019-07-03 16:47:00 2019-08-05 18:25:00   33 days 01:38:00            13   \n",
       "28 2021-09-09 21:41:00 2021-09-16 02:14:00    6 days 04:33:00             5   \n",
       "29 2020-11-09 09:45:00 2020-12-27 12:52:00   48 days 03:07:00            13   \n",
       "\n",
       "   additions  deletions  dev  \n",
       "0        429        253    1  \n",
       "1        843        327    2  \n",
       "2        326        148    1  \n",
       "3        127         79    2  \n",
       "4        955         36    2  \n",
       "5        249       1180    2  \n",
       "6        905         37    2  \n",
       "7       8283       8783    1  \n",
       "8       2887          9    2  \n",
       "9         27          7    2  \n",
       "10       408        273    1  \n",
       "11       771         34    1  \n",
       "12     26188          0    2  \n",
       "13       375        113    2  \n",
       "14       486         21    2  \n",
       "15   156,857          0    2  \n",
       "16      3248        298    1  \n",
       "17       129         71    1  \n",
       "18       317        207    1  \n",
       "19    221080          0    1  \n",
       "20      3643       1652    2  \n",
       "21      1136       1874    2  \n",
       "22       689          6    1  \n",
       "23       577        669    2  \n",
       "24        18         12    1  \n",
       "25        10         10    2  \n",
       "26      2553        226    2  \n",
       "27        90          5    2  \n",
       "28       502         64    2  \n",
       "29       314        201    1  "
      ]
     },
     "execution_count": 20,
     "metadata": {},
     "output_type": "execute_result"
    }
   ],
   "source": [
    "data_flink"
   ]
  },
  {
   "cell_type": "markdown",
   "metadata": {
    "id": "KBl4vrhxaNxK"
   },
   "source": [
    "Jion columns data flink"
   ]
  }
 ],
 "metadata": {
  "colab": {
   "name": "Copy of Untitled0.ipynb",
   "provenance": []
  },
  "kernelspec": {
   "display_name": "Python 3",
   "language": "python",
   "name": "python3"
  },
  "language_info": {
   "codemirror_mode": {
    "name": "ipython",
    "version": 3
   },
   "file_extension": ".py",
   "mimetype": "text/x-python",
   "name": "python",
   "nbconvert_exporter": "python",
   "pygments_lexer": "ipython3",
   "version": "3.8.8"
  }
 },
 "nbformat": 4,
 "nbformat_minor": 1
}
