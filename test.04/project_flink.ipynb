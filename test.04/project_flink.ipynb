{
 "cells": [
  {
   "cell_type": "markdown",
   "metadata": {
    "id": "6gJ3Q6a2RfqJ"
   },
   "source": [
    "**pandas data frames**"
   ]
  },
  {
   "cell_type": "code",
   "execution_count": 83,
   "metadata": {
    "id": "V0ynHeOPRzYJ"
   },
   "outputs": [],
   "source": [
    "from sklearn.datasets import load_wine\n",
    "import pandas as pd\n",
    "import numpy as np"
   ]
  },
  {
   "cell_type": "markdown",
   "metadata": {
    "id": "wGuhMQTJZfmz"
   },
   "source": [
    "read file csv"
   ]
  },
  {
   "cell_type": "code",
   "execution_count": 84,
   "metadata": {
    "id": "_DoPoAipSubP"
   },
   "outputs": [],
   "source": [
    "read_data_file = pd.read_csv('type_smells.csv')"
   ]
  },
  {
   "cell_type": "code",
   "execution_count": 85,
   "metadata": {
    "id": "ykuprLAqTABW"
   },
   "outputs": [],
   "source": [
    "df = pd.DataFrame(read_data_file)"
   ]
  },
  {
   "cell_type": "markdown",
   "metadata": {
    "id": "7wb81PePpyGj"
   },
   "source": [
    "part of smell"
   ]
  },
  {
   "cell_type": "code",
   "execution_count": 86,
   "metadata": {},
   "outputs": [],
   "source": [
    "group_smell_befor = df['group_smell_befor']"
   ]
  },
  {
   "cell_type": "code",
   "execution_count": 87,
   "metadata": {},
   "outputs": [],
   "source": [
    "group_smell_after = df['group_smell_after']"
   ]
  },
  {
   "cell_type": "code",
   "execution_count": 88,
   "metadata": {},
   "outputs": [],
   "source": [
    "number_group_befor = df['number_group_befor']"
   ]
  },
  {
   "cell_type": "code",
   "execution_count": 89,
   "metadata": {},
   "outputs": [],
   "source": [
    "number_group_after = df['number_group_after']"
   ]
  },
  {
   "cell_type": "code",
   "execution_count": 90,
   "metadata": {},
   "outputs": [],
   "source": [
    "commit_befor_sm = df.filter(regex='_befor')"
   ]
  },
  {
   "cell_type": "code",
   "execution_count": 91,
   "metadata": {},
   "outputs": [],
   "source": [
    "commit_after_sm = df.filter(regex='_after')"
   ]
  },
  {
   "cell_type": "code",
   "execution_count": 92,
   "metadata": {},
   "outputs": [
    {
     "data": {
      "text/plain": [
       "0      6\n",
       "1     12\n",
       "2      9\n",
       "3      5\n",
       "4      7\n",
       "5      2\n",
       "6     18\n",
       "7      4\n",
       "8      2\n",
       "9      4\n",
       "10     4\n",
       "11     2\n",
       "12     1\n",
       "13    26\n",
       "14     7\n",
       "15    14\n",
       "16    21\n",
       "17     2\n",
       "18    11\n",
       "19    32\n",
       "20     3\n",
       "21    12\n",
       "22    10\n",
       "23     6\n",
       "24     7\n",
       "25     8\n",
       "26     4\n",
       "27     2\n",
       "28     1\n",
       "29     5\n",
       "dtype: int64"
      ]
     },
     "execution_count": 92,
     "metadata": {},
     "output_type": "execute_result"
    }
   ],
   "source": [
    "commit_after_sm.sum(axis=1)"
   ]
  },
  {
   "cell_type": "code",
   "execution_count": 93,
   "metadata": {},
   "outputs": [],
   "source": [
    "df['commit_after'] = commit_after_sm.sum(axis=1)"
   ]
  },
  {
   "cell_type": "code",
   "execution_count": 94,
   "metadata": {},
   "outputs": [],
   "source": [
    "commit_after = df['commit_after']"
   ]
  },
  {
   "cell_type": "code",
   "execution_count": 95,
   "metadata": {},
   "outputs": [
    {
     "data": {
      "text/plain": [
       "0      9\n",
       "1     11\n",
       "2      9\n",
       "3     18\n",
       "4      4\n",
       "5     12\n",
       "6      3\n",
       "7      7\n",
       "8      6\n",
       "9      3\n",
       "10    11\n",
       "11    12\n",
       "12    22\n",
       "13     1\n",
       "14     7\n",
       "15    12\n",
       "16    29\n",
       "17     1\n",
       "18     2\n",
       "19    24\n",
       "20    12\n",
       "21     2\n",
       "22     6\n",
       "23    10\n",
       "24     7\n",
       "25     2\n",
       "26     8\n",
       "27     8\n",
       "28    12\n",
       "29    24\n",
       "dtype: int64"
      ]
     },
     "execution_count": 95,
     "metadata": {},
     "output_type": "execute_result"
    }
   ],
   "source": [
    "commit_befor_sm.sum(axis=1)"
   ]
  },
  {
   "cell_type": "code",
   "execution_count": 96,
   "metadata": {},
   "outputs": [],
   "source": [
    "df['commit_befor'] = commit_befor_sm.sum(axis=1)"
   ]
  },
  {
   "cell_type": "code",
   "execution_count": 97,
   "metadata": {},
   "outputs": [],
   "source": [
    "commit_befor = df['commit_befor']"
   ]
  },
  {
   "cell_type": "code",
   "execution_count": 98,
   "metadata": {},
   "outputs": [],
   "source": [
    "df['cal_smell']  = commit_after_sm.sum(axis=1) - commit_befor_sm.sum(axis=1)"
   ]
  },
  {
   "cell_type": "code",
   "execution_count": 99,
   "metadata": {},
   "outputs": [],
   "source": [
    "cal_smell =  df['cal_smell']"
   ]
  },
  {
   "cell_type": "markdown",
   "metadata": {
    "id": "fvCZj_gLp_Xu"
   },
   "source": [
    "columns list"
   ]
  },
  {
   "cell_type": "code",
   "execution_count": 100,
   "metadata": {
    "colab": {
     "base_uri": "https://localhost:8080/"
    },
    "id": "No2h4SagqucU",
    "outputId": "7f1cdfb4-3b21-4533-99c5-c926941ba9fb"
   },
   "outputs": [
    {
     "data": {
      "text/plain": [
       "['url',\n",
       " 'commit',\n",
       " 'parents',\n",
       " 's106_before',\n",
       " 's106_after',\n",
       " 's112_before',\n",
       " 's112_after',\n",
       " 's119_before',\n",
       " 's119_after',\n",
       " 's1123_before',\n",
       " 's1123_after',\n",
       " 's1133_before',\n",
       " 's1133_after',\n",
       " 's1141_before',\n",
       " 's1141_after',\n",
       " 's1155_before',\n",
       " 's1155_after',\n",
       " 's1168_before',\n",
       " 's1168_after',\n",
       " 's1172_before',\n",
       " 's1172_after',\n",
       " 's1181_before',\n",
       " 's1181_after',\n",
       " 's1187_before',\n",
       " 's1187_after',\n",
       " 's1192_before',\n",
       " 's1192_after',\n",
       " 's1199_before',\n",
       " 's1199_after',\n",
       " 's1610_before',\n",
       " 's1610_after',\n",
       " 's1612_before',\n",
       " 'S1612_after',\n",
       " 's1643_before',\n",
       " 's1643_after',\n",
       " 's1874_before',\n",
       " 's1874_after',\n",
       " 's1948_before',\n",
       " 's1948_after',\n",
       " 's1199_before.1',\n",
       " 's1199_after.1',\n",
       " 's2139_before',\n",
       " 's2139_after',\n",
       " 's2699_before',\n",
       " 's2699_after',\n",
       " 's2293_before',\n",
       " 's2293_after',\n",
       " 's3011_before',\n",
       " 's3011_after',\n",
       " 's3400_before',\n",
       " 's3400_after',\n",
       " 's3415_before',\n",
       " 's3415_after',\n",
       " 's3358_before',\n",
       " 's3358_after',\n",
       " 's3740_before',\n",
       " 's3740_after',\n",
       " 's3776_before',\n",
       " 's3776_after',\n",
       " 's4042_before',\n",
       " 's4042_after',\n",
       " 's5411_before',\n",
       " 's5411_after',\n",
       " 's5777_before',\n",
       " 's5777_after',\n",
       " 's5993_before',\n",
       " 's5993_after',\n",
       " 's6212_before',\n",
       " 's6212_after',\n",
       " 's6213_before',\n",
       " 's6213_after',\n",
       " 'number_group_befor',\n",
       " 'group_smell_befor',\n",
       " 'number_group_after',\n",
       " 'group_smell_after',\n",
       " 'open_time',\n",
       " 'closed_time',\n",
       " 'changed_file',\n",
       " 'additions',\n",
       " 'deletions',\n",
       " 'Dev',\n",
       " 'commit_after',\n",
       " 'commit_befor',\n",
       " 'cal_smell']"
      ]
     },
     "execution_count": 100,
     "metadata": {},
     "output_type": "execute_result"
    }
   ],
   "source": [
    "list(df.columns)"
   ]
  },
  {
   "cell_type": "code",
   "execution_count": 101,
   "metadata": {
    "id": "rLlM1p-zrUNy"
   },
   "outputs": [],
   "source": [
    "rule  = df[{\n",
    "     's106_before',\n",
    " 's106_after',\n",
    " 's112_before',\n",
    " 's112_after',\n",
    " 's119_before',\n",
    " 's119_after',\n",
    " 's1123_before',\n",
    " 's1123_after',\n",
    " 's1133_before',\n",
    " 's1133_after',\n",
    " 's1141_before',\n",
    " 's1141_after',\n",
    " 's1155_before',\n",
    " 's1155_after',\n",
    " 's1168_before',\n",
    " 's1168_after',\n",
    " 's1172_before',\n",
    " 's1172_after',\n",
    " 's1181_before',\n",
    " 's1181_after',\n",
    " 's1187_before',\n",
    " 's1187_after',\n",
    " 's1192_before',\n",
    " 's1192_after',\n",
    " 's1199_before',\n",
    " 's1199_after',\n",
    " 's1610_before',\n",
    " 's1610_after',\n",
    " 's1612_before',\n",
    " 'S1612_after',\n",
    " 's1643_before',\n",
    " 's1643_after',\n",
    " 's1874_before',\n",
    " 's1874_after',\n",
    " 's1948_before',\n",
    " 's1948_after',\n",
    " 's1199_before.1',\n",
    " 's1199_after.1',\n",
    " 's2139_before',\n",
    " 's2139_after',\n",
    " 's2699_before',\n",
    " 's2699_after',\n",
    " 's2293_before',\n",
    " 's2293_after',\n",
    " 's3011_before',\n",
    " 's3011_after',\n",
    " 's3400_before',\n",
    " 's3400_after',\n",
    " 's3415_before',\n",
    " 's3415_after',\n",
    " 's3358_before',\n",
    " 's3358_after',\n",
    " 's3740_before',\n",
    " 's3740_after',\n",
    " 's3776_before',\n",
    " 's3776_after',\n",
    " 's4042_before',\n",
    " 's4042_after',\n",
    " 's5411_before',\n",
    " 's5411_after',\n",
    " 's5777_before',\n",
    " 's5777_after',\n",
    " 's5993_before',\n",
    " 's5993_after',\n",
    " 's6212_before',\n",
    " 's6212_after',\n",
    " 's6213_before',\n",
    " 's6213_after'\n",
    "}]"
   ]
  },
  {
   "cell_type": "markdown",
   "metadata": {
    "id": "3uriqWZGZwrl"
   },
   "source": [
    "Set data type time  "
   ]
  },
  {
   "cell_type": "code",
   "execution_count": 102,
   "metadata": {
    "id": "H1TspvmCT-Gd"
   },
   "outputs": [],
   "source": [
    "data_time = df[{'open_time' , 'closed_time' }]"
   ]
  },
  {
   "cell_type": "code",
   "execution_count": 103,
   "metadata": {
    "id": "KRILzAv9jvQn"
   },
   "outputs": [],
   "source": [
    "open_time = pd.to_datetime(df['open_time'])\n",
    "closed_time = pd.to_datetime(df['closed_time'])"
   ]
  },
  {
   "cell_type": "code",
   "execution_count": 104,
   "metadata": {
    "id": "DG_ZTQ8aUN3C"
   },
   "outputs": [],
   "source": [
    "df['cla_time'] = pd.to_datetime(df['closed_time']) - pd.to_datetime(df['open_time'])"
   ]
  },
  {
   "cell_type": "code",
   "execution_count": 105,
   "metadata": {
    "id": "GrEvaXY-UpmO"
   },
   "outputs": [],
   "source": [
    "cal_time = df['cla_time']"
   ]
  },
  {
   "cell_type": "markdown",
   "metadata": {
    "id": "sn8xUCKtnEBT"
   },
   "source": [
    "Information issus on GitHub "
   ]
  },
  {
   "cell_type": "code",
   "execution_count": 106,
   "metadata": {
    "id": "vgi32aodUAtE"
   },
   "outputs": [],
   "source": [
    "data_file = df[{'changed_file' , 'additions'  , 'deletions' , 'Dev' }]"
   ]
  },
  {
   "cell_type": "code",
   "execution_count": 107,
   "metadata": {
    "id": "KWSne01bkFQY"
   },
   "outputs": [],
   "source": [
    "changed_file = df['changed_file']"
   ]
  },
  {
   "cell_type": "code",
   "execution_count": 108,
   "metadata": {
    "id": "gCXDNGK0lEZW"
   },
   "outputs": [],
   "source": [
    "additions = df['additions']"
   ]
  },
  {
   "cell_type": "code",
   "execution_count": 109,
   "metadata": {
    "id": "f9aEipWMlHOr"
   },
   "outputs": [],
   "source": [
    "deletions = df['deletions']"
   ]
  },
  {
   "cell_type": "code",
   "execution_count": 110,
   "metadata": {
    "id": "NOFcZIdZlKDK"
   },
   "outputs": [],
   "source": [
    "Dev = df['Dev']"
   ]
  },
  {
   "cell_type": "markdown",
   "metadata": {
    "id": "ltDICOQkmYQM"
   },
   "source": [
    "data frame containing information "
   ]
  },
  {
   "cell_type": "code",
   "execution_count": 111,
   "metadata": {
    "id": "3907RNDUifhL"
   },
   "outputs": [],
   "source": [
    "data_flink = pd.DataFrame({  'commit_befor ' : commit_befor , 'commit_after' : commit_after, 'cal_smell' : cal_smell, 'group_smell_befor': group_smell_befor, 'group_smell_after': group_smell_after,\n",
    "                              'open_time' : open_time , 'closed_time' : closed_time , 'cal_time' : cal_time,\n",
    "                              'changed_file' : changed_file , 'additions' : additions , 'deletions': deletions , 'dev': Dev ,\n",
    "                              'number_group_befor' :number_group_befor , 'number_group_after' : number_group_after\n",
    "                            })"
   ]
  },
  {
   "cell_type": "code",
   "execution_count": 112,
   "metadata": {},
   "outputs": [],
   "source": [
    "from datetime import timedelta"
   ]
  },
  {
   "cell_type": "code",
   "execution_count": 113,
   "metadata": {},
   "outputs": [
    {
     "data": {
      "text/html": [
       "<div>\n",
       "<style scoped>\n",
       "    .dataframe tbody tr th:only-of-type {\n",
       "        vertical-align: middle;\n",
       "    }\n",
       "\n",
       "    .dataframe tbody tr th {\n",
       "        vertical-align: top;\n",
       "    }\n",
       "\n",
       "    .dataframe thead th {\n",
       "        text-align: right;\n",
       "    }\n",
       "</style>\n",
       "<table border=\"1\" class=\"dataframe\">\n",
       "  <thead>\n",
       "    <tr style=\"text-align: right;\">\n",
       "      <th></th>\n",
       "      <th>commit_befor</th>\n",
       "      <th>commit_after</th>\n",
       "      <th>cal_smell</th>\n",
       "      <th>group_smell_befor</th>\n",
       "      <th>group_smell_after</th>\n",
       "      <th>open_time</th>\n",
       "      <th>closed_time</th>\n",
       "      <th>cal_time</th>\n",
       "      <th>changed_file</th>\n",
       "      <th>additions</th>\n",
       "      <th>deletions</th>\n",
       "      <th>dev</th>\n",
       "      <th>number_group_befor</th>\n",
       "      <th>number_group_after</th>\n",
       "    </tr>\n",
       "  </thead>\n",
       "  <tbody>\n",
       "  </tbody>\n",
       "</table>\n",
       "</div>"
      ],
      "text/plain": [
       "Empty DataFrame\n",
       "Columns: [commit_befor , commit_after, cal_smell, group_smell_befor, group_smell_after, open_time, closed_time, cal_time, changed_file, additions, deletions, dev, number_group_befor, number_group_after]\n",
       "Index: []"
      ]
     },
     "execution_count": 113,
     "metadata": {},
     "output_type": "execute_result"
    }
   ],
   "source": [
    "data_flink[data_flink['cal_time'] < timedelta (minutes = 0)]"
   ]
  },
  {
   "cell_type": "code",
   "execution_count": 114,
   "metadata": {},
   "outputs": [],
   "source": [
    "data_flink['cal_time_binaly'] = data_flink['cal_time'].apply(lambda x:  0 if x < timedelta (days = 42) else 1)"
   ]
  },
  {
   "cell_type": "code",
   "execution_count": 115,
   "metadata": {},
   "outputs": [],
   "source": [
    "data_flink['open_time'] = pd.DatetimeIndex(data_flink['open_time']).month"
   ]
  },
  {
   "cell_type": "code",
   "execution_count": 116,
   "metadata": {},
   "outputs": [],
   "source": [
    "data_flink['closed_time'] = pd.DatetimeIndex(data_flink['closed_time']).month"
   ]
  },
  {
   "cell_type": "code",
   "execution_count": 117,
   "metadata": {},
   "outputs": [
    {
     "data": {
      "text/html": [
       "<div>\n",
       "<style scoped>\n",
       "    .dataframe tbody tr th:only-of-type {\n",
       "        vertical-align: middle;\n",
       "    }\n",
       "\n",
       "    .dataframe tbody tr th {\n",
       "        vertical-align: top;\n",
       "    }\n",
       "\n",
       "    .dataframe thead th {\n",
       "        text-align: right;\n",
       "    }\n",
       "</style>\n",
       "<table border=\"1\" class=\"dataframe\">\n",
       "  <thead>\n",
       "    <tr style=\"text-align: right;\">\n",
       "      <th></th>\n",
       "      <th>commit_befor</th>\n",
       "      <th>commit_after</th>\n",
       "      <th>cal_smell</th>\n",
       "      <th>group_smell_befor</th>\n",
       "      <th>group_smell_after</th>\n",
       "      <th>open_time</th>\n",
       "      <th>closed_time</th>\n",
       "      <th>cal_time</th>\n",
       "      <th>changed_file</th>\n",
       "      <th>additions</th>\n",
       "      <th>deletions</th>\n",
       "      <th>dev</th>\n",
       "      <th>number_group_befor</th>\n",
       "      <th>number_group_after</th>\n",
       "      <th>cal_time_binaly</th>\n",
       "    </tr>\n",
       "  </thead>\n",
       "  <tbody>\n",
       "    <tr>\n",
       "      <th>0</th>\n",
       "      <td>9</td>\n",
       "      <td>6</td>\n",
       "      <td>-3</td>\n",
       "      <td>Dispensables</td>\n",
       "      <td>Dispensables</td>\n",
       "      <td>9</td>\n",
       "      <td>8</td>\n",
       "      <td>357 days 18:44:00</td>\n",
       "      <td>45</td>\n",
       "      <td>429</td>\n",
       "      <td>253</td>\n",
       "      <td>1</td>\n",
       "      <td>1</td>\n",
       "      <td>1</td>\n",
       "      <td>1</td>\n",
       "    </tr>\n",
       "    <tr>\n",
       "      <th>1</th>\n",
       "      <td>11</td>\n",
       "      <td>12</td>\n",
       "      <td>1</td>\n",
       "      <td>Object-Orientation Abusers</td>\n",
       "      <td>Get well</td>\n",
       "      <td>2</td>\n",
       "      <td>4</td>\n",
       "      <td>59 days 16:09:00</td>\n",
       "      <td>15</td>\n",
       "      <td>843</td>\n",
       "      <td>327</td>\n",
       "      <td>2</td>\n",
       "      <td>2</td>\n",
       "      <td>4</td>\n",
       "      <td>1</td>\n",
       "    </tr>\n",
       "  </tbody>\n",
       "</table>\n",
       "</div>"
      ],
      "text/plain": [
       "   commit_befor   commit_after  cal_smell           group_smell_befor  \\\n",
       "0              9             6         -3                Dispensables   \n",
       "1             11            12          1  Object-Orientation Abusers   \n",
       "\n",
       "  group_smell_after  open_time  closed_time          cal_time  changed_file  \\\n",
       "0      Dispensables          9            8 357 days 18:44:00            45   \n",
       "1          Get well          2            4  59 days 16:09:00            15   \n",
       "\n",
       "   additions  deletions  dev  number_group_befor  number_group_after  \\\n",
       "0        429        253    1                   1                   1   \n",
       "1        843        327    2                   2                   4   \n",
       "\n",
       "   cal_time_binaly  \n",
       "0                1  \n",
       "1                1  "
      ]
     },
     "execution_count": 117,
     "metadata": {},
     "output_type": "execute_result"
    }
   ],
   "source": [
    "data_flink.head(2)"
   ]
  },
  {
   "cell_type": "markdown",
   "metadata": {},
   "source": [
    "Model"
   ]
  },
  {
   "cell_type": "code",
   "execution_count": 118,
   "metadata": {},
   "outputs": [],
   "source": [
    "df_drop_nan = data_flink.dropna()"
   ]
  },
  {
   "cell_type": "code",
   "execution_count": 119,
   "metadata": {},
   "outputs": [
    {
     "data": {
      "text/plain": [
       "commit_befor                    int64\n",
       "commit_after                    int64\n",
       "cal_smell                       int64\n",
       "group_smell_befor              object\n",
       "group_smell_after              object\n",
       "open_time                       int64\n",
       "closed_time                     int64\n",
       "cal_time              timedelta64[ns]\n",
       "changed_file                    int64\n",
       "additions                       int64\n",
       "deletions                       int64\n",
       "dev                             int64\n",
       "number_group_befor              int64\n",
       "number_group_after              int64\n",
       "cal_time_binaly                 int64\n",
       "dtype: object"
      ]
     },
     "execution_count": 119,
     "metadata": {},
     "output_type": "execute_result"
    }
   ],
   "source": [
    "\n",
    "data_flink.dtypes"
   ]
  },
  {
   "cell_type": "code",
   "execution_count": 120,
   "metadata": {},
   "outputs": [],
   "source": [
    "from sklearn.datasets import load_wine\n",
    "from sklearn.linear_model import LinearRegression\n",
    "from sklearn.metrics import mean_squared_error\n",
    "from sklearn.model_selection import train_test_split\n",
    "from sklearn.neighbors import KNeighborsClassifier\n",
    "import pandas as pd\n",
    "import numpy as np"
   ]
  },
  {
   "cell_type": "code",
   "execution_count": 121,
   "metadata": {},
   "outputs": [],
   "source": [
    "X ,y = df_drop_nan.iloc[:, [True, False,  False, False, False,True, False, False, False ,False , False, False, True , False ,False]] , data_flink['number_group_after']"
   ]
  },
  {
   "cell_type": "code",
   "execution_count": 162,
   "metadata": {},
   "outputs": [
    {
     "data": {
      "text/plain": [
       "0     1\n",
       "1     4\n",
       "2     2\n",
       "3     4\n",
       "4     1\n",
       "5     1\n",
       "6     3\n",
       "7     4\n",
       "8     2\n",
       "9     4\n",
       "10    4\n",
       "11    2\n",
       "12    1\n",
       "13    4\n",
       "14    2\n",
       "15    4\n",
       "16    2\n",
       "17    1\n",
       "18    1\n",
       "19    5\n",
       "20    1\n",
       "21    1\n",
       "22    1\n",
       "23    1\n",
       "24    1\n",
       "25    4\n",
       "26    2\n",
       "27    1\n",
       "28    1\n",
       "29    5\n",
       "Name: number_group_after, dtype: int64"
      ]
     },
     "execution_count": 162,
     "metadata": {},
     "output_type": "execute_result"
    }
   ],
   "source": [
    "y"
   ]
  },
  {
   "cell_type": "code",
   "execution_count": 161,
   "metadata": {},
   "outputs": [
    {
     "data": {
      "text/html": [
       "<div>\n",
       "<style scoped>\n",
       "    .dataframe tbody tr th:only-of-type {\n",
       "        vertical-align: middle;\n",
       "    }\n",
       "\n",
       "    .dataframe tbody tr th {\n",
       "        vertical-align: top;\n",
       "    }\n",
       "\n",
       "    .dataframe thead th {\n",
       "        text-align: right;\n",
       "    }\n",
       "</style>\n",
       "<table border=\"1\" class=\"dataframe\">\n",
       "  <thead>\n",
       "    <tr style=\"text-align: right;\">\n",
       "      <th></th>\n",
       "      <th>commit_befor</th>\n",
       "      <th>open_time</th>\n",
       "      <th>number_group_befor</th>\n",
       "    </tr>\n",
       "  </thead>\n",
       "  <tbody>\n",
       "    <tr>\n",
       "      <th>0</th>\n",
       "      <td>9</td>\n",
       "      <td>9</td>\n",
       "      <td>1</td>\n",
       "    </tr>\n",
       "    <tr>\n",
       "      <th>1</th>\n",
       "      <td>11</td>\n",
       "      <td>2</td>\n",
       "      <td>2</td>\n",
       "    </tr>\n",
       "  </tbody>\n",
       "</table>\n",
       "</div>"
      ],
      "text/plain": [
       "   commit_befor   open_time  number_group_befor\n",
       "0              9          9                   1\n",
       "1             11          2                   2"
      ]
     },
     "execution_count": 161,
     "metadata": {},
     "output_type": "execute_result"
    }
   ],
   "source": [
    "X.head(2)"
   ]
  },
  {
   "cell_type": "code",
   "execution_count": 123,
   "metadata": {},
   "outputs": [
    {
     "data": {
      "text/plain": [
       "(30, 3)"
      ]
     },
     "execution_count": 123,
     "metadata": {},
     "output_type": "execute_result"
    }
   ],
   "source": [
    "X.shape"
   ]
  },
  {
   "cell_type": "code",
   "execution_count": 124,
   "metadata": {},
   "outputs": [
    {
     "data": {
      "text/plain": [
       "(30,)"
      ]
     },
     "execution_count": 124,
     "metadata": {},
     "output_type": "execute_result"
    }
   ],
   "source": [
    "y.shape"
   ]
  },
  {
   "cell_type": "code",
   "execution_count": 125,
   "metadata": {},
   "outputs": [],
   "source": [
    "X_train, X_test, y_train, y_test = train_test_split(X, y, test_size = 0.3 , random_state=5)"
   ]
  },
  {
   "cell_type": "code",
   "execution_count": 126,
   "metadata": {},
   "outputs": [],
   "source": [
    "from sklearn.metrics import classification_report , confusion_matrix"
   ]
  },
  {
   "cell_type": "code",
   "execution_count": 127,
   "metadata": {},
   "outputs": [],
   "source": [
    "knn = KNeighborsClassifier(n_neighbors = 5)"
   ]
  },
  {
   "cell_type": "code",
   "execution_count": 128,
   "metadata": {},
   "outputs": [
    {
     "data": {
      "text/plain": [
       "KNeighborsClassifier()"
      ]
     },
     "execution_count": 128,
     "metadata": {},
     "output_type": "execute_result"
    }
   ],
   "source": [
    "knn.fit(X_train ,y_train)"
   ]
  },
  {
   "cell_type": "code",
   "execution_count": 129,
   "metadata": {},
   "outputs": [
    {
     "name": "stdout",
     "output_type": "stream",
     "text": [
      "Prediction: [1 4 1 1 1 1 1 1 1]\n"
     ]
    }
   ],
   "source": [
    "new_prediction = knn.predict(X_test)\n",
    "print(\"Prediction: {}\".format(new_prediction))"
   ]
  },
  {
   "cell_type": "code",
   "execution_count": 130,
   "metadata": {},
   "outputs": [],
   "source": [
    "y_pred = knn.predict(X_test)"
   ]
  },
  {
   "cell_type": "code",
   "execution_count": 131,
   "metadata": {},
   "outputs": [
    {
     "name": "stdout",
     "output_type": "stream",
     "text": [
      "0.2222222222222222\n"
     ]
    }
   ],
   "source": [
    "print(knn.score(X_test, y_test))"
   ]
  },
  {
   "cell_type": "code",
   "execution_count": 132,
   "metadata": {},
   "outputs": [],
   "source": [
    "time = np.arange(1, 9)\n",
    "train_accuracy = np.empty(len(time))\n",
    "test_accuracy = np.empty(len(time))"
   ]
  },
  {
   "cell_type": "code",
   "execution_count": 133,
   "metadata": {},
   "outputs": [],
   "source": [
    "for i , k in enumerate(time) :\n",
    "    knn = KNeighborsClassifier(k)\n",
    "    knn.fit(X_train ,y_train)\n",
    "    train_accuracy[i] = knn.score(X_train , y_train)\n",
    "    test_accuracy[i] = knn.score(X_test, y_test)"
   ]
  },
  {
   "cell_type": "code",
   "execution_count": 134,
   "metadata": {},
   "outputs": [],
   "source": [
    "from matplotlib import pyplot as plt"
   ]
  },
  {
   "cell_type": "code",
   "execution_count": 135,
   "metadata": {},
   "outputs": [
    {
     "data": {
      "image/png": "[encoded data removed]",
      "text/plain": [
       "<Figure size 432x288 with 1 Axes>"
      ]
     },
     "metadata": {
      "needs_background": "light"
     },
     "output_type": "display_data"
    }
   ],
   "source": [
    "plt.title('k-NN: Varying Number of time')\n",
    "plt.plot(time, test_accuracy, label = 'Testing Accuracy')\n",
    "plt.plot(time, train_accuracy, label = 'Training Accuracy')\n",
    "plt.legend()\n",
    "plt.xlabel('Number of time')\n",
    "plt.ylabel('Accuracy')\n",
    "plt.show()"
   ]
  },
  {
   "cell_type": "code",
   "execution_count": 136,
   "metadata": {},
   "outputs": [
    {
     "name": "stdout",
     "output_type": "stream",
     "text": [
      "[[2 0 0 0]\n",
      " [3 0 0 0]\n",
      " [3 0 0 0]\n",
      " [0 0 1 0]]\n",
      "              precision    recall  f1-score   support\n",
      "\n",
      "           1       0.25      1.00      0.40         2\n",
      "           2       0.00      0.00      0.00         3\n",
      "           4       0.00      0.00      0.00         3\n",
      "           5       0.00      0.00      0.00         1\n",
      "\n",
      "    accuracy                           0.22         9\n",
      "   macro avg       0.06      0.25      0.10         9\n",
      "weighted avg       0.06      0.22      0.09         9\n",
      "\n"
     ]
    },
    {
     "name": "stderr",
     "output_type": "stream",
     "text": [
      "C:\\Users\\Beauz\\anaconda3\\lib\\site-packages\\sklearn\\metrics\\_classification.py:1245: UndefinedMetricWarning: Precision and F-score are ill-defined and being set to 0.0 in labels with no predicted samples. Use `zero_division` parameter to control this behavior.\n",
      "  _warn_prf(average, modifier, msg_start, len(result))\n",
      "C:\\Users\\Beauz\\anaconda3\\lib\\site-packages\\sklearn\\metrics\\_classification.py:1245: UndefinedMetricWarning: Precision and F-score are ill-defined and being set to 0.0 in labels with no predicted samples. Use `zero_division` parameter to control this behavior.\n",
      "  _warn_prf(average, modifier, msg_start, len(result))\n",
      "C:\\Users\\Beauz\\anaconda3\\lib\\site-packages\\sklearn\\metrics\\_classification.py:1245: UndefinedMetricWarning: Precision and F-score are ill-defined and being set to 0.0 in labels with no predicted samples. Use `zero_division` parameter to control this behavior.\n",
      "  _warn_prf(average, modifier, msg_start, len(result))\n"
     ]
    }
   ],
   "source": [
    "print(confusion_matrix(y_test, y_pred))\n",
    "print(classification_report(y_test , y_pred))"
   ]
  },
  {
   "cell_type": "code",
   "execution_count": 137,
   "metadata": {},
   "outputs": [],
   "source": [
    "from sklearn.linear_model import LinearRegression\n",
    "from sklearn.metrics import confusion_matrix, classification_report"
   ]
  },
  {
   "cell_type": "code",
   "execution_count": 138,
   "metadata": {},
   "outputs": [],
   "source": [
    "reg = LinearRegression()"
   ]
  },
  {
   "cell_type": "code",
   "execution_count": 139,
   "metadata": {},
   "outputs": [
    {
     "data": {
      "text/plain": [
       "LinearRegression()"
      ]
     },
     "execution_count": 139,
     "metadata": {},
     "output_type": "execute_result"
    }
   ],
   "source": [
    "reg.fit(X_train , y_train)"
   ]
  },
  {
   "cell_type": "code",
   "execution_count": 140,
   "metadata": {},
   "outputs": [
    {
     "name": "stdout",
     "output_type": "stream",
     "text": [
      "0.12652596412429173\n"
     ]
    }
   ],
   "source": [
    "print(reg.score(X_train , y_train))"
   ]
  },
  {
   "cell_type": "code",
   "execution_count": 141,
   "metadata": {},
   "outputs": [],
   "source": [
    "y_pred = reg.predict(X_test)"
   ]
  },
  {
   "cell_type": "code",
   "execution_count": 142,
   "metadata": {},
   "outputs": [
    {
     "name": "stdout",
     "output_type": "stream",
     "text": [
      "R^2 of reg: 0.12652596412429173\n",
      "Root Mean Squared Error: 1.4493126728560062\n"
     ]
    }
   ],
   "source": [
    "print(\"R^2 of reg: {}\".format(reg.score(X_train, y_train)))\n",
    "rmse = np.sqrt(mean_squared_error(y_test,y_pred))\n",
    "print(\"Root Mean Squared Error: {}\".format(rmse))"
   ]
  },
  {
   "cell_type": "markdown",
   "metadata": {},
   "source": [
    "MNIST"
   ]
  },
  {
   "cell_type": "code",
   "execution_count": 143,
   "metadata": {},
   "outputs": [
    {
     "data": {
      "text/plain": [
       "array([1, 2, 4, 3, 0])"
      ]
     },
     "execution_count": 143,
     "metadata": {},
     "output_type": "execute_result"
    }
   ],
   "source": [
    "import numpy as np\n",
    "shuffle_index = np.random.permutation(5)\n",
    "shuffle_index"
   ]
  },
  {
   "cell_type": "code",
   "execution_count": 144,
   "metadata": {},
   "outputs": [],
   "source": [
    "y_train_4 = (y_train == 4)\n",
    "y_test_4 = (y_test == 4)"
   ]
  },
  {
   "cell_type": "code",
   "execution_count": 145,
   "metadata": {},
   "outputs": [
    {
     "data": {
      "text/plain": [
       "SGDClassifier(random_state=5)"
      ]
     },
     "execution_count": 145,
     "metadata": {},
     "output_type": "execute_result"
    }
   ],
   "source": [
    "from sklearn.linear_model import SGDClassifier\n",
    "\n",
    "sgd_clf = SGDClassifier(random_state=5)\n",
    "sgd_clf.fit(X_train , y_train_4)"
   ]
  },
  {
   "cell_type": "code",
   "execution_count": 146,
   "metadata": {},
   "outputs": [
    {
     "data": {
      "text/plain": [
       "array([0.57142857, 0.42857143, 0.42857143])"
      ]
     },
     "execution_count": 146,
     "metadata": {},
     "output_type": "execute_result"
    }
   ],
   "source": [
    "from sklearn.model_selection import cross_val_score\n",
    "cross_val_score(sgd_clf , X_train , y_train_4 , cv=3 )"
   ]
  },
  {
   "cell_type": "code",
   "execution_count": 147,
   "metadata": {},
   "outputs": [],
   "source": [
    "from sklearn.base import BaseEstimator\n",
    "class Never4Classifier(BaseEstimator) :\n",
    "    def fit (self , X , y =None):\n",
    "        pass\n",
    "    def predict(self , X) :\n",
    "        return np.zeros((len(X) , 1 ) , dtype=bool)"
   ]
  },
  {
   "cell_type": "code",
   "execution_count": 148,
   "metadata": {},
   "outputs": [
    {
     "data": {
      "text/plain": [
       "array([0.85714286, 0.85714286, 0.57142857])"
      ]
     },
     "execution_count": 148,
     "metadata": {},
     "output_type": "execute_result"
    }
   ],
   "source": [
    "never_5_clf = Never4Classifier()\n",
    "cross_val_score(never_5_clf, X_train, y_train_4, cv=3, scoring=\"accuracy\")"
   ]
  },
  {
   "cell_type": "markdown",
   "metadata": {},
   "source": [
    "Confusion Matrix"
   ]
  },
  {
   "cell_type": "code",
   "execution_count": 149,
   "metadata": {},
   "outputs": [],
   "source": [
    "from sklearn.model_selection import cross_val_predict"
   ]
  },
  {
   "cell_type": "code",
   "execution_count": 150,
   "metadata": {},
   "outputs": [
    {
     "data": {
      "text/plain": [
       "array([ True, False, False,  True, False, False, False,  True, False,\n",
       "        True, False, False, False, False, False, False,  True,  True,\n",
       "        True,  True, False])"
      ]
     },
     "execution_count": 150,
     "metadata": {},
     "output_type": "execute_result"
    }
   ],
   "source": [
    "y_train_pred = cross_val_predict(sgd_clf , X_train , y_train_4 , cv= 3)\n",
    "y_train_pred"
   ]
  },
  {
   "cell_type": "code",
   "execution_count": 151,
   "metadata": {},
   "outputs": [
    {
     "data": {
      "text/plain": [
       "array([[9, 7],\n",
       "       [4, 1]], dtype=int64)"
      ]
     },
     "execution_count": 151,
     "metadata": {},
     "output_type": "execute_result"
    }
   ],
   "source": [
    "from sklearn.metrics import confusion_matrix\n",
    "confusion_matrix(y_train_4 , y_train_pred)"
   ]
  },
  {
   "cell_type": "code",
   "execution_count": 152,
   "metadata": {},
   "outputs": [
    {
     "data": {
      "text/plain": [
       "array([[16,  0],\n",
       "       [ 0,  5]], dtype=int64)"
      ]
     },
     "execution_count": 152,
     "metadata": {},
     "output_type": "execute_result"
    }
   ],
   "source": [
    "y_train_perfect_predition = y_train_4\n",
    "confusion_matrix(y_train_4 , y_train_perfect_predition)"
   ]
  },
  {
   "cell_type": "code",
   "execution_count": 153,
   "metadata": {},
   "outputs": [],
   "source": [
    "from sklearn.metrics import precision_score , recall_score"
   ]
  },
  {
   "cell_type": "code",
   "execution_count": 154,
   "metadata": {},
   "outputs": [
    {
     "data": {
      "text/plain": [
       "0.125"
      ]
     },
     "execution_count": 154,
     "metadata": {},
     "output_type": "execute_result"
    }
   ],
   "source": [
    "precision_score(y_train_4 , y_train_pred)"
   ]
  },
  {
   "cell_type": "code",
   "execution_count": 155,
   "metadata": {},
   "outputs": [
    {
     "data": {
      "text/plain": [
       "0.2"
      ]
     },
     "execution_count": 155,
     "metadata": {},
     "output_type": "execute_result"
    }
   ],
   "source": [
    "recall_score(y_train_4 , y_train_pred)"
   ]
  },
  {
   "cell_type": "code",
   "execution_count": 156,
   "metadata": {},
   "outputs": [
    {
     "data": {
      "text/plain": [
       "0.15384615384615385"
      ]
     },
     "execution_count": 156,
     "metadata": {},
     "output_type": "execute_result"
    }
   ],
   "source": [
    "from sklearn.metrics import f1_score\n",
    "\n",
    "f1_score(y_train_4 , y_train_pred)"
   ]
  },
  {
   "cell_type": "code",
   "execution_count": 157,
   "metadata": {},
   "outputs": [
    {
     "data": {
      "text/plain": [
       "array([  956.83897951,  -656.65236051,  -219.09538695,   810.98665499,\n",
       "        -911.89392842, -1586.46092933,  -346.7161709 ,   150.38092312,\n",
       "        -235.22318999,  1478.57286828,  -346.61993378,  -963.58651475,\n",
       "        -586.55138193,   -25.53726548, -1074.98325854, -1118.33865316,\n",
       "         286.69170243,   442.80618639,   251.99959489,   633.61277789,\n",
       "        -910.18600789])"
      ]
     },
     "execution_count": 157,
     "metadata": {},
     "output_type": "execute_result"
    }
   ],
   "source": [
    "y_scores = cross_val_predict(sgd_clf , X_train , y_train_4 , cv=3 , method=\"decision_function\")\n",
    "y_scores"
   ]
  },
  {
   "cell_type": "code",
   "execution_count": 158,
   "metadata": {},
   "outputs": [],
   "source": [
    "from sklearn.metrics import roc_curve\n",
    "from matplotlib import pyplot as plt\n",
    "\n",
    "fpr , tpr ,thresholds = roc_curve(y_train_4 , y_scores)"
   ]
  },
  {
   "cell_type": "code",
   "execution_count": 159,
   "metadata": {},
   "outputs": [],
   "source": [
    "def plot_roc_curve(fpr, tpr, label=None):\n",
    "    plt.plot(fpr, tpr, linewidth=2, label=label)\n",
    "    plt.plot([0, 1], [0, 1], 'k--') # dashed diagonal\n",
    "    plt.axis([0, 1, 0, 1])                                    \n",
    "    plt.xlabel('False Positive Rate (Fall-Out)', fontsize=16) \n",
    "    plt.ylabel('True Positive Rate (Recall)', fontsize=16)   \n",
    "    plt.grid(True)   "
   ]
  },
  {
   "cell_type": "code",
   "execution_count": 160,
   "metadata": {},
   "outputs": [
    {
     "ename": "NameError",
     "evalue": "name 'save_fig' is not defined",
     "output_type": "error",
     "traceback": [
      "\u001b[1;31m---------------------------------------------------------------------------\u001b[0m",
      "\u001b[1;31mNameError\u001b[0m                                 Traceback (most recent call last)",
      "\u001b[1;32m<ipython-input-160-5adc40ee1bde>\u001b[0m in \u001b[0;36m<module>\u001b[1;34m\u001b[0m\n\u001b[0;32m      2\u001b[0m \u001b[0mplot_roc_curve\u001b[0m\u001b[1;33m(\u001b[0m\u001b[0mfpr\u001b[0m \u001b[1;33m,\u001b[0m \u001b[0mtpr\u001b[0m \u001b[1;33m)\u001b[0m\u001b[1;33m\u001b[0m\u001b[1;33m\u001b[0m\u001b[0m\n\u001b[0;32m      3\u001b[0m \u001b[1;33m\u001b[0m\u001b[0m\n\u001b[1;32m----> 4\u001b[1;33m \u001b[0msave_fig\u001b[0m\u001b[1;33m(\u001b[0m\u001b[1;34m\"Roc_curve_plot\"\u001b[0m\u001b[1;33m)\u001b[0m\u001b[1;33m\u001b[0m\u001b[1;33m\u001b[0m\u001b[0m\n\u001b[0m\u001b[0;32m      5\u001b[0m \u001b[0mplt\u001b[0m\u001b[1;33m.\u001b[0m\u001b[0mshow\u001b[0m\u001b[1;33m(\u001b[0m\u001b[1;33m)\u001b[0m\u001b[1;33m\u001b[0m\u001b[1;33m\u001b[0m\u001b[0m\n",
      "\u001b[1;31mNameError\u001b[0m: name 'save_fig' is not defined"
     ]
    },
    {
     "data": {
      "image/png": "[encoded data removed]",
      "text/plain": [
       "<Figure size 576x432 with 1 Axes>"
      ]
     },
     "metadata": {
      "needs_background": "light"
     },
     "output_type": "display_data"
    }
   ],
   "source": [
    "plt.figure(figsize=(8,6))\n",
    "plot_roc_curve(fpr , tpr )\n",
    "\n",
    "save_fig(\"Roc_curve_plot\")\n",
    "plt.show()"
   ]
  },
  {
   "cell_type": "code",
   "execution_count": null,
   "metadata": {},
   "outputs": [],
   "source": [
    "from sklearn.ensemble import RandomForestClassifier\n",
    "from matplotlib import pyplot as plt\n",
    "forest_clf = RandomForestClassifier(n_estimators= 100 , random_state = 5)\n",
    "y_probas_forest = cross_val_predict(forest_clf , X_train , y_train_4 , cv=3 , method = \"predict_proba\")"
   ]
  },
  {
   "cell_type": "code",
   "execution_count": null,
   "metadata": {},
   "outputs": [],
   "source": [
    "y_scores_forest = y_probas_forest[:,1]\n",
    "fpr_forest , tpr_forest, thresholds_forest = roc_curve(y_train_4 , y_scores_forest)"
   ]
  },
  {
   "cell_type": "code",
   "execution_count": null,
   "metadata": {},
   "outputs": [
    {
     "ename": "NameError",
     "evalue": "name 'save_fig' is not defined",
     "output_type": "error",
     "traceback": [
      "\u001b[1;31m---------------------------------------------------------------------------\u001b[0m",
      "\u001b[1;31mNameError\u001b[0m                                 Traceback (most recent call last)",
      "\u001b[1;32m<ipython-input-82-30bebdc54ff5>\u001b[0m in \u001b[0;36m<module>\u001b[1;34m\u001b[0m\n\u001b[0;32m      3\u001b[0m \u001b[0mplot_roc_curve\u001b[0m\u001b[1;33m(\u001b[0m\u001b[0mfpr_forest\u001b[0m \u001b[1;33m,\u001b[0m \u001b[0mtpr_forest\u001b[0m \u001b[1;33m,\u001b[0m \u001b[1;34m\"RandomForestClassifier\"\u001b[0m\u001b[1;33m)\u001b[0m\u001b[1;33m\u001b[0m\u001b[1;33m\u001b[0m\u001b[0m\n\u001b[0;32m      4\u001b[0m \u001b[0mplt\u001b[0m\u001b[1;33m.\u001b[0m\u001b[0mlegend\u001b[0m\u001b[1;33m(\u001b[0m\u001b[0mloc\u001b[0m\u001b[1;33m=\u001b[0m\u001b[1;34m\"lower right\"\u001b[0m \u001b[1;33m,\u001b[0m \u001b[0mfontsize\u001b[0m\u001b[1;33m=\u001b[0m\u001b[1;36m16\u001b[0m\u001b[1;33m)\u001b[0m\u001b[1;33m\u001b[0m\u001b[1;33m\u001b[0m\u001b[0m\n\u001b[1;32m----> 5\u001b[1;33m \u001b[0msave_fig\u001b[0m\u001b[1;33m(\u001b[0m\u001b[1;34m\"roc\"\u001b[0m\u001b[1;33m)\u001b[0m\u001b[1;33m\u001b[0m\u001b[1;33m\u001b[0m\u001b[0m\n\u001b[0m\u001b[0;32m      6\u001b[0m \u001b[0mplt\u001b[0m\u001b[1;33m.\u001b[0m\u001b[0mshow\u001b[0m\u001b[1;33m(\u001b[0m\u001b[1;33m)\u001b[0m\u001b[1;33m\u001b[0m\u001b[1;33m\u001b[0m\u001b[0m\n",
      "\u001b[1;31mNameError\u001b[0m: name 'save_fig' is not defined"
     ]
    },
    {
     "data": {
      "image/png": "[encoded data removed]",
      "text/plain": [
       "<Figure size 576x432 with 1 Axes>"
      ]
     },
     "metadata": {
      "needs_background": "light"
     },
     "output_type": "display_data"
    }
   ],
   "source": [
    "plt.figure(figsize=(8,6))\n",
    "plt.plot(fpr , tpr , \"b:\" , linewidth=2, label = \"SGD\")\n",
    "plot_roc_curve(fpr_forest , tpr_forest , \"RandomForestClassifier\")\n",
    "plt.legend(loc=\"lower right\" , fontsize=16)\n",
    "save_fig(\"roc\")\n",
    "plt.show()"
   ]
  }
 ],
 "metadata": {
  "colab": {
   "name": "Copy of Untitled0.ipynb",
   "provenance": []
  },
  "interpreter": {
   "hash": "ad7eca264feaa10a42b7f6be2a1e8f577a569f64740e80c71f143d2c89abf5fc"
  },
  "kernelspec": {
   "display_name": "Python 3.8.8 64-bit ('base': conda)",
   "name": "python3"
  },
  "language_info": {
   "codemirror_mode": {
    "name": "ipython",
    "version": 3
   },
   "file_extension": ".py",
   "mimetype": "text/x-python",
   "name": "python",
   "nbconvert_exporter": "python",
   "pygments_lexer": "ipython3",
   "version": "3.8.8"
  }
 },
 "nbformat": 4,
 "nbformat_minor": 1
}
