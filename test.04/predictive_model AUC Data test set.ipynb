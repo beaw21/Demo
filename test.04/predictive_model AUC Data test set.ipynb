{
 "cells": [
  {
   "cell_type": "code",
   "execution_count": 11,
   "source": [
    "import pandas as pd \r\n",
    "from sklearn.metrics import roc_auc_score\r\n",
    "from sklearn import linear_model\r\n"
   ],
   "outputs": [],
   "metadata": {}
  },
  {
   "cell_type": "code",
   "execution_count": 81,
   "source": [
    "from sklearn.model_selection import train_test_split\r\n",
    "import matplotlib.pyplot as plt\r\n",
    "import numpy as np\r\n",
    "\r\n",
    "import tensorflow as tf\r\n",
    "from tensorflow.keras import layers"
   ],
   "outputs": [],
   "metadata": {}
  },
  {
   "cell_type": "code",
   "execution_count": 13,
   "source": [
    "import scikitplot as skplt"
   ],
   "outputs": [],
   "metadata": {}
  },
  {
   "cell_type": "code",
   "execution_count": 14,
   "source": [
    "import sklearn as sk "
   ],
   "outputs": [],
   "metadata": {}
  },
  {
   "cell_type": "code",
   "execution_count": 15,
   "source": [
    "from sklearn.cross_validation import train_test_split"
   ],
   "outputs": [
    {
     "output_type": "error",
     "ename": "ModuleNotFoundError",
     "evalue": "No module named 'sklearn.cross_validation'",
     "traceback": [
      "\u001b[1;31m---------------------------------------------------------------------------\u001b[0m",
      "\u001b[1;31mModuleNotFoundError\u001b[0m                       Traceback (most recent call last)",
      "\u001b[1;32m<ipython-input-15-d05cc6ee7707>\u001b[0m in \u001b[0;36m<module>\u001b[1;34m\u001b[0m\n\u001b[1;32m----> 1\u001b[1;33m \u001b[1;32mfrom\u001b[0m \u001b[0msklearn\u001b[0m\u001b[1;33m.\u001b[0m\u001b[0mcross_validation\u001b[0m \u001b[1;32mimport\u001b[0m \u001b[0mtrain_test_split\u001b[0m\u001b[1;33m\u001b[0m\u001b[1;33m\u001b[0m\u001b[0m\n\u001b[0m",
      "\u001b[1;31mModuleNotFoundError\u001b[0m: No module named 'sklearn.cross_validation'"
     ]
    }
   ],
   "metadata": {}
  },
  {
   "cell_type": "code",
   "execution_count": 16,
   "source": [
    "# Import the scikitplot module\r\n",
    "import scikitplot as skplt"
   ],
   "outputs": [],
   "metadata": {}
  },
  {
   "cell_type": "code",
   "execution_count": 17,
   "source": [
    "#import data file set up is basetable\r\n",
    "basetable = pd.read_csv('type_smells_2.csv')"
   ],
   "outputs": [],
   "metadata": {}
  },
  {
   "cell_type": "code",
   "execution_count": 18,
   "source": [
    "logreg = linear_model.LogisticRegression()\r\n",
    "logreg"
   ],
   "outputs": [
    {
     "output_type": "execute_result",
     "data": {
      "text/plain": [
       "LogisticRegression()"
      ]
     },
     "metadata": {},
     "execution_count": 18
    }
   ],
   "metadata": {}
  },
  {
   "cell_type": "code",
   "execution_count": 19,
   "source": [
    "# Create a dataframe x is perdiction\r\n",
    "\r\n",
    "x = basetable[['sum_smells_open_commit',\r\n",
    "                'sum_smell_closed',\r\n",
    "                'remove_smell',\r\n",
    "                'changed_file',\r\n",
    "                'deletions',\r\n",
    "                'Dev']]"
   ],
   "outputs": [],
   "metadata": {}
  },
  {
   "cell_type": "code",
   "execution_count": 20,
   "source": [
    "# Create a dataframe y is\r\n",
    "y = basetable[[\"time\"]]"
   ],
   "outputs": [],
   "metadata": {}
  },
  {
   "cell_type": "code",
   "execution_count": 21,
   "source": [
    "#\r\n",
    "logreg = linear_model.LogisticRegression()\r\n",
    "logreg.fit(x, y)"
   ],
   "outputs": [
    {
     "output_type": "stream",
     "name": "stderr",
     "text": [
      "C:\\Users\\Lenovo\\anaconda3\\lib\\site-packages\\sklearn\\utils\\validation.py:63: DataConversionWarning: A column-vector y was passed when a 1d array was expected. Please change the shape of y to (n_samples, ), for example using ravel().\n",
      "  return f(*args, **kwargs)\n",
      "C:\\Users\\Lenovo\\anaconda3\\lib\\site-packages\\sklearn\\linear_model\\_logistic.py:763: ConvergenceWarning: lbfgs failed to converge (status=1):\n",
      "STOP: TOTAL NO. of ITERATIONS REACHED LIMIT.\n",
      "\n",
      "Increase the number of iterations (max_iter) or scale the data as shown in:\n",
      "    https://scikit-learn.org/stable/modules/preprocessing.html\n",
      "Please also refer to the documentation for alternative solver options:\n",
      "    https://scikit-learn.org/stable/modules/linear_model.html#logistic-regression\n",
      "  n_iter_i = _check_optimize_result(\n"
     ]
    },
    {
     "output_type": "execute_result",
     "data": {
      "text/plain": [
       "LogisticRegression()"
      ]
     },
     "metadata": {},
     "execution_count": 21
    }
   ],
   "metadata": {}
  },
  {
   "cell_type": "code",
   "execution_count": 22,
   "source": [
    "# Assign the coefficients to a list coef\r\n",
    "coef = logreg.coef_\r\n",
    "for p,c in zip(x,list(coef[0])):\r\n",
    "    print(p + '\\t' + str(c))"
   ],
   "outputs": [
    {
     "output_type": "stream",
     "name": "stdout",
     "text": [
      "sum_smells_open_commit\t0.4357886996973739\n",
      "sum_smell_closed\t-0.05422680588093409\n",
      "remove_smell\t0.46873731440206134\n",
      "changed_file\t0.23884088745903276\n",
      "deletions\t-0.05651497101963979\n",
      "Dev\t0.04613686319728229\n"
     ]
    }
   ],
   "metadata": {}
  },
  {
   "cell_type": "code",
   "execution_count": 23,
   "source": [
    "# Assign the intercept to the variable intercept\r\n",
    "intercept = logreg.intercept_\r\n",
    "print(intercept)"
   ],
   "outputs": [
    {
     "output_type": "stream",
     "name": "stdout",
     "text": [
      "[ 0.05144213  0.02878328  0.02501489 -0.01114753 -0.01924368  0.00685273\n",
      " -0.05644763 -0.00276596  0.06602742  0.00762614 -0.00992972  0.02926121\n",
      " -0.02779474  0.02272892 -0.01968101  0.00509776 -0.00271398 -0.00271398\n",
      " -0.00271398 -0.00271398 -0.00271398 -0.00271398 -0.00271398 -0.00271398\n",
      " -0.00271398 -0.00271398 -0.00271398 -0.00271398 -0.00271398 -0.00271398\n",
      " -0.00271398 -0.00271398 -0.00271398 -0.00271398 -0.00271398 -0.00271398\n",
      " -0.00271398 -0.00271398 -0.00271398 -0.00271398 -0.00271398 -0.00271398\n",
      " -0.00271398 -0.00271398 -0.00271398 -0.00271398 -0.00271398 -0.00271398\n",
      " -0.00271398 -0.00271398 -0.00271398 -0.00271398 -0.00271398 -0.00271398\n",
      " -0.00271398 -0.00271398 -0.00271398 -0.00271398 -0.00271398 -0.00271398\n",
      " -0.00271398 -0.00271398 -0.00271398 -0.00271398 -0.00271398 -0.00271398\n",
      " -0.00271398 -0.00271398 -0.00271398 -0.00271398 -0.00271398 -0.00271398\n",
      " -0.00271398 -0.00271398 -0.00271398 -0.00271398 -0.00271398 -0.00271398\n",
      " -0.00271398 -0.00271398 -0.00271398 -0.00271398 -0.00271398 -0.00271398\n",
      " -0.00271398 -0.00271398 -0.00271398 -0.00271398 -0.00271398 -0.00271398\n",
      " -0.00271398 -0.00271398 -0.00271398 -0.00271398 -0.00271398 -0.00271398\n",
      " -0.00271398 -0.00271398 -0.00271398 -0.00271398 -0.00271398 -0.00271398\n",
      " -0.00271398 -0.00271398 -0.00271398 -0.02624753  0.00840347  0.0536156\n",
      " -0.00506103  0.00593651  0.02426485  0.03144007 -0.02305156  0.00695418\n",
      "  0.03508954 -0.00525796  0.00699512  0.03263859]\n"
     ]
    }
   ],
   "metadata": {}
  },
  {
   "cell_type": "code",
   "execution_count": 24,
   "source": [
    "# Make a prediction for each observation\r\n",
    "predictions = logreg.predict_proba(x)\r\n",
    "print(predictions[0:5])"
   ],
   "outputs": [
    {
     "output_type": "stream",
     "name": "stdout",
     "text": [
      "[[1.79614719e-12 1.70589079e-04 1.89488095e-05 1.25162644e-03\n",
      "  1.75866469e-03 3.26226255e-27 2.55267251e-05 2.19120370e-08\n",
      "  7.50175880e-14 1.13369966e-20 9.61171873e-01 4.11611649e-12\n",
      "  1.22263123e-12 2.43579034e-12 5.06627412e-09 1.39539511e-08\n",
      "  9.79361358e-13 9.79368458e-13 9.79374282e-13 9.79348412e-13\n",
      "  9.79355944e-13 9.79361152e-13 9.79347302e-13 9.79366544e-13\n",
      "  9.79360603e-13 9.79364027e-13 9.79366345e-13 9.79374324e-13\n",
      "  9.79374510e-13 9.79352660e-13 9.79374562e-13 9.79361967e-13\n",
      "  9.79359456e-13 9.79351473e-13 9.79369397e-13 9.79361099e-13\n",
      "  9.79368900e-13 9.79337797e-13 9.79374858e-13 9.79345406e-13\n",
      "  9.79352308e-13 9.79359133e-13 9.79357689e-13 9.79368232e-13\n",
      "  9.79336592e-13 9.79360736e-13 9.79351144e-13 9.79348575e-13\n",
      "  9.79359518e-13 9.79302625e-13 9.79348318e-13 9.79331478e-13\n",
      "  9.79323404e-13 9.79315697e-13 9.79325071e-13 9.79323602e-13\n",
      "  9.79324922e-13 9.79330413e-13 9.79320258e-13 9.79352122e-13\n",
      "  9.79309305e-13 9.79343317e-13 9.79344565e-13 9.79369379e-13\n",
      "  9.79372383e-13 9.79353036e-13 9.79331867e-13 9.79356881e-13\n",
      "  9.79391320e-13 9.79340195e-13 9.79361389e-13 9.79363923e-13\n",
      "  9.79323699e-13 9.79325530e-13 9.79359396e-13 9.79358896e-13\n",
      "  9.79368153e-13 9.79351723e-13 9.79369424e-13 9.79363032e-13\n",
      "  9.79351114e-13 9.79348972e-13 9.79359712e-13 9.79362301e-13\n",
      "  9.79363827e-13 9.79370789e-13 9.79355720e-13 9.79342578e-13\n",
      "  9.79370711e-13 9.79386449e-13 9.79363407e-13 9.79353672e-13\n",
      "  9.79369178e-13 9.79371512e-13 9.79355552e-13 9.79370544e-13\n",
      "  9.79355996e-13 9.79358286e-13 9.79338702e-13 9.79369497e-13\n",
      "  9.79379558e-13 9.79371046e-13 9.79368936e-13 9.79373304e-13\n",
      "  9.79365016e-13 8.45734383e-04 1.13923070e-06 3.19277813e-02\n",
      "  7.53715272e-11 2.78395302e-09 1.19467765e-09 7.63238313e-04\n",
      "  1.66628051e-04 6.61131760e-09 1.52388083e-06 1.88891456e-03\n",
      "  7.75949107e-06 4.83763932e-18]\n",
      " [1.48598387e-12 5.63671807e-03 1.56169561e-10 1.41551713e-04\n",
      "  2.71449632e-02 6.84764548e-31 6.11852498e-04 6.04133752e-01\n",
      "  1.42234758e-12 2.03054300e-20 9.83934433e-06 2.57342639e-14\n",
      "  2.49618448e-04 5.25528315e-10 1.03730707e-02 1.38716107e-01\n",
      "  2.72666699e-07 2.72669244e-07 2.72671332e-07 2.72662059e-07\n",
      "  2.72664759e-07 2.72666625e-07 2.72661661e-07 2.72668558e-07\n",
      "  2.72666429e-07 2.72667656e-07 2.72668487e-07 2.72671346e-07\n",
      "  2.72671413e-07 2.72663581e-07 2.72671432e-07 2.72666917e-07\n",
      "  2.72666017e-07 2.72663156e-07 2.72669581e-07 2.72666606e-07\n",
      "  2.72669402e-07 2.72658254e-07 2.72671538e-07 2.72660981e-07\n",
      "  2.72663456e-07 2.72665902e-07 2.72665384e-07 2.72669163e-07\n",
      "  2.72657822e-07 2.72666476e-07 2.72663038e-07 2.72662117e-07\n",
      "  2.72666040e-07 2.72645648e-07 2.72662025e-07 2.72655989e-07\n",
      "  2.72653096e-07 2.72650333e-07 2.72653693e-07 2.72653167e-07\n",
      "  2.72653640e-07 2.72655608e-07 2.72651968e-07 2.72663389e-07\n",
      "  2.72648042e-07 2.72660233e-07 2.72660680e-07 2.72669574e-07\n",
      "  2.72670651e-07 2.72663716e-07 2.72656129e-07 2.72665094e-07\n",
      "  2.72677438e-07 2.72659114e-07 2.72666710e-07 2.72667618e-07\n",
      "  2.72653201e-07 2.72653858e-07 2.72665996e-07 2.72665817e-07\n",
      "  2.72669135e-07 2.72663246e-07 2.72669590e-07 2.72667299e-07\n",
      "  2.72663027e-07 2.72662260e-07 2.72666109e-07 2.72667037e-07\n",
      "  2.72667584e-07 2.72670079e-07 2.72664678e-07 2.72659968e-07\n",
      "  2.72670052e-07 2.72675692e-07 2.72667433e-07 2.72663944e-07\n",
      "  2.72669502e-07 2.72670339e-07 2.72664618e-07 2.72669992e-07\n",
      "  2.72664777e-07 2.72665598e-07 2.72658579e-07 2.72669616e-07\n",
      "  2.72673222e-07 2.72670172e-07 2.72669415e-07 2.72670981e-07\n",
      "  2.72668010e-07 1.26812215e-02 5.81182544e-04 3.70064079e-08\n",
      "  6.49419822e-02 3.24194226e-13 1.62805705e-06 3.82650233e-02\n",
      "  1.10167264e-03 1.20923404e-20 5.67025390e-02 2.78409078e-04\n",
      "  3.84045638e-02 1.50439929e-19]\n",
      " [5.10491656e-05 6.98950728e-02 2.65975873e-04 1.08344876e-02\n",
      "  1.92803906e-02 1.10326702e-13 5.27573526e-02 8.59904929e-02\n",
      "  3.88086615e-05 5.17324189e-08 3.99610854e-03 3.22894262e-05\n",
      "  2.85930068e-05 1.14578098e-04 8.94749479e-02 2.35847804e-02\n",
      "  2.30936984e-03 2.30937964e-03 2.30938768e-03 2.30935197e-03\n",
      "  2.30936237e-03 2.30936956e-03 2.30935043e-03 2.30937700e-03\n",
      "  2.30936880e-03 2.30937352e-03 2.30937672e-03 2.30938774e-03\n",
      "  2.30938800e-03 2.30935783e-03 2.30938807e-03 2.30937068e-03\n",
      "  2.30936721e-03 2.30935619e-03 2.30938094e-03 2.30936948e-03\n",
      "  2.30938025e-03 2.30933731e-03 2.30938848e-03 2.30934782e-03\n",
      "  2.30935735e-03 2.30936677e-03 2.30936478e-03 2.30937933e-03\n",
      "  2.30933565e-03 2.30936898e-03 2.30935574e-03 2.30935219e-03\n",
      "  2.30936730e-03 2.30928875e-03 2.30935184e-03 2.30932859e-03\n",
      "  2.30931744e-03 2.30930680e-03 2.30931974e-03 2.30931772e-03\n",
      "  2.30931954e-03 2.30932712e-03 2.30931310e-03 2.30935709e-03\n",
      "  2.30929798e-03 2.30934493e-03 2.30934666e-03 2.30938091e-03\n",
      "  2.30938506e-03 2.30935835e-03 2.30932913e-03 2.30936366e-03\n",
      "  2.30941120e-03 2.30934062e-03 2.30936988e-03 2.30937338e-03\n",
      "  2.30931785e-03 2.30932038e-03 2.30936713e-03 2.30936644e-03\n",
      "  2.30937922e-03 2.30935654e-03 2.30938097e-03 2.30937215e-03\n",
      "  2.30935570e-03 2.30935274e-03 2.30936757e-03 2.30937114e-03\n",
      "  2.30937325e-03 2.30938286e-03 2.30936206e-03 2.30934391e-03\n",
      "  2.30938275e-03 2.30940448e-03 2.30937267e-03 2.30935923e-03\n",
      "  2.30938064e-03 2.30938386e-03 2.30936182e-03 2.30938252e-03\n",
      "  2.30936244e-03 2.30936560e-03 2.30933856e-03 2.30938108e-03\n",
      "  2.30939497e-03 2.30938321e-03 2.30938030e-03 2.30938633e-03\n",
      "  2.30937489e-03 2.33758013e-02 3.19564380e-02 1.85930686e-03\n",
      "  1.15722037e-02 2.05537609e-05 3.52826654e-03 6.03224762e-02\n",
      "  1.47365736e-03 2.44273572e-08 1.34186949e-01 2.15852064e-02\n",
      "  1.48240955e-01 3.23066312e-08]\n",
      " [1.51793189e-06 5.15792687e-06 1.86150518e-06 3.41852639e-05\n",
      "  5.75697064e-07 2.28544794e-07 1.84996676e-05 4.51916792e-06\n",
      "  7.52664357e-04 2.54885233e-06 5.44702367e-06 1.36953148e-04\n",
      "  2.57308858e-10 9.89213804e-01 6.47871226e-06 2.63765774e-06\n",
      "  1.03295890e-04 1.03296128e-04 1.03296323e-04 1.03295457e-04\n",
      "  1.03295709e-04 1.03295883e-04 1.03295419e-04 1.03296064e-04\n",
      "  1.03295865e-04 1.03295979e-04 1.03296057e-04 1.03296324e-04\n",
      "  1.03296330e-04 1.03295599e-04 1.03296332e-04 1.03295910e-04\n",
      "  1.03295826e-04 1.03295559e-04 1.03296159e-04 1.03295881e-04\n",
      "  1.03296143e-04 1.03295101e-04 1.03296342e-04 1.03295356e-04\n",
      "  1.03295587e-04 1.03295816e-04 1.03295767e-04 1.03296120e-04\n",
      "  1.03295061e-04 1.03295869e-04 1.03295548e-04 1.03295462e-04\n",
      "  1.03295828e-04 1.03293923e-04 1.03295453e-04 1.03294889e-04\n",
      "  1.03294619e-04 1.03294361e-04 1.03294675e-04 1.03294626e-04\n",
      "  1.03294670e-04 1.03294854e-04 1.03294514e-04 1.03295581e-04\n",
      "  1.03294147e-04 1.03295286e-04 1.03295328e-04 1.03296159e-04\n",
      "  1.03296259e-04 1.03295611e-04 1.03294902e-04 1.03295740e-04\n",
      "  1.03296893e-04 1.03295181e-04 1.03295891e-04 1.03295976e-04\n",
      "  1.03294629e-04 1.03294690e-04 1.03295824e-04 1.03295808e-04\n",
      "  1.03296118e-04 1.03295567e-04 1.03296160e-04 1.03295946e-04\n",
      "  1.03295547e-04 1.03295475e-04 1.03295835e-04 1.03295922e-04\n",
      "  1.03295973e-04 1.03296206e-04 1.03295701e-04 1.03295261e-04\n",
      "  1.03296203e-04 1.03296730e-04 1.03295959e-04 1.03295633e-04\n",
      "  1.03296152e-04 1.03296230e-04 1.03295696e-04 1.03296198e-04\n",
      "  1.03295710e-04 1.03295787e-04 1.03295131e-04 1.03296163e-04\n",
      "  1.03296499e-04 1.03296214e-04 1.03296144e-04 1.03296290e-04\n",
      "  1.03296013e-04 5.12854471e-08 2.62331715e-04 2.68389415e-05\n",
      "  1.39768149e-08 2.65638363e-04 3.71650251e-07 5.24245983e-06\n",
      "  1.46290123e-10 1.09486924e-07 1.97976620e-05 6.99108328e-07\n",
      "  3.85098320e-05 8.95312522e-12]\n",
      " [2.74733973e-02 1.67148814e-04 1.50446497e-02 8.71195092e-06\n",
      "  6.71695190e-07 4.39540369e-08 5.08520989e-04 5.68125716e-07\n",
      "  1.78281953e-04 1.66144476e-02 2.92483420e-05 7.42373969e-02\n",
      "  2.46580061e-12 2.06616357e-08 1.34542328e-04 4.68847449e-08\n",
      "  8.10126845e-05 8.10127713e-05 8.10128425e-05 8.10125262e-05\n",
      "  8.10126183e-05 8.10126820e-05 8.10125126e-05 8.10127479e-05\n",
      "  8.10126753e-05 8.10127171e-05 8.10127455e-05 8.10128430e-05\n",
      "  8.10128453e-05 8.10125781e-05 8.10128459e-05 8.10126919e-05\n",
      "  8.10126612e-05 8.10125636e-05 8.10127828e-05 8.10126813e-05\n",
      "  8.10127767e-05 8.10123964e-05 8.10128495e-05 8.10124894e-05\n",
      "  8.10125738e-05 8.10126573e-05 8.10126396e-05 8.10127685e-05\n",
      "  8.10123817e-05 8.10126769e-05 8.10125596e-05 8.10125282e-05\n",
      "  8.10126620e-05 8.10119664e-05 8.10125251e-05 8.10123192e-05\n",
      "  8.10122204e-05 8.10121262e-05 8.10122408e-05 8.10122229e-05\n",
      "  8.10122390e-05 8.10123061e-05 8.10121820e-05 8.10125716e-05\n",
      "  8.10120480e-05 8.10124639e-05 8.10124792e-05 8.10127826e-05\n",
      "  8.10128193e-05 8.10125827e-05 8.10123239e-05 8.10126297e-05\n",
      "  8.10130508e-05 8.10124257e-05 8.10126849e-05 8.10127158e-05\n",
      "  8.10122240e-05 8.10122464e-05 8.10126605e-05 8.10126544e-05\n",
      "  8.10127676e-05 8.10125667e-05 8.10127831e-05 8.10127050e-05\n",
      "  8.10125592e-05 8.10125330e-05 8.10126644e-05 8.10126960e-05\n",
      "  8.10127147e-05 8.10127998e-05 8.10126156e-05 8.10124549e-05\n",
      "  8.10127988e-05 8.10129913e-05 8.10127095e-05 8.10125905e-05\n",
      "  8.10127801e-05 8.10128086e-05 8.10126135e-05 8.10127968e-05\n",
      "  8.10126189e-05 8.10126469e-05 8.10124075e-05 8.10127840e-05\n",
      "  8.10129070e-05 8.10128029e-05 8.10127771e-05 8.10128305e-05\n",
      "  8.10127292e-05 1.78202804e-05 1.57412497e-05 1.71853758e-03\n",
      "  3.13753895e-07 2.49153972e-04 1.57275194e-03 6.47105713e-06\n",
      "  9.75802992e-07 1.93026726e-02 2.98105671e-05 5.23600366e-04\n",
      "  4.52559523e-05 8.34909076e-01]]\n"
     ]
    }
   ],
   "metadata": {}
  },
  {
   "cell_type": "code",
   "execution_count": null,
   "source": [
    "#"
   ],
   "outputs": [],
   "metadata": {}
  },
  {
   "cell_type": "code",
   "execution_count": 78,
   "source": [
    "#take function use variable, the target, and the base table as an argument\r\n",
    "def auc(variable , target , basetable):\r\n",
    "    x1 = basetable[variable]\r\n",
    "    y1 = basetable[target]\r\n",
    "    logreg =linear_model.LogisticRegression()\r\n",
    "    logreg.fit(x1 ,y1)\r\n",
    "    #multi class \r\n",
    "    #preds = logreg.predict_proba(x1)\r\n",
    "    #roc_auc = roc_auc_score(y1,preds,multi_class='ovr')\r\n",
    "    predictions = logreg.predict_log_proba(x1)[:,1]\r\n",
    "    auc = roc_auc_score(y1 , predictions)\r\n",
    "    return(auc)"
   ],
   "outputs": [],
   "metadata": {}
  },
  {
   "cell_type": "code",
   "execution_count": 85,
   "source": [
    "auc = roc_auc_score(y, predictions)\r\n",
    "print(round(auc,2))"
   ],
   "outputs": [
    {
     "output_type": "error",
     "ename": "ValueError",
     "evalue": "multi_class must be in ('ovo', 'ovr')",
     "traceback": [
      "\u001b[1;31m---------------------------------------------------------------------------\u001b[0m",
      "\u001b[1;31mValueError\u001b[0m                                Traceback (most recent call last)",
      "\u001b[1;32m<ipython-input-85-9f611388b681>\u001b[0m in \u001b[0;36m<module>\u001b[1;34m\u001b[0m\n\u001b[1;32m----> 1\u001b[1;33m \u001b[0mauc\u001b[0m \u001b[1;33m=\u001b[0m \u001b[0mroc_auc_score\u001b[0m\u001b[1;33m(\u001b[0m\u001b[0my\u001b[0m\u001b[1;33m,\u001b[0m \u001b[0mpredictions\u001b[0m\u001b[1;33m)\u001b[0m\u001b[1;33m\u001b[0m\u001b[1;33m\u001b[0m\u001b[0m\n\u001b[0m\u001b[0;32m      2\u001b[0m \u001b[0mprint\u001b[0m\u001b[1;33m(\u001b[0m\u001b[0mround\u001b[0m\u001b[1;33m(\u001b[0m\u001b[0mauc\u001b[0m\u001b[1;33m,\u001b[0m\u001b[1;36m2\u001b[0m\u001b[1;33m)\u001b[0m\u001b[1;33m)\u001b[0m\u001b[1;33m\u001b[0m\u001b[1;33m\u001b[0m\u001b[0m\n",
      "\u001b[1;32m~\\anaconda3\\lib\\site-packages\\sklearn\\utils\\validation.py\u001b[0m in \u001b[0;36minner_f\u001b[1;34m(*args, **kwargs)\u001b[0m\n\u001b[0;32m     61\u001b[0m             \u001b[0mextra_args\u001b[0m \u001b[1;33m=\u001b[0m \u001b[0mlen\u001b[0m\u001b[1;33m(\u001b[0m\u001b[0margs\u001b[0m\u001b[1;33m)\u001b[0m \u001b[1;33m-\u001b[0m \u001b[0mlen\u001b[0m\u001b[1;33m(\u001b[0m\u001b[0mall_args\u001b[0m\u001b[1;33m)\u001b[0m\u001b[1;33m\u001b[0m\u001b[1;33m\u001b[0m\u001b[0m\n\u001b[0;32m     62\u001b[0m             \u001b[1;32mif\u001b[0m \u001b[0mextra_args\u001b[0m \u001b[1;33m<=\u001b[0m \u001b[1;36m0\u001b[0m\u001b[1;33m:\u001b[0m\u001b[1;33m\u001b[0m\u001b[1;33m\u001b[0m\u001b[0m\n\u001b[1;32m---> 63\u001b[1;33m                 \u001b[1;32mreturn\u001b[0m \u001b[0mf\u001b[0m\u001b[1;33m(\u001b[0m\u001b[1;33m*\u001b[0m\u001b[0margs\u001b[0m\u001b[1;33m,\u001b[0m \u001b[1;33m**\u001b[0m\u001b[0mkwargs\u001b[0m\u001b[1;33m)\u001b[0m\u001b[1;33m\u001b[0m\u001b[1;33m\u001b[0m\u001b[0m\n\u001b[0m\u001b[0;32m     64\u001b[0m \u001b[1;33m\u001b[0m\u001b[0m\n\u001b[0;32m     65\u001b[0m             \u001b[1;31m# extra_args > 0\u001b[0m\u001b[1;33m\u001b[0m\u001b[1;33m\u001b[0m\u001b[1;33m\u001b[0m\u001b[0m\n",
      "\u001b[1;32m~\\anaconda3\\lib\\site-packages\\sklearn\\metrics\\_ranking.py\u001b[0m in \u001b[0;36mroc_auc_score\u001b[1;34m(y_true, y_score, average, sample_weight, max_fpr, multi_class, labels)\u001b[0m\n\u001b[0;32m    534\u001b[0m                              \"instead\".format(max_fpr))\n\u001b[0;32m    535\u001b[0m         \u001b[1;32mif\u001b[0m \u001b[0mmulti_class\u001b[0m \u001b[1;33m==\u001b[0m \u001b[1;34m'raise'\u001b[0m\u001b[1;33m:\u001b[0m\u001b[1;33m\u001b[0m\u001b[1;33m\u001b[0m\u001b[0m\n\u001b[1;32m--> 536\u001b[1;33m             \u001b[1;32mraise\u001b[0m \u001b[0mValueError\u001b[0m\u001b[1;33m(\u001b[0m\u001b[1;34m\"multi_class must be in ('ovo', 'ovr')\"\u001b[0m\u001b[1;33m)\u001b[0m\u001b[1;33m\u001b[0m\u001b[1;33m\u001b[0m\u001b[0m\n\u001b[0m\u001b[0;32m    537\u001b[0m         return _multiclass_roc_auc_score(y_true, y_score, labels,\n\u001b[0;32m    538\u001b[0m                                          multi_class, average, sample_weight)\n",
      "\u001b[1;31mValueError\u001b[0m: multi_class must be in ('ovo', 'ovr')"
     ]
    }
   ],
   "metadata": {}
  },
  {
   "cell_type": "code",
   "execution_count": 25,
   "source": [
    "#data 2 catitory\r\n",
    "variables_1 = ['sum_smells_open_commit',\r\n",
    "                'sum_smell_closed',\r\n",
    "                'remove_smell']"
   ],
   "outputs": [],
   "metadata": {}
  },
  {
   "cell_type": "code",
   "execution_count": 26,
   "source": [
    "variables_2 = ['changed_file',\r\n",
    "                'additions',\r\n",
    "                'deletions',\r\n",
    "                'Dev']"
   ],
   "outputs": [],
   "metadata": {}
  },
  {
   "cell_type": "code",
   "execution_count": 27,
   "source": [
    "X_1 = basetable[variables_1]\r\n",
    "X_2 = basetable[variables_2]\r\n",
    "y = basetable[[\"time\"]]"
   ],
   "outputs": [],
   "metadata": {}
  },
  {
   "cell_type": "code",
   "execution_count": 28,
   "source": [
    "logreg = linear_model.LogisticRegression()"
   ],
   "outputs": [],
   "metadata": {}
  },
  {
   "cell_type": "code",
   "execution_count": 29,
   "source": [
    "logreg.fit(X_1, y)\r\n"
   ],
   "outputs": [
    {
     "output_type": "stream",
     "name": "stderr",
     "text": [
      "C:\\Users\\Lenovo\\anaconda3\\lib\\site-packages\\sklearn\\utils\\validation.py:63: DataConversionWarning: A column-vector y was passed when a 1d array was expected. Please change the shape of y to (n_samples, ), for example using ravel().\n",
      "  return f(*args, **kwargs)\n",
      "C:\\Users\\Lenovo\\anaconda3\\lib\\site-packages\\sklearn\\linear_model\\_logistic.py:763: ConvergenceWarning: lbfgs failed to converge (status=1):\n",
      "STOP: TOTAL NO. of ITERATIONS REACHED LIMIT.\n",
      "\n",
      "Increase the number of iterations (max_iter) or scale the data as shown in:\n",
      "    https://scikit-learn.org/stable/modules/preprocessing.html\n",
      "Please also refer to the documentation for alternative solver options:\n",
      "    https://scikit-learn.org/stable/modules/linear_model.html#logistic-regression\n",
      "  n_iter_i = _check_optimize_result(\n"
     ]
    },
    {
     "output_type": "execute_result",
     "data": {
      "text/plain": [
       "LogisticRegression()"
      ]
     },
     "metadata": {},
     "execution_count": 29
    }
   ],
   "metadata": {}
  },
  {
   "cell_type": "code",
   "execution_count": 30,
   "source": [
    "predictions_1 = logreg.predict_proba(X_1)[:,1]\r\n",
    "predictions_1"
   ],
   "outputs": [
    {
     "output_type": "execute_result",
     "data": {
      "text/plain": [
       "array([2.96666483e-02, 1.10094808e-01, 1.20789358e-01, 3.31718560e-13,\n",
       "       1.18722541e-04, 4.09096885e-07, 3.83155255e-03, 3.62936199e-03,\n",
       "       5.21304072e-02, 8.64406950e-02, 1.38264517e-03, 5.21304072e-02,\n",
       "       2.71232027e-06, 1.21756465e-10, 1.82560669e-01, 3.84144955e-02,\n",
       "       1.96579457e-02, 4.27039150e-03, 1.09104003e-03, 2.17611809e-06,\n",
       "       1.37937212e-02, 8.16684494e-04, 4.04059010e-02, 7.21023486e-02,\n",
       "       1.72595350e-02, 4.84980805e-02, 1.37290452e-02, 7.55740043e-07,\n",
       "       1.11527781e-29, 3.90454367e-04, 3.90454367e-04, 3.90454367e-04,\n",
       "       3.90454367e-04, 3.90454367e-04, 3.90454367e-04, 3.90454367e-04,\n",
       "       3.90454367e-04, 3.90454367e-04, 3.90454367e-04, 3.90454367e-04,\n",
       "       3.90454367e-04, 3.90454367e-04, 3.90454367e-04, 3.90454367e-04,\n",
       "       3.90454367e-04, 3.90454367e-04, 3.90454367e-04, 3.90454367e-04,\n",
       "       3.90454367e-04, 3.90454367e-04, 3.90454367e-04, 3.90454367e-04,\n",
       "       3.90454367e-04, 3.90454367e-04, 3.90454367e-04, 3.90454367e-04,\n",
       "       3.90454367e-04, 3.90454367e-04, 3.90454367e-04, 3.90454367e-04,\n",
       "       3.90454367e-04, 3.90454367e-04, 3.90454367e-04, 3.90454367e-04,\n",
       "       3.90454367e-04, 3.90454367e-04, 3.90454367e-04, 3.90454367e-04,\n",
       "       3.90454367e-04, 3.90454367e-04, 3.90454367e-04, 3.90454367e-04,\n",
       "       3.90454367e-04, 3.90454367e-04, 3.90454367e-04, 3.90454367e-04,\n",
       "       3.90454367e-04, 3.90454367e-04, 3.90454367e-04, 3.90454367e-04,\n",
       "       3.90454367e-04, 3.90454367e-04, 3.90454367e-04, 3.90454367e-04,\n",
       "       3.90454367e-04, 3.90454367e-04, 3.90454367e-04, 3.90454367e-04,\n",
       "       3.90454367e-04, 3.90454367e-04, 3.90454367e-04, 3.90454367e-04,\n",
       "       3.90454367e-04, 3.90454367e-04, 3.90454367e-04, 3.90454367e-04,\n",
       "       3.90454367e-04, 3.90454367e-04, 3.90454367e-04, 3.90454367e-04,\n",
       "       3.90454367e-04, 3.90454367e-04, 3.90454367e-04, 3.90454367e-04,\n",
       "       3.90454367e-04, 3.90454367e-04, 3.90454367e-04, 3.90454367e-04,\n",
       "       3.90454367e-04, 3.90454367e-04, 3.90454367e-04, 3.90454367e-04,\n",
       "       3.90454367e-04, 3.90454367e-04, 3.90454367e-04, 3.90454367e-04,\n",
       "       3.90454367e-04, 3.90454367e-04])"
      ]
     },
     "metadata": {},
     "execution_count": 30
    }
   ],
   "metadata": {}
  },
  {
   "cell_type": "code",
   "execution_count": null,
   "source": [
    "#auc = roc_auc_score(y,predictions_1)"
   ],
   "outputs": [],
   "metadata": {}
  },
  {
   "cell_type": "code",
   "execution_count": 35,
   "source": [
    "# Create dataframes with variables and target\r\n",
    "x_set = basetable.drop(\"time\", 1)"
   ],
   "outputs": [],
   "metadata": {}
  },
  {
   "cell_type": "code",
   "execution_count": 39,
   "source": [
    "y = basetable[\"time\"]"
   ],
   "outputs": [],
   "metadata": {}
  },
  {
   "cell_type": "code",
   "execution_count": 43,
   "source": [
    "# Carry out 70-30 partititioning with stratification\r\n",
    "X_train, X_test, y_train, y_test = train_test_split( x_set, y, test_size = 0.33, random_state=42)"
   ],
   "outputs": [],
   "metadata": {}
  },
  {
   "cell_type": "code",
   "execution_count": 44,
   "source": [
    "# Create the final train and test basetables\r\n",
    "train = pd.concat([X_train, y_train], axis=1)\r\n",
    "test = pd.concat([X_test, y_test], axis=1)"
   ],
   "outputs": [],
   "metadata": {}
  },
  {
   "cell_type": "code",
   "execution_count": 79,
   "source": [
    "variables = ['sum_smells_open_commit',\r\n",
    "                'sum_smell_closed',\r\n",
    "                'remove_smell',\r\n",
    "                'changed_file',\r\n",
    "                'additions'\r\n",
    "                'deletions',\r\n",
    "                'Dev']"
   ],
   "outputs": [],
   "metadata": {}
  },
  {
   "cell_type": "code",
   "execution_count": 54,
   "source": [
    "# Keep track of train and test AUC values\r\n",
    "auc_values_train = []\r\n",
    "auc_values_test = []"
   ],
   "outputs": [],
   "metadata": {}
  },
  {
   "cell_type": "code",
   "execution_count": 55,
   "source": [
    "#add variables\r\n",
    "variables_evaluate = []"
   ],
   "outputs": [],
   "metadata": {}
  },
  {
   "cell_type": "code",
   "execution_count": 74,
   "source": [
    "auc_train_test = auc( variables , [\"time\"], basetable)\r\n",
    "print(round(auc_train_test,2))"
   ],
   "outputs": [
    {
     "output_type": "error",
     "ename": "TypeError",
     "evalue": "auc() missing 1 required positional argument: 'test'",
     "traceback": [
      "\u001b[1;31m---------------------------------------------------------------------------\u001b[0m",
      "\u001b[1;31mTypeError\u001b[0m                                 Traceback (most recent call last)",
      "\u001b[1;32m<ipython-input-74-92097ea684b3>\u001b[0m in \u001b[0;36m<module>\u001b[1;34m\u001b[0m\n\u001b[1;32m----> 1\u001b[1;33m \u001b[0mauc_train_test\u001b[0m \u001b[1;33m=\u001b[0m \u001b[0mauc\u001b[0m\u001b[1;33m(\u001b[0m \u001b[0mvariables\u001b[0m \u001b[1;33m,\u001b[0m \u001b[1;33m[\u001b[0m\u001b[1;34m\"time\"\u001b[0m\u001b[1;33m]\u001b[0m\u001b[1;33m,\u001b[0m \u001b[0mbasetable\u001b[0m\u001b[1;33m)\u001b[0m\u001b[1;33m\u001b[0m\u001b[1;33m\u001b[0m\u001b[0m\n\u001b[0m\u001b[0;32m      2\u001b[0m \u001b[0mprint\u001b[0m\u001b[1;33m(\u001b[0m\u001b[0mround\u001b[0m\u001b[1;33m(\u001b[0m\u001b[0mauc_train_test\u001b[0m\u001b[1;33m,\u001b[0m\u001b[1;36m2\u001b[0m\u001b[1;33m)\u001b[0m\u001b[1;33m)\u001b[0m\u001b[1;33m\u001b[0m\u001b[1;33m\u001b[0m\u001b[0m\n",
      "\u001b[1;31mTypeError\u001b[0m: auc() missing 1 required positional argument: 'test'"
     ]
    }
   ],
   "metadata": {}
  },
  {
   "cell_type": "code",
   "execution_count": 75,
   "source": [
    "#loop variables \r\n",
    "for v in variables:\r\n",
    "    variables_evaluate.append(v)\r\n",
    "    # \r\n",
    "    auc_train, auc_test = auc_train_test(variables_evaluate, [\"time\"], train, test)\r\n",
    "    auc_values_train.append(auc_train)\r\n",
    "    auc_values_test.append(auc_test)"
   ],
   "outputs": [
    {
     "output_type": "error",
     "ename": "NameError",
     "evalue": "name 'auc_train_test' is not defined",
     "traceback": [
      "\u001b[1;31m---------------------------------------------------------------------------\u001b[0m",
      "\u001b[1;31mNameError\u001b[0m                                 Traceback (most recent call last)",
      "\u001b[1;32m<ipython-input-75-f2c1bdd46eac>\u001b[0m in \u001b[0;36m<module>\u001b[1;34m\u001b[0m\n\u001b[0;32m      3\u001b[0m     \u001b[0mvariables_evaluate\u001b[0m\u001b[1;33m.\u001b[0m\u001b[0mappend\u001b[0m\u001b[1;33m(\u001b[0m\u001b[0mv\u001b[0m\u001b[1;33m)\u001b[0m\u001b[1;33m\u001b[0m\u001b[1;33m\u001b[0m\u001b[0m\n\u001b[0;32m      4\u001b[0m     \u001b[1;31m#\u001b[0m\u001b[1;33m\u001b[0m\u001b[1;33m\u001b[0m\u001b[1;33m\u001b[0m\u001b[0m\n\u001b[1;32m----> 5\u001b[1;33m     \u001b[0mauc_train\u001b[0m\u001b[1;33m,\u001b[0m \u001b[0mauc_test\u001b[0m \u001b[1;33m=\u001b[0m \u001b[0mauc_train_test\u001b[0m\u001b[1;33m(\u001b[0m\u001b[0mvariables_evaluate\u001b[0m\u001b[1;33m,\u001b[0m \u001b[1;33m[\u001b[0m\u001b[1;34m\"time\"\u001b[0m\u001b[1;33m]\u001b[0m\u001b[1;33m,\u001b[0m \u001b[0mtrain\u001b[0m\u001b[1;33m,\u001b[0m \u001b[0mtest\u001b[0m\u001b[1;33m)\u001b[0m\u001b[1;33m\u001b[0m\u001b[1;33m\u001b[0m\u001b[0m\n\u001b[0m\u001b[0;32m      6\u001b[0m     \u001b[0mauc_values_train\u001b[0m\u001b[1;33m.\u001b[0m\u001b[0mappend\u001b[0m\u001b[1;33m(\u001b[0m\u001b[0mauc_train\u001b[0m\u001b[1;33m)\u001b[0m\u001b[1;33m\u001b[0m\u001b[1;33m\u001b[0m\u001b[0m\n\u001b[0;32m      7\u001b[0m     \u001b[0mauc_values_test\u001b[0m\u001b[1;33m.\u001b[0m\u001b[0mappend\u001b[0m\u001b[1;33m(\u001b[0m\u001b[0mauc_test\u001b[0m\u001b[1;33m)\u001b[0m\u001b[1;33m\u001b[0m\u001b[1;33m\u001b[0m\u001b[0m\n",
      "\u001b[1;31mNameError\u001b[0m: name 'auc_train_test' is not defined"
     ]
    }
   ],
   "metadata": {}
  },
  {
   "cell_type": "code",
   "execution_count": null,
   "source": [
    " #Make plot of the AUC values"
   ],
   "outputs": [],
   "metadata": {}
  },
  {
   "cell_type": "code",
   "execution_count": 80,
   "source": [
    "x = np.array(range(0,len(auc_values_train)))\r\n",
    "\r\n",
    "y_train = np.array(auc_values_train)\r\n",
    "y_test = np.array(auc_values_test)\r\n",
    "\r\n",
    "plt.xticks(x, variables, rotation = 90)\r\n",
    "plt.plot(x,y_train)\r\n",
    "plt.plot(x,y_test)\r\n",
    "plt.ylim((0.6, 0.8))\r\n",
    "plt.show()"
   ],
   "outputs": [
    {
     "output_type": "error",
     "ename": "ValueError",
     "evalue": "The number of FixedLocator locations (0), usually from a call to set_ticks, does not match the number of ticklabels (6).",
     "traceback": [
      "\u001b[1;31m---------------------------------------------------------------------------\u001b[0m",
      "\u001b[1;31mValueError\u001b[0m                                Traceback (most recent call last)",
      "\u001b[1;32m<ipython-input-80-adc03de953c7>\u001b[0m in \u001b[0;36m<module>\u001b[1;34m\u001b[0m\n\u001b[0;32m      4\u001b[0m \u001b[0my_test\u001b[0m \u001b[1;33m=\u001b[0m \u001b[0mnp\u001b[0m\u001b[1;33m.\u001b[0m\u001b[0marray\u001b[0m\u001b[1;33m(\u001b[0m\u001b[0mauc_values_test\u001b[0m\u001b[1;33m)\u001b[0m\u001b[1;33m\u001b[0m\u001b[1;33m\u001b[0m\u001b[0m\n\u001b[0;32m      5\u001b[0m \u001b[1;33m\u001b[0m\u001b[0m\n\u001b[1;32m----> 6\u001b[1;33m \u001b[0mplt\u001b[0m\u001b[1;33m.\u001b[0m\u001b[0mxticks\u001b[0m\u001b[1;33m(\u001b[0m\u001b[0mx\u001b[0m\u001b[1;33m,\u001b[0m \u001b[0mvariables\u001b[0m\u001b[1;33m,\u001b[0m \u001b[0mrotation\u001b[0m \u001b[1;33m=\u001b[0m \u001b[1;36m90\u001b[0m\u001b[1;33m)\u001b[0m\u001b[1;33m\u001b[0m\u001b[1;33m\u001b[0m\u001b[0m\n\u001b[0m\u001b[0;32m      7\u001b[0m \u001b[0mplt\u001b[0m\u001b[1;33m.\u001b[0m\u001b[0mplot\u001b[0m\u001b[1;33m(\u001b[0m\u001b[0mx\u001b[0m\u001b[1;33m,\u001b[0m\u001b[0my_train\u001b[0m\u001b[1;33m)\u001b[0m\u001b[1;33m\u001b[0m\u001b[1;33m\u001b[0m\u001b[0m\n\u001b[0;32m      8\u001b[0m \u001b[0mplt\u001b[0m\u001b[1;33m.\u001b[0m\u001b[0mplot\u001b[0m\u001b[1;33m(\u001b[0m\u001b[0mx\u001b[0m\u001b[1;33m,\u001b[0m\u001b[0my_test\u001b[0m\u001b[1;33m)\u001b[0m\u001b[1;33m\u001b[0m\u001b[1;33m\u001b[0m\u001b[0m\n",
      "\u001b[1;32m~\\anaconda3\\lib\\site-packages\\matplotlib\\pyplot.py\u001b[0m in \u001b[0;36mxticks\u001b[1;34m(ticks, labels, **kwargs)\u001b[0m\n\u001b[0;32m   1657\u001b[0m         \u001b[0mlabels\u001b[0m \u001b[1;33m=\u001b[0m \u001b[0max\u001b[0m\u001b[1;33m.\u001b[0m\u001b[0mget_xticklabels\u001b[0m\u001b[1;33m(\u001b[0m\u001b[1;33m)\u001b[0m\u001b[1;33m\u001b[0m\u001b[1;33m\u001b[0m\u001b[0m\n\u001b[0;32m   1658\u001b[0m     \u001b[1;32melse\u001b[0m\u001b[1;33m:\u001b[0m\u001b[1;33m\u001b[0m\u001b[1;33m\u001b[0m\u001b[0m\n\u001b[1;32m-> 1659\u001b[1;33m         \u001b[0mlabels\u001b[0m \u001b[1;33m=\u001b[0m \u001b[0max\u001b[0m\u001b[1;33m.\u001b[0m\u001b[0mset_xticklabels\u001b[0m\u001b[1;33m(\u001b[0m\u001b[0mlabels\u001b[0m\u001b[1;33m,\u001b[0m \u001b[1;33m**\u001b[0m\u001b[0mkwargs\u001b[0m\u001b[1;33m)\u001b[0m\u001b[1;33m\u001b[0m\u001b[1;33m\u001b[0m\u001b[0m\n\u001b[0m\u001b[0;32m   1660\u001b[0m     \u001b[1;32mfor\u001b[0m \u001b[0ml\u001b[0m \u001b[1;32min\u001b[0m \u001b[0mlabels\u001b[0m\u001b[1;33m:\u001b[0m\u001b[1;33m\u001b[0m\u001b[1;33m\u001b[0m\u001b[0m\n\u001b[0;32m   1661\u001b[0m         \u001b[0ml\u001b[0m\u001b[1;33m.\u001b[0m\u001b[0mupdate\u001b[0m\u001b[1;33m(\u001b[0m\u001b[0mkwargs\u001b[0m\u001b[1;33m)\u001b[0m\u001b[1;33m\u001b[0m\u001b[1;33m\u001b[0m\u001b[0m\n",
      "\u001b[1;32m~\\anaconda3\\lib\\site-packages\\matplotlib\\axes\\_base.py\u001b[0m in \u001b[0;36mwrapper\u001b[1;34m(self, *args, **kwargs)\u001b[0m\n\u001b[0;32m     61\u001b[0m \u001b[1;33m\u001b[0m\u001b[0m\n\u001b[0;32m     62\u001b[0m         \u001b[1;32mdef\u001b[0m \u001b[0mwrapper\u001b[0m\u001b[1;33m(\u001b[0m\u001b[0mself\u001b[0m\u001b[1;33m,\u001b[0m \u001b[1;33m*\u001b[0m\u001b[0margs\u001b[0m\u001b[1;33m,\u001b[0m \u001b[1;33m**\u001b[0m\u001b[0mkwargs\u001b[0m\u001b[1;33m)\u001b[0m\u001b[1;33m:\u001b[0m\u001b[1;33m\u001b[0m\u001b[1;33m\u001b[0m\u001b[0m\n\u001b[1;32m---> 63\u001b[1;33m             \u001b[1;32mreturn\u001b[0m \u001b[0mget_method\u001b[0m\u001b[1;33m(\u001b[0m\u001b[0mself\u001b[0m\u001b[1;33m)\u001b[0m\u001b[1;33m(\u001b[0m\u001b[1;33m*\u001b[0m\u001b[0margs\u001b[0m\u001b[1;33m,\u001b[0m \u001b[1;33m**\u001b[0m\u001b[0mkwargs\u001b[0m\u001b[1;33m)\u001b[0m\u001b[1;33m\u001b[0m\u001b[1;33m\u001b[0m\u001b[0m\n\u001b[0m\u001b[0;32m     64\u001b[0m \u001b[1;33m\u001b[0m\u001b[0m\n\u001b[0;32m     65\u001b[0m         \u001b[0mwrapper\u001b[0m\u001b[1;33m.\u001b[0m\u001b[0m__module__\u001b[0m \u001b[1;33m=\u001b[0m \u001b[0mowner\u001b[0m\u001b[1;33m.\u001b[0m\u001b[0m__module__\u001b[0m\u001b[1;33m\u001b[0m\u001b[1;33m\u001b[0m\u001b[0m\n",
      "\u001b[1;32m~\\anaconda3\\lib\\site-packages\\matplotlib\\cbook\\deprecation.py\u001b[0m in \u001b[0;36mwrapper\u001b[1;34m(*args, **kwargs)\u001b[0m\n\u001b[0;32m    449\u001b[0m                 \u001b[1;34m\"parameter will become keyword-only %(removal)s.\"\u001b[0m\u001b[1;33m,\u001b[0m\u001b[1;33m\u001b[0m\u001b[1;33m\u001b[0m\u001b[0m\n\u001b[0;32m    450\u001b[0m                 name=name, obj_type=f\"parameter of {func.__name__}()\")\n\u001b[1;32m--> 451\u001b[1;33m         \u001b[1;32mreturn\u001b[0m \u001b[0mfunc\u001b[0m\u001b[1;33m(\u001b[0m\u001b[1;33m*\u001b[0m\u001b[0margs\u001b[0m\u001b[1;33m,\u001b[0m \u001b[1;33m**\u001b[0m\u001b[0mkwargs\u001b[0m\u001b[1;33m)\u001b[0m\u001b[1;33m\u001b[0m\u001b[1;33m\u001b[0m\u001b[0m\n\u001b[0m\u001b[0;32m    452\u001b[0m \u001b[1;33m\u001b[0m\u001b[0m\n\u001b[0;32m    453\u001b[0m     \u001b[1;32mreturn\u001b[0m \u001b[0mwrapper\u001b[0m\u001b[1;33m\u001b[0m\u001b[1;33m\u001b[0m\u001b[0m\n",
      "\u001b[1;32m~\\anaconda3\\lib\\site-packages\\matplotlib\\axis.py\u001b[0m in \u001b[0;36m_set_ticklabels\u001b[1;34m(self, labels, fontdict, minor, **kwargs)\u001b[0m\n\u001b[0;32m   1794\u001b[0m         \u001b[1;32mif\u001b[0m \u001b[0mfontdict\u001b[0m \u001b[1;32mis\u001b[0m \u001b[1;32mnot\u001b[0m \u001b[1;32mNone\u001b[0m\u001b[1;33m:\u001b[0m\u001b[1;33m\u001b[0m\u001b[1;33m\u001b[0m\u001b[0m\n\u001b[0;32m   1795\u001b[0m             \u001b[0mkwargs\u001b[0m\u001b[1;33m.\u001b[0m\u001b[0mupdate\u001b[0m\u001b[1;33m(\u001b[0m\u001b[0mfontdict\u001b[0m\u001b[1;33m)\u001b[0m\u001b[1;33m\u001b[0m\u001b[1;33m\u001b[0m\u001b[0m\n\u001b[1;32m-> 1796\u001b[1;33m         \u001b[1;32mreturn\u001b[0m \u001b[0mself\u001b[0m\u001b[1;33m.\u001b[0m\u001b[0mset_ticklabels\u001b[0m\u001b[1;33m(\u001b[0m\u001b[0mlabels\u001b[0m\u001b[1;33m,\u001b[0m \u001b[0mminor\u001b[0m\u001b[1;33m=\u001b[0m\u001b[0mminor\u001b[0m\u001b[1;33m,\u001b[0m \u001b[1;33m**\u001b[0m\u001b[0mkwargs\u001b[0m\u001b[1;33m)\u001b[0m\u001b[1;33m\u001b[0m\u001b[1;33m\u001b[0m\u001b[0m\n\u001b[0m\u001b[0;32m   1797\u001b[0m \u001b[1;33m\u001b[0m\u001b[0m\n\u001b[0;32m   1798\u001b[0m     \u001b[1;33m@\u001b[0m\u001b[0mcbook\u001b[0m\u001b[1;33m.\u001b[0m\u001b[0m_make_keyword_only\u001b[0m\u001b[1;33m(\u001b[0m\u001b[1;34m\"3.2\"\u001b[0m\u001b[1;33m,\u001b[0m \u001b[1;34m\"minor\"\u001b[0m\u001b[1;33m)\u001b[0m\u001b[1;33m\u001b[0m\u001b[1;33m\u001b[0m\u001b[0m\n",
      "\u001b[1;32m~\\anaconda3\\lib\\site-packages\\matplotlib\\axis.py\u001b[0m in \u001b[0;36mset_ticklabels\u001b[1;34m(self, ticklabels, minor, **kwargs)\u001b[0m\n\u001b[0;32m   1715\u001b[0m             \u001b[1;31m# remove all tick labels, so only error for > 0 ticklabels\u001b[0m\u001b[1;33m\u001b[0m\u001b[1;33m\u001b[0m\u001b[1;33m\u001b[0m\u001b[0m\n\u001b[0;32m   1716\u001b[0m             \u001b[1;32mif\u001b[0m \u001b[0mlen\u001b[0m\u001b[1;33m(\u001b[0m\u001b[0mlocator\u001b[0m\u001b[1;33m.\u001b[0m\u001b[0mlocs\u001b[0m\u001b[1;33m)\u001b[0m \u001b[1;33m!=\u001b[0m \u001b[0mlen\u001b[0m\u001b[1;33m(\u001b[0m\u001b[0mticklabels\u001b[0m\u001b[1;33m)\u001b[0m \u001b[1;32mand\u001b[0m \u001b[0mlen\u001b[0m\u001b[1;33m(\u001b[0m\u001b[0mticklabels\u001b[0m\u001b[1;33m)\u001b[0m \u001b[1;33m!=\u001b[0m \u001b[1;36m0\u001b[0m\u001b[1;33m:\u001b[0m\u001b[1;33m\u001b[0m\u001b[1;33m\u001b[0m\u001b[0m\n\u001b[1;32m-> 1717\u001b[1;33m                 raise ValueError(\n\u001b[0m\u001b[0;32m   1718\u001b[0m                     \u001b[1;34m\"The number of FixedLocator locations\"\u001b[0m\u001b[1;33m\u001b[0m\u001b[1;33m\u001b[0m\u001b[0m\n\u001b[0;32m   1719\u001b[0m                     \u001b[1;34mf\" ({len(locator.locs)}), usually from a call to\"\u001b[0m\u001b[1;33m\u001b[0m\u001b[1;33m\u001b[0m\u001b[0m\n",
      "\u001b[1;31mValueError\u001b[0m: The number of FixedLocator locations (0), usually from a call to set_ticks, does not match the number of ticklabels (6)."
     ]
    },
    {
     "output_type": "display_data",
     "data": {
      "image/png": "[encoded data removed]",
      "text/plain": [
       "<Figure size 432x288 with 1 Axes>"
      ]
     },
     "metadata": {
      "needs_background": "light"
     }
    }
   ],
   "metadata": {}
  },
  {
   "cell_type": "code",
   "execution_count": null,
   "source": [
    "random_predictions = [random.uniform(0,1) for _ in range(len(targets_test))]"
   ],
   "outputs": [
    {
     "output_type": "error",
     "ename": "NameError",
     "evalue": "name 'targets_test' is not defined",
     "traceback": [
      "\u001b[1;31m---------------------------------------------------------------------------\u001b[0m",
      "\u001b[1;31mNameError\u001b[0m                                 Traceback (most recent call last)",
      "\u001b[1;32m<ipython-input-5-d1abc1b3cb5a>\u001b[0m in \u001b[0;36m<module>\u001b[1;34m\u001b[0m\n\u001b[1;32m----> 1\u001b[1;33m \u001b[0mrandom_predictions\u001b[0m \u001b[1;33m=\u001b[0m \u001b[1;33m[\u001b[0m\u001b[0mrandom\u001b[0m\u001b[1;33m.\u001b[0m\u001b[0muniform\u001b[0m\u001b[1;33m(\u001b[0m\u001b[1;36m0\u001b[0m\u001b[1;33m,\u001b[0m\u001b[1;36m1\u001b[0m\u001b[1;33m)\u001b[0m \u001b[1;32mfor\u001b[0m \u001b[0m_\u001b[0m \u001b[1;32min\u001b[0m \u001b[0mrange\u001b[0m\u001b[1;33m(\u001b[0m\u001b[0mlen\u001b[0m\u001b[1;33m(\u001b[0m\u001b[0mtargets_test\u001b[0m\u001b[1;33m)\u001b[0m\u001b[1;33m)\u001b[0m\u001b[1;33m]\u001b[0m\u001b[1;33m\u001b[0m\u001b[1;33m\u001b[0m\u001b[0m\n\u001b[0m",
      "\u001b[1;31mNameError\u001b[0m: name 'targets_test' is not defined"
     ]
    }
   ],
   "metadata": {}
  },
  {
   "cell_type": "code",
   "execution_count": null,
   "source": [
    "# Plot the lift curve\r\n",
    "skplt.metrics.plot_lift_curve(targets_test , predictions_test)\r\n",
    "plt.show()"
   ],
   "outputs": [
    {
     "output_type": "error",
     "ename": "NameError",
     "evalue": "name 'targets_test' is not defined",
     "traceback": [
      "\u001b[1;31m---------------------------------------------------------------------------\u001b[0m",
      "\u001b[1;31mNameError\u001b[0m                                 Traceback (most recent call last)",
      "\u001b[1;32m<ipython-input-9-c2c090446960>\u001b[0m in \u001b[0;36m<module>\u001b[1;34m\u001b[0m\n\u001b[0;32m      1\u001b[0m \u001b[1;31m# Plot the lift curve\u001b[0m\u001b[1;33m\u001b[0m\u001b[1;33m\u001b[0m\u001b[1;33m\u001b[0m\u001b[0m\n\u001b[1;32m----> 2\u001b[1;33m \u001b[0mskplt\u001b[0m\u001b[1;33m.\u001b[0m\u001b[0mmetrics\u001b[0m\u001b[1;33m.\u001b[0m\u001b[0mplot_lift_curve\u001b[0m\u001b[1;33m(\u001b[0m\u001b[0mtargets_test\u001b[0m \u001b[1;33m,\u001b[0m \u001b[0mpredictions_test\u001b[0m\u001b[1;33m)\u001b[0m\u001b[1;33m\u001b[0m\u001b[1;33m\u001b[0m\u001b[0m\n\u001b[0m\u001b[0;32m      3\u001b[0m \u001b[0mplt\u001b[0m\u001b[1;33m.\u001b[0m\u001b[0mshow\u001b[0m\u001b[1;33m(\u001b[0m\u001b[1;33m)\u001b[0m\u001b[1;33m\u001b[0m\u001b[1;33m\u001b[0m\u001b[0m\n",
      "\u001b[1;31mNameError\u001b[0m: name 'targets_test' is not defined"
     ]
    }
   ],
   "metadata": {}
  }
 ],
 "metadata": {
  "orig_nbformat": 4,
  "language_info": {
   "name": "python",
   "version": "3.8.8",
   "mimetype": "text/x-python",
   "codemirror_mode": {
    "name": "ipython",
    "version": 3
   },
   "pygments_lexer": "ipython3",
   "nbconvert_exporter": "python",
   "file_extension": ".py"
  },
  "kernelspec": {
   "name": "python3",
   "display_name": "Python 3.8.8 64-bit ('base': conda)"
  },
  "interpreter": {
   "hash": "c5e48f84046969b800ff52f6d80523bcd1ca3fb1a99f1449e4197bf6c73dc096"
  }
 },
 "nbformat": 4,
 "nbformat_minor": 2
}