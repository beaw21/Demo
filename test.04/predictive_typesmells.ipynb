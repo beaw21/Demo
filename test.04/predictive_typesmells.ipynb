{
 "cells": [
  {
   "cell_type": "code",
   "execution_count": 27,
   "source": [
    "import matplotlib.pyplot as plt\r\n",
    "import seaborn as sns\r\n",
    "import pandas as pd\r\n",
    "import statsmodels.api as sm\r\n",
    "from sklearn import linear_model\r\n",
    "from sklearn.metrics import roc_auc_score"
   ],
   "outputs": [],
   "metadata": {}
  },
  {
   "cell_type": "code",
   "execution_count": 3,
   "source": [
    "basetable = pd.read_csv('type_smells.csv')\r\n",
    "basetable"
   ],
   "outputs": [
    {
     "output_type": "execute_result",
     "data": {
      "text/html": [
       "<div>\n",
       "<style scoped>\n",
       "    .dataframe tbody tr th:only-of-type {\n",
       "        vertical-align: middle;\n",
       "    }\n",
       "\n",
       "    .dataframe tbody tr th {\n",
       "        vertical-align: top;\n",
       "    }\n",
       "\n",
       "    .dataframe thead th {\n",
       "        text-align: right;\n",
       "    }\n",
       "</style>\n",
       "<table border=\"1\" class=\"dataframe\">\n",
       "  <thead>\n",
       "    <tr style=\"text-align: right;\">\n",
       "      <th></th>\n",
       "      <th>url</th>\n",
       "      <th>commit</th>\n",
       "      <th>parents</th>\n",
       "      <th>java s112</th>\n",
       "      <th>java s112.1</th>\n",
       "      <th>java s119</th>\n",
       "      <th>java s119.1</th>\n",
       "      <th>java:S106</th>\n",
       "      <th>java:S106.1</th>\n",
       "      <th>java s1068</th>\n",
       "      <th>...</th>\n",
       "      <th>sum_smells_open_commit</th>\n",
       "      <th>sum_smell_closed</th>\n",
       "      <th>remove_smell</th>\n",
       "      <th>open_time</th>\n",
       "      <th>closed_time</th>\n",
       "      <th>time</th>\n",
       "      <th>changed_file</th>\n",
       "      <th>additions</th>\n",
       "      <th>deletions</th>\n",
       "      <th>Dev</th>\n",
       "    </tr>\n",
       "  </thead>\n",
       "  <tbody>\n",
       "    <tr>\n",
       "      <th>0</th>\n",
       "      <td>https://github.com/apache/flink/pull/2342</td>\n",
       "      <td>58165d69fb</td>\n",
       "      <td>73c73e92750a</td>\n",
       "      <td>6</td>\n",
       "      <td>0</td>\n",
       "      <td>0</td>\n",
       "      <td>0</td>\n",
       "      <td>0</td>\n",
       "      <td>0</td>\n",
       "      <td>0</td>\n",
       "      <td>...</td>\n",
       "      <td>8</td>\n",
       "      <td>5</td>\n",
       "      <td>-3</td>\n",
       "      <td>9/1/2015 22:25</td>\n",
       "      <td>8/24/2016 17:09</td>\n",
       "      <td>18:43:45</td>\n",
       "      <td>45</td>\n",
       "      <td>429</td>\n",
       "      <td>253</td>\n",
       "      <td>1</td>\n",
       "    </tr>\n",
       "    <tr>\n",
       "      <th>1</th>\n",
       "      <td>https://github.com/apache/flink/pull/5947</td>\n",
       "      <td>5ac4d2960984</td>\n",
       "      <td>a4afe2fe9</td>\n",
       "      <td>0</td>\n",
       "      <td>0</td>\n",
       "      <td>8</td>\n",
       "      <td>0</td>\n",
       "      <td>1</td>\n",
       "      <td>0</td>\n",
       "      <td>0</td>\n",
       "      <td>...</td>\n",
       "      <td>9</td>\n",
       "      <td>8</td>\n",
       "      <td>-1</td>\n",
       "      <td>2/5/2018 4:58</td>\n",
       "      <td>4/5/2018 21:07</td>\n",
       "      <td>16:09:00</td>\n",
       "      <td>15</td>\n",
       "      <td>843</td>\n",
       "      <td>327</td>\n",
       "      <td>2</td>\n",
       "    </tr>\n",
       "    <tr>\n",
       "      <th>2</th>\n",
       "      <td>https://github.com/apache/flink/pull/470</td>\n",
       "      <td>b0b12952c</td>\n",
       "      <td>84b04beba</td>\n",
       "      <td>4</td>\n",
       "      <td>0</td>\n",
       "      <td>0</td>\n",
       "      <td>0</td>\n",
       "      <td>0</td>\n",
       "      <td>4</td>\n",
       "      <td>0</td>\n",
       "      <td>...</td>\n",
       "      <td>7</td>\n",
       "      <td>7</td>\n",
       "      <td>0</td>\n",
       "      <td>9/9/2014 16:16</td>\n",
       "      <td>1/8/2015 23:40</td>\n",
       "      <td>7:23:36</td>\n",
       "      <td>9</td>\n",
       "      <td>326</td>\n",
       "      <td>148</td>\n",
       "      <td>1</td>\n",
       "    </tr>\n",
       "    <tr>\n",
       "      <th>3</th>\n",
       "      <td>https://github.com/apache/flink/commit/a3e2ae47d9</td>\n",
       "      <td>a3e2ae47d9</td>\n",
       "      <td>4497e96b9</td>\n",
       "      <td>0</td>\n",
       "      <td>0</td>\n",
       "      <td>0</td>\n",
       "      <td>0</td>\n",
       "      <td>0</td>\n",
       "      <td>0</td>\n",
       "      <td>0</td>\n",
       "      <td>...</td>\n",
       "      <td>17</td>\n",
       "      <td>1</td>\n",
       "      <td>-16</td>\n",
       "      <td>3/16/2021 20:12</td>\n",
       "      <td>3/24/2021 19:29</td>\n",
       "      <td>23:16:43</td>\n",
       "      <td>5</td>\n",
       "      <td>127</td>\n",
       "      <td>79</td>\n",
       "      <td>2</td>\n",
       "    </tr>\n",
       "    <tr>\n",
       "      <th>4</th>\n",
       "      <td>https://github.com/apache/flink/commit/42ada8a...</td>\n",
       "      <td>ce345e394df</td>\n",
       "      <td>42ada8ad9ca28</td>\n",
       "      <td>2</td>\n",
       "      <td>3</td>\n",
       "      <td>0</td>\n",
       "      <td>8</td>\n",
       "      <td>0</td>\n",
       "      <td>0</td>\n",
       "      <td>0</td>\n",
       "      <td>...</td>\n",
       "      <td>2</td>\n",
       "      <td>14</td>\n",
       "      <td>12</td>\n",
       "      <td>7/9/2018 17:02</td>\n",
       "      <td>7/13/2018 2:03</td>\n",
       "      <td>9:01:02</td>\n",
       "      <td>9</td>\n",
       "      <td>955</td>\n",
       "      <td>36</td>\n",
       "      <td>2</td>\n",
       "    </tr>\n",
       "    <tr>\n",
       "      <th>5</th>\n",
       "      <td>https://github.com/apache/flink/commit/1162caca85</td>\n",
       "      <td>fa75af096f</td>\n",
       "      <td>1162caca85</td>\n",
       "      <td>10</td>\n",
       "      <td>0</td>\n",
       "      <td>0</td>\n",
       "      <td>0</td>\n",
       "      <td>0</td>\n",
       "      <td>0</td>\n",
       "      <td>0</td>\n",
       "      <td>...</td>\n",
       "      <td>10</td>\n",
       "      <td>1</td>\n",
       "      <td>-9</td>\n",
       "      <td>8/3/2014 2:19</td>\n",
       "      <td>8/18/2014 21:22</td>\n",
       "      <td>19:03:30</td>\n",
       "      <td>32</td>\n",
       "      <td>249</td>\n",
       "      <td>1180</td>\n",
       "      <td>2</td>\n",
       "    </tr>\n",
       "  </tbody>\n",
       "</table>\n",
       "<p>6 rows × 41 columns</p>\n",
       "</div>"
      ],
      "text/plain": [
       "                                                 url        commit  \\\n",
       "0          https://github.com/apache/flink/pull/2342    58165d69fb   \n",
       "1          https://github.com/apache/flink/pull/5947  5ac4d2960984   \n",
       "2           https://github.com/apache/flink/pull/470     b0b12952c   \n",
       "3  https://github.com/apache/flink/commit/a3e2ae47d9    a3e2ae47d9   \n",
       "4  https://github.com/apache/flink/commit/42ada8a...   ce345e394df   \n",
       "5  https://github.com/apache/flink/commit/1162caca85    fa75af096f   \n",
       "\n",
       "         parents  java s112  java s112.1  java s119  java s119.1  java:S106  \\\n",
       "0   73c73e92750a          6            0          0            0          0   \n",
       "1      a4afe2fe9          0            0          8            0          1   \n",
       "2      84b04beba          4            0          0            0          0   \n",
       "3      4497e96b9          0            0          0            0          0   \n",
       "4  42ada8ad9ca28          2            3          0            8          0   \n",
       "5     1162caca85         10            0          0            0          0   \n",
       "\n",
       "   java:S106.1  java s1068  ...  sum_smells_open_commit  sum_smell_closed  \\\n",
       "0            0           0  ...                       8                 5   \n",
       "1            0           0  ...                       9                 8   \n",
       "2            4           0  ...                       7                 7   \n",
       "3            0           0  ...                      17                 1   \n",
       "4            0           0  ...                       2                14   \n",
       "5            0           0  ...                      10                 1   \n",
       "\n",
       "   remove_smell        open_time      closed_time      time  changed_file  \\\n",
       "0            -3   9/1/2015 22:25  8/24/2016 17:09  18:43:45            45   \n",
       "1            -1    2/5/2018 4:58   4/5/2018 21:07  16:09:00            15   \n",
       "2             0   9/9/2014 16:16   1/8/2015 23:40   7:23:36             9   \n",
       "3           -16  3/16/2021 20:12  3/24/2021 19:29  23:16:43             5   \n",
       "4            12   7/9/2018 17:02   7/13/2018 2:03   9:01:02             9   \n",
       "5            -9    8/3/2014 2:19  8/18/2014 21:22  19:03:30            32   \n",
       "\n",
       "   additions   deletions  Dev  \n",
       "0         429        253    1  \n",
       "1         843        327    2  \n",
       "2         326        148    1  \n",
       "3         127         79    2  \n",
       "4         955         36    2  \n",
       "5         249       1180    2  \n",
       "\n",
       "[6 rows x 41 columns]"
      ]
     },
     "metadata": {},
     "execution_count": 3
    }
   ],
   "metadata": {}
  },
  {
   "cell_type": "code",
   "execution_count": 4,
   "source": [
    "#len check size data population\r\n",
    "population_size = len(basetable)\r\n",
    "print(population_size)"
   ],
   "outputs": [
    {
     "output_type": "stream",
     "name": "stdout",
     "text": [
      "6\n"
     ]
    }
   ],
   "metadata": {}
  },
  {
   "cell_type": "code",
   "execution_count": 5,
   "source": [
    "#count number of occurrences of a certain value in a column\r\n",
    "targets_data = sum(basetable['remove_smell'])\r\n",
    "print(targets_data)"
   ],
   "outputs": [
    {
     "output_type": "stream",
     "name": "stdout",
     "text": [
      "-17\n"
     ]
    }
   ],
   "metadata": {}
  },
  {
   "cell_type": "code",
   "execution_count": null,
   "source": [
    "# build a logistic regression model using the module linear_model\r\n",
    "# x is predictor\r\n",
    "x =basetable[['sum_smells_open_commit','sum_smell_closed','remove_smell']]"
   ],
   "outputs": [],
   "metadata": {}
  },
  {
   "cell_type": "code",
   "execution_count": 7,
   "source": [
    "# y is target\r\n",
    "y =basetable[['time']]"
   ],
   "outputs": [],
   "metadata": {}
  },
  {
   "cell_type": "code",
   "execution_count": 10,
   "source": [
    "#Fit a logistic regression model\r\n",
    "logreg = linear_model.LogisticRegression()\r\n",
    "logreg.fit(x,y)"
   ],
   "outputs": [
    {
     "output_type": "stream",
     "name": "stderr",
     "text": [
      "C:\\Users\\Lenovo\\anaconda3\\lib\\site-packages\\sklearn\\utils\\validation.py:63: DataConversionWarning: A column-vector y was passed when a 1d array was expected. Please change the shape of y to (n_samples, ), for example using ravel().\n",
      "  return f(*args, **kwargs)\n",
      "C:\\Users\\Lenovo\\anaconda3\\lib\\site-packages\\sklearn\\linear_model\\_logistic.py:763: ConvergenceWarning: lbfgs failed to converge (status=1):\n",
      "STOP: TOTAL NO. of ITERATIONS REACHED LIMIT.\n",
      "\n",
      "Increase the number of iterations (max_iter) or scale the data as shown in:\n",
      "    https://scikit-learn.org/stable/modules/preprocessing.html\n",
      "Please also refer to the documentation for alternative solver options:\n",
      "    https://scikit-learn.org/stable/modules/linear_model.html#logistic-regression\n",
      "  n_iter_i = _check_optimize_result(\n"
     ]
    },
    {
     "output_type": "execute_result",
     "data": {
      "text/plain": [
       "LogisticRegression()"
      ]
     },
     "metadata": {},
     "execution_count": 10
    }
   ],
   "metadata": {}
  },
  {
   "cell_type": "code",
   "execution_count": 14,
   "source": [
    "#checking the coef value of the fitted model\r\n",
    "coef = logreg.coef_\r\n",
    "for p in zip(x,list(coef[0])):\r\n",
    "    print(p)"
   ],
   "outputs": [
    {
     "output_type": "stream",
     "name": "stdout",
     "text": [
      "('sum_smells_open_commit', 0.500298300620322)\n",
      "('sum_smell_closed', 0.5616677637562584)\n",
      "('remove_smell', 0.06136946313599897)\n"
     ]
    }
   ],
   "metadata": {}
  },
  {
   "cell_type": "code",
   "execution_count": 11,
   "source": [
    "#also, retrieve the intercept by check intercept_value is about -4\r\n",
    "intercept = logreg.intercept_\r\n",
    "print(intercept)"
   ],
   "outputs": [
    {
     "output_type": "stream",
     "name": "stdout",
     "text": [
      "[-5.95437987  4.54686946  3.89204082 -7.04444054  5.10797897 -0.54806884]\n"
     ]
    }
   ],
   "metadata": {}
  },
  {
   "cell_type": "code",
   "execution_count": 16,
   "source": [
    "# Create a dataframe new_data from current data(BASETABLE) that has only the relevant predictors\r\n",
    "new_data = basetable[['sum_smells_open_commit','sum_smell_closed','remove_smell']]"
   ],
   "outputs": [],
   "metadata": {}
  },
  {
   "cell_type": "code",
   "execution_count": 18,
   "source": [
    "# Make a prediction for each observation in new_data and assign it to predictions\r\n",
    "predictions = logreg.predict_proba(new_data)\r\n",
    "print(predictions[0:5])"
   ],
   "outputs": [
    {
     "output_type": "stream",
     "name": "stdout",
     "text": [
      "[[1.14795870e-01 5.23835159e-01 1.18483322e-01 8.00046456e-03\n",
      "  2.31817396e-01 3.06778838e-03]\n",
      " [6.95461940e-01 1.14088078e-01 4.83121481e-03 2.36288013e-03\n",
      "  1.70711254e-01 1.25446338e-02]\n",
      " [1.82584429e-01 2.24426548e-01 9.91596867e-03 6.82916669e-04\n",
      "  5.48386223e-01 3.40039144e-02]\n",
      " [8.43892679e-04 1.18410537e-03 6.13045984e-02 9.36667005e-01\n",
      "  3.98071795e-07 4.44177192e-11]\n",
      " [7.86767350e-04 2.21586348e-05 2.02723690e-09 4.64203940e-11\n",
      "  4.79933519e-02 9.51197720e-01]]\n"
     ]
    }
   ],
   "metadata": {}
  },
  {
   "cell_type": "code",
   "execution_count": 36,
   "source": [
    "predictions_target = predictions[:,1]\r\n",
    "print(predictions_target)"
   ],
   "outputs": [
    {
     "output_type": "stream",
     "name": "stdout",
     "text": [
      "[5.23835159e-01 1.14088078e-01 2.24426548e-01 1.18410537e-03\n",
      " 2.21586348e-05 1.36191649e-01]\n"
     ]
    }
   ],
   "metadata": {}
  }
 ],
 "metadata": {
  "orig_nbformat": 4,
  "language_info": {
   "name": "python",
   "version": "3.8.8",
   "mimetype": "text/x-python",
   "codemirror_mode": {
    "name": "ipython",
    "version": 3
   },
   "pygments_lexer": "ipython3",
   "nbconvert_exporter": "python",
   "file_extension": ".py"
  },
  "kernelspec": {
   "name": "python3",
   "display_name": "Python 3.8.8 64-bit"
  },
  "interpreter": {
   "hash": "c5e48f84046969b800ff52f6d80523bcd1ca3fb1a99f1449e4197bf6c73dc096"
  }
 },
 "nbformat": 4,
 "nbformat_minor": 2
}