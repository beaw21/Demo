{
 "metadata": {
  "language_info": {
   "codemirror_mode": {
    "name": "ipython",
    "version": 3
   },
   "file_extension": ".py",
   "mimetype": "text/x-python",
   "name": "python",
   "nbconvert_exporter": "python",
   "pygments_lexer": "ipython3",
   "version": "3.8.8"
  },
  "orig_nbformat": 4,
  "kernelspec": {
   "name": "python3",
   "display_name": "Python 3.8.8 64-bit ('base': conda)"
  },
  "interpreter": {
   "hash": "c5e48f84046969b800ff52f6d80523bcd1ca3fb1a99f1449e4197bf6c73dc096"
  }
 },
 "nbformat": 4,
 "nbformat_minor": 2,
 "cells": [
  {
   "cell_type": "code",
   "execution_count": 1,
   "metadata": {},
   "outputs": [],
   "source": [
    "import json\n",
    "import pandas as pd"
   ]
  },
  {
   "cell_type": "code",
   "execution_count": 37,
   "metadata": {},
   "outputs": [],
   "source": [
    "json_data_dev = pd.read_json('dev.json')"
   ]
  },
  {
   "cell_type": "code",
   "execution_count": 39,
   "metadata": {},
   "outputs": [],
   "source": [
    "dfram_dev = pd.DataFrame(json_data_dev)"
   ]
  },
  {
   "source": [
    "dfram_dev"
   ],
   "cell_type": "markdown",
   "metadata": {}
  },
  {
   "source": [
    "mean_rule = dfram_dev['rule'].sum()\n"
   ],
   "cell_type": "code",
   "metadata": {},
   "execution_count": 41,
   "outputs": []
  },
  {
   "source": [
    "mean_rule"
   ],
   "cell_type": "markdown",
   "metadata": {}
  },
  {
   "cell_type": "code",
   "execution_count": 43,
   "metadata": {},
   "outputs": [
    {
     "output_type": "execute_result",
     "data": {
      "text/plain": [
       "                  updateDate              creationDate        rule  \\\n",
       "0   2021-04-08T11:39:19+0700  2020-11-05T16:59:56+0700   java:S119   \n",
       "1   2021-04-08T11:39:19+0700  2020-11-05T16:59:56+0700   java:S119   \n",
       "2   2021-04-08T11:39:19+0700  2020-11-05T16:59:56+0700   java:S119   \n",
       "3   2021-04-08T11:39:19+0700  2020-11-05T16:59:56+0700   java:S119   \n",
       "4   2021-04-08T11:39:19+0700  2020-11-05T16:59:56+0700   java:S119   \n",
       "5   2021-04-08T11:39:19+0700  2020-11-05T16:59:56+0700  java:S1452   \n",
       "6   2021-04-08T11:39:19+0700  2020-11-05T16:59:56+0700  java:S1452   \n",
       "7   2021-04-08T11:39:19+0700  2020-11-05T16:59:56+0700  java:S1301   \n",
       "8   2021-04-08T11:39:19+0700  2020-11-05T16:59:56+0700   java:S119   \n",
       "9   2021-04-08T11:39:19+0700  2020-11-05T16:59:56+0700   java:S107   \n",
       "10  2021-04-08T11:39:19+0700  2020-11-05T16:59:56+0700   java:S119   \n",
       "11  2021-04-08T11:39:19+0700  2020-11-05T16:59:56+0700  java:S1155   \n",
       "12  2021-04-08T11:39:19+0700  2020-11-05T16:59:56+0700   java:S119   \n",
       "13  2021-04-08T11:39:19+0700  2020-11-05T16:59:56+0700   java:S119   \n",
       "14  2021-04-08T11:39:19+0700  2020-11-05T16:59:56+0700   java:S119   \n",
       "15  2021-04-08T11:39:19+0700  2020-05-19T11:10:05+0700   java:S119   \n",
       "16  2021-04-08T11:39:19+0700  2020-05-19T11:10:05+0700   java:S119   \n",
       "17  2021-04-08T11:39:19+0700  2020-05-19T11:10:05+0700   java:S119   \n",
       "18  2021-04-08T11:39:19+0700  2020-05-19T11:10:05+0700   java:S119   \n",
       "19  2021-04-08T11:39:19+0700  2019-07-11T13:59:06+0700  java:S1874   \n",
       "20  2021-04-08T11:39:19+0700  2020-11-08T17:46:04+0700  java:S1874   \n",
       "21  2021-04-08T11:39:19+0700  2020-11-08T17:46:04+0700  java:S1874   \n",
       "22  2021-04-08T11:39:19+0700  2020-05-19T11:10:05+0700  java:S1301   \n",
       "23  2021-04-08T11:39:19+0700  2020-05-19T11:10:05+0700  java:S1135   \n",
       "24  2021-04-08T11:39:19+0700  2020-05-19T11:10:05+0700   java:S107   \n",
       "25  2021-04-08T11:39:19+0700  2021-02-06T09:51:30+0700   java:S107   \n",
       "26  2021-04-08T11:39:19+0700  2021-02-26T13:18:02+0700  java:S3776   \n",
       "27  2021-04-08T11:39:19+0700  2021-02-26T13:18:02+0700  java:S1181   \n",
       "28  2021-04-08T11:39:19+0700  2021-02-26T13:18:02+0700  java:S1611   \n",
       "29  2021-04-08T11:39:19+0700  2021-02-26T13:18:02+0700  java:S1135   \n",
       "30  2021-04-08T11:39:19+0700  2021-02-26T13:18:02+0700  java:S1181   \n",
       "31  2021-04-08T11:39:19+0700  2021-02-26T13:18:02+0700  java:S3776   \n",
       "32  2021-04-08T11:39:19+0700  2021-02-06T09:51:30+0700  java:S1155   \n",
       "33  2021-04-08T11:39:19+0700  2020-02-04T10:53:59+0700  java:S1192   \n",
       "34  2021-04-08T11:39:19+0700  2019-07-11T13:59:06+0700  java:S1181   \n",
       "35  2021-04-08T11:39:19+0700  2020-11-25T09:10:53+0700   java:S119   \n",
       "36  2021-04-08T11:39:19+0700  2020-11-25T09:10:53+0700   java:S119   \n",
       "37  2021-04-08T11:39:19+0700  2020-05-27T15:27:05+0700   java:S119   \n",
       "38  2021-04-08T11:39:19+0700  2020-05-27T15:27:05+0700   java:S119   \n",
       "39  2021-04-08T11:39:19+0700  2020-11-25T09:10:53+0700   java:S119   \n",
       "40  2021-04-08T11:39:19+0700  2020-11-25T09:10:53+0700   java:S119   \n",
       "\n",
       "                                hash                  author  \n",
       "0   4394ada880a1ba95fcb3b3d006e5f1c5  gaoyunhenhao@gmail.com  \n",
       "1   fb241de823c5ee63e8061590172cbc62  gaoyunhenhao@gmail.com  \n",
       "2   87e722c47640854362dcdb9ee6332b76  gaoyunhenhao@gmail.com  \n",
       "3   5c91cbb2556d280c192ada715b09b342  gaoyunhenhao@gmail.com  \n",
       "4   9de6ede45d54c542ec8ec968588e29d6  gaoyunhenhao@gmail.com  \n",
       "5   49b94d33294615a4998706a0b154e53c  gaoyunhenhao@gmail.com  \n",
       "6   49b94d33294615a4998706a0b154e53c  gaoyunhenhao@gmail.com  \n",
       "7   ba60d4afbae6c1dafbfce85b1837e84c  gaoyunhenhao@gmail.com  \n",
       "8   7e5822fe337d20ec65b8bf258295b0ba  gaoyunhenhao@gmail.com  \n",
       "9   18d6979d36763862ffb7ca4c71beb743  gaoyunhenhao@gmail.com  \n",
       "10  ddaeac0e33efddeb1e799950af054443  gaoyunhenhao@gmail.com  \n",
       "11  58dfb53b3f5eb112296fc1060cddec06  gaoyunhenhao@gmail.com  \n",
       "12  16c704fc2ea4fb773945bc5664fd59fb  gaoyunhenhao@gmail.com  \n",
       "13  e94737f367e62c3e4006a5a22a52d1fb  gaoyunhenhao@gmail.com  \n",
       "14  1201fc8aab1abdca43f55b312b4b3384  gaoyunhenhao@gmail.com  \n",
       "15  fdc21d02538be0797fec0df0acd54a6b  gaoyunhenhao@gmail.com  \n",
       "16  fdc21d02538be0797fec0df0acd54a6b  gaoyunhenhao@gmail.com  \n",
       "17  41c802a4da1016a1f6e2f9ab40d2dde5  gaoyunhenhao@gmail.com  \n",
       "18  41c802a4da1016a1f6e2f9ab40d2dde5  gaoyunhenhao@gmail.com  \n",
       "19  fc4fb4f19681f47d9da365b2478e0979  gaoyunhenhao@gmail.com  \n",
       "20  221d16779475e604f7dd32c75fa90998  gaoyunhenhao@gmail.com  \n",
       "21  3b0d70726a257fdcd60264ef83978c58  gaoyunhenhao@gmail.com  \n",
       "22  ba60d4afbae6c1dafbfce85b1837e84c  gaoyunhenhao@gmail.com  \n",
       "23  8d398088427da286f3eda5586608a190  gaoyunhenhao@gmail.com  \n",
       "24  bb61ce66383ed8c8feeb01767d3999f9  gaoyunhenhao@gmail.com  \n",
       "25  1de0c0a36cf5b8dddccce17d7b9086a3  gaoyunhenhao@gmail.com  \n",
       "26  f0035306684266375e35a3a56d2dfeaf  gaoyunhenhao@gmail.com  \n",
       "27  0325224bb45891ffbfad721ffec46148  gaoyunhenhao@gmail.com  \n",
       "28  0f319a2e92e2547480b9fdd8098f18c7  gaoyunhenhao@gmail.com  \n",
       "29  9de9a68a72be33f3c0e8ca8ad8e42daf  gaoyunhenhao@gmail.com  \n",
       "30  6bca2f9fce5bdb70c5c39bef9aa4eaa8  gaoyunhenhao@gmail.com  \n",
       "31  ac41687d6e57319e120b96486b6973b5  gaoyunhenhao@gmail.com  \n",
       "32  de20ad582de29e18ad4383cfd2d76436  gaoyunhenhao@gmail.com  \n",
       "33  dc907b8bbdfd686889235a9da95c2b80  gaoyunhenhao@gmail.com  \n",
       "34  9d94a2e493b16898aa835667125a5484  gaoyunhenhao@gmail.com  \n",
       "35  ac2aac87fd9e66aad3c7caad3d5c98e7  gaoyunhenhao@gmail.com  \n",
       "36  ac2aac87fd9e66aad3c7caad3d5c98e7  gaoyunhenhao@gmail.com  \n",
       "37  8c7b2365fdb85862b408f793a7f8d3e2  gaoyunhenhao@gmail.com  \n",
       "38  8c7b2365fdb85862b408f793a7f8d3e2  gaoyunhenhao@gmail.com  \n",
       "39  69d55a4365cf305a9aeef24eaf4424b3  gaoyunhenhao@gmail.com  \n",
       "40  69d55a4365cf305a9aeef24eaf4424b3  gaoyunhenhao@gmail.com  "
      ],
      "text/html": "<div>\n<style scoped>\n    .dataframe tbody tr th:only-of-type {\n        vertical-align: middle;\n    }\n\n    .dataframe tbody tr th {\n        vertical-align: top;\n    }\n\n    .dataframe thead th {\n        text-align: right;\n    }\n</style>\n<table border=\"1\" class=\"dataframe\">\n  <thead>\n    <tr style=\"text-align: right;\">\n      <th></th>\n      <th>updateDate</th>\n      <th>creationDate</th>\n      <th>rule</th>\n      <th>hash</th>\n      <th>author</th>\n    </tr>\n  </thead>\n  <tbody>\n    <tr>\n      <th>0</th>\n      <td>2021-04-08T11:39:19+0700</td>\n      <td>2020-11-05T16:59:56+0700</td>\n      <td>java:S119</td>\n      <td>4394ada880a1ba95fcb3b3d006e5f1c5</td>\n      <td>gaoyunhenhao@gmail.com</td>\n    </tr>\n    <tr>\n      <th>1</th>\n      <td>2021-04-08T11:39:19+0700</td>\n      <td>2020-11-05T16:59:56+0700</td>\n      <td>java:S119</td>\n      <td>fb241de823c5ee63e8061590172cbc62</td>\n      <td>gaoyunhenhao@gmail.com</td>\n    </tr>\n    <tr>\n      <th>2</th>\n      <td>2021-04-08T11:39:19+0700</td>\n      <td>2020-11-05T16:59:56+0700</td>\n      <td>java:S119</td>\n      <td>87e722c47640854362dcdb9ee6332b76</td>\n      <td>gaoyunhenhao@gmail.com</td>\n    </tr>\n    <tr>\n      <th>3</th>\n      <td>2021-04-08T11:39:19+0700</td>\n      <td>2020-11-05T16:59:56+0700</td>\n      <td>java:S119</td>\n      <td>5c91cbb2556d280c192ada715b09b342</td>\n      <td>gaoyunhenhao@gmail.com</td>\n    </tr>\n    <tr>\n      <th>4</th>\n      <td>2021-04-08T11:39:19+0700</td>\n      <td>2020-11-05T16:59:56+0700</td>\n      <td>java:S119</td>\n      <td>9de6ede45d54c542ec8ec968588e29d6</td>\n      <td>gaoyunhenhao@gmail.com</td>\n    </tr>\n    <tr>\n      <th>5</th>\n      <td>2021-04-08T11:39:19+0700</td>\n      <td>2020-11-05T16:59:56+0700</td>\n      <td>java:S1452</td>\n      <td>49b94d33294615a4998706a0b154e53c</td>\n      <td>gaoyunhenhao@gmail.com</td>\n    </tr>\n    <tr>\n      <th>6</th>\n      <td>2021-04-08T11:39:19+0700</td>\n      <td>2020-11-05T16:59:56+0700</td>\n      <td>java:S1452</td>\n      <td>49b94d33294615a4998706a0b154e53c</td>\n      <td>gaoyunhenhao@gmail.com</td>\n    </tr>\n    <tr>\n      <th>7</th>\n      <td>2021-04-08T11:39:19+0700</td>\n      <td>2020-11-05T16:59:56+0700</td>\n      <td>java:S1301</td>\n      <td>ba60d4afbae6c1dafbfce85b1837e84c</td>\n      <td>gaoyunhenhao@gmail.com</td>\n    </tr>\n    <tr>\n      <th>8</th>\n      <td>2021-04-08T11:39:19+0700</td>\n      <td>2020-11-05T16:59:56+0700</td>\n      <td>java:S119</td>\n      <td>7e5822fe337d20ec65b8bf258295b0ba</td>\n      <td>gaoyunhenhao@gmail.com</td>\n    </tr>\n    <tr>\n      <th>9</th>\n      <td>2021-04-08T11:39:19+0700</td>\n      <td>2020-11-05T16:59:56+0700</td>\n      <td>java:S107</td>\n      <td>18d6979d36763862ffb7ca4c71beb743</td>\n      <td>gaoyunhenhao@gmail.com</td>\n    </tr>\n    <tr>\n      <th>10</th>\n      <td>2021-04-08T11:39:19+0700</td>\n      <td>2020-11-05T16:59:56+0700</td>\n      <td>java:S119</td>\n      <td>ddaeac0e33efddeb1e799950af054443</td>\n      <td>gaoyunhenhao@gmail.com</td>\n    </tr>\n    <tr>\n      <th>11</th>\n      <td>2021-04-08T11:39:19+0700</td>\n      <td>2020-11-05T16:59:56+0700</td>\n      <td>java:S1155</td>\n      <td>58dfb53b3f5eb112296fc1060cddec06</td>\n      <td>gaoyunhenhao@gmail.com</td>\n    </tr>\n    <tr>\n      <th>12</th>\n      <td>2021-04-08T11:39:19+0700</td>\n      <td>2020-11-05T16:59:56+0700</td>\n      <td>java:S119</td>\n      <td>16c704fc2ea4fb773945bc5664fd59fb</td>\n      <td>gaoyunhenhao@gmail.com</td>\n    </tr>\n    <tr>\n      <th>13</th>\n      <td>2021-04-08T11:39:19+0700</td>\n      <td>2020-11-05T16:59:56+0700</td>\n      <td>java:S119</td>\n      <td>e94737f367e62c3e4006a5a22a52d1fb</td>\n      <td>gaoyunhenhao@gmail.com</td>\n    </tr>\n    <tr>\n      <th>14</th>\n      <td>2021-04-08T11:39:19+0700</td>\n      <td>2020-11-05T16:59:56+0700</td>\n      <td>java:S119</td>\n      <td>1201fc8aab1abdca43f55b312b4b3384</td>\n      <td>gaoyunhenhao@gmail.com</td>\n    </tr>\n    <tr>\n      <th>15</th>\n      <td>2021-04-08T11:39:19+0700</td>\n      <td>2020-05-19T11:10:05+0700</td>\n      <td>java:S119</td>\n      <td>fdc21d02538be0797fec0df0acd54a6b</td>\n      <td>gaoyunhenhao@gmail.com</td>\n    </tr>\n    <tr>\n      <th>16</th>\n      <td>2021-04-08T11:39:19+0700</td>\n      <td>2020-05-19T11:10:05+0700</td>\n      <td>java:S119</td>\n      <td>fdc21d02538be0797fec0df0acd54a6b</td>\n      <td>gaoyunhenhao@gmail.com</td>\n    </tr>\n    <tr>\n      <th>17</th>\n      <td>2021-04-08T11:39:19+0700</td>\n      <td>2020-05-19T11:10:05+0700</td>\n      <td>java:S119</td>\n      <td>41c802a4da1016a1f6e2f9ab40d2dde5</td>\n      <td>gaoyunhenhao@gmail.com</td>\n    </tr>\n    <tr>\n      <th>18</th>\n      <td>2021-04-08T11:39:19+0700</td>\n      <td>2020-05-19T11:10:05+0700</td>\n      <td>java:S119</td>\n      <td>41c802a4da1016a1f6e2f9ab40d2dde5</td>\n      <td>gaoyunhenhao@gmail.com</td>\n    </tr>\n    <tr>\n      <th>19</th>\n      <td>2021-04-08T11:39:19+0700</td>\n      <td>2019-07-11T13:59:06+0700</td>\n      <td>java:S1874</td>\n      <td>fc4fb4f19681f47d9da365b2478e0979</td>\n      <td>gaoyunhenhao@gmail.com</td>\n    </tr>\n    <tr>\n      <th>20</th>\n      <td>2021-04-08T11:39:19+0700</td>\n      <td>2020-11-08T17:46:04+0700</td>\n      <td>java:S1874</td>\n      <td>221d16779475e604f7dd32c75fa90998</td>\n      <td>gaoyunhenhao@gmail.com</td>\n    </tr>\n    <tr>\n      <th>21</th>\n      <td>2021-04-08T11:39:19+0700</td>\n      <td>2020-11-08T17:46:04+0700</td>\n      <td>java:S1874</td>\n      <td>3b0d70726a257fdcd60264ef83978c58</td>\n      <td>gaoyunhenhao@gmail.com</td>\n    </tr>\n    <tr>\n      <th>22</th>\n      <td>2021-04-08T11:39:19+0700</td>\n      <td>2020-05-19T11:10:05+0700</td>\n      <td>java:S1301</td>\n      <td>ba60d4afbae6c1dafbfce85b1837e84c</td>\n      <td>gaoyunhenhao@gmail.com</td>\n    </tr>\n    <tr>\n      <th>23</th>\n      <td>2021-04-08T11:39:19+0700</td>\n      <td>2020-05-19T11:10:05+0700</td>\n      <td>java:S1135</td>\n      <td>8d398088427da286f3eda5586608a190</td>\n      <td>gaoyunhenhao@gmail.com</td>\n    </tr>\n    <tr>\n      <th>24</th>\n      <td>2021-04-08T11:39:19+0700</td>\n      <td>2020-05-19T11:10:05+0700</td>\n      <td>java:S107</td>\n      <td>bb61ce66383ed8c8feeb01767d3999f9</td>\n      <td>gaoyunhenhao@gmail.com</td>\n    </tr>\n    <tr>\n      <th>25</th>\n      <td>2021-04-08T11:39:19+0700</td>\n      <td>2021-02-06T09:51:30+0700</td>\n      <td>java:S107</td>\n      <td>1de0c0a36cf5b8dddccce17d7b9086a3</td>\n      <td>gaoyunhenhao@gmail.com</td>\n    </tr>\n    <tr>\n      <th>26</th>\n      <td>2021-04-08T11:39:19+0700</td>\n      <td>2021-02-26T13:18:02+0700</td>\n      <td>java:S3776</td>\n      <td>f0035306684266375e35a3a56d2dfeaf</td>\n      <td>gaoyunhenhao@gmail.com</td>\n    </tr>\n    <tr>\n      <th>27</th>\n      <td>2021-04-08T11:39:19+0700</td>\n      <td>2021-02-26T13:18:02+0700</td>\n      <td>java:S1181</td>\n      <td>0325224bb45891ffbfad721ffec46148</td>\n      <td>gaoyunhenhao@gmail.com</td>\n    </tr>\n    <tr>\n      <th>28</th>\n      <td>2021-04-08T11:39:19+0700</td>\n      <td>2021-02-26T13:18:02+0700</td>\n      <td>java:S1611</td>\n      <td>0f319a2e92e2547480b9fdd8098f18c7</td>\n      <td>gaoyunhenhao@gmail.com</td>\n    </tr>\n    <tr>\n      <th>29</th>\n      <td>2021-04-08T11:39:19+0700</td>\n      <td>2021-02-26T13:18:02+0700</td>\n      <td>java:S1135</td>\n      <td>9de9a68a72be33f3c0e8ca8ad8e42daf</td>\n      <td>gaoyunhenhao@gmail.com</td>\n    </tr>\n    <tr>\n      <th>30</th>\n      <td>2021-04-08T11:39:19+0700</td>\n      <td>2021-02-26T13:18:02+0700</td>\n      <td>java:S1181</td>\n      <td>6bca2f9fce5bdb70c5c39bef9aa4eaa8</td>\n      <td>gaoyunhenhao@gmail.com</td>\n    </tr>\n    <tr>\n      <th>31</th>\n      <td>2021-04-08T11:39:19+0700</td>\n      <td>2021-02-26T13:18:02+0700</td>\n      <td>java:S3776</td>\n      <td>ac41687d6e57319e120b96486b6973b5</td>\n      <td>gaoyunhenhao@gmail.com</td>\n    </tr>\n    <tr>\n      <th>32</th>\n      <td>2021-04-08T11:39:19+0700</td>\n      <td>2021-02-06T09:51:30+0700</td>\n      <td>java:S1155</td>\n      <td>de20ad582de29e18ad4383cfd2d76436</td>\n      <td>gaoyunhenhao@gmail.com</td>\n    </tr>\n    <tr>\n      <th>33</th>\n      <td>2021-04-08T11:39:19+0700</td>\n      <td>2020-02-04T10:53:59+0700</td>\n      <td>java:S1192</td>\n      <td>dc907b8bbdfd686889235a9da95c2b80</td>\n      <td>gaoyunhenhao@gmail.com</td>\n    </tr>\n    <tr>\n      <th>34</th>\n      <td>2021-04-08T11:39:19+0700</td>\n      <td>2019-07-11T13:59:06+0700</td>\n      <td>java:S1181</td>\n      <td>9d94a2e493b16898aa835667125a5484</td>\n      <td>gaoyunhenhao@gmail.com</td>\n    </tr>\n    <tr>\n      <th>35</th>\n      <td>2021-04-08T11:39:19+0700</td>\n      <td>2020-11-25T09:10:53+0700</td>\n      <td>java:S119</td>\n      <td>ac2aac87fd9e66aad3c7caad3d5c98e7</td>\n      <td>gaoyunhenhao@gmail.com</td>\n    </tr>\n    <tr>\n      <th>36</th>\n      <td>2021-04-08T11:39:19+0700</td>\n      <td>2020-11-25T09:10:53+0700</td>\n      <td>java:S119</td>\n      <td>ac2aac87fd9e66aad3c7caad3d5c98e7</td>\n      <td>gaoyunhenhao@gmail.com</td>\n    </tr>\n    <tr>\n      <th>37</th>\n      <td>2021-04-08T11:39:19+0700</td>\n      <td>2020-05-27T15:27:05+0700</td>\n      <td>java:S119</td>\n      <td>8c7b2365fdb85862b408f793a7f8d3e2</td>\n      <td>gaoyunhenhao@gmail.com</td>\n    </tr>\n    <tr>\n      <th>38</th>\n      <td>2021-04-08T11:39:19+0700</td>\n      <td>2020-05-27T15:27:05+0700</td>\n      <td>java:S119</td>\n      <td>8c7b2365fdb85862b408f793a7f8d3e2</td>\n      <td>gaoyunhenhao@gmail.com</td>\n    </tr>\n    <tr>\n      <th>39</th>\n      <td>2021-04-08T11:39:19+0700</td>\n      <td>2020-11-25T09:10:53+0700</td>\n      <td>java:S119</td>\n      <td>69d55a4365cf305a9aeef24eaf4424b3</td>\n      <td>gaoyunhenhao@gmail.com</td>\n    </tr>\n    <tr>\n      <th>40</th>\n      <td>2021-04-08T11:39:19+0700</td>\n      <td>2020-11-25T09:10:53+0700</td>\n      <td>java:S119</td>\n      <td>69d55a4365cf305a9aeef24eaf4424b3</td>\n      <td>gaoyunhenhao@gmail.com</td>\n    </tr>\n  </tbody>\n</table>\n</div>"
     },
     "metadata": {},
     "execution_count": 43
    }
   ],
   "source": [
    "data_dev = dfram_dev[{'rule','hash','author','creationDate','updateDate'}]"
   ]
  },
  {
   "cell_type": "code",
   "execution_count": null,
   "metadata": {},
   "outputs": [],
   "source": []
  }
 ]
}