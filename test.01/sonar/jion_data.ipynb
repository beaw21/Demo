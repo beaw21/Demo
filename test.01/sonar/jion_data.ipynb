{
 "metadata": {
  "language_info": {
   "codemirror_mode": {
    "name": "ipython",
    "version": 3
   },
   "file_extension": ".py",
   "mimetype": "text/x-python",
   "name": "python",
   "nbconvert_exporter": "python",
   "pygments_lexer": "ipython3",
   "version": "3.8.8"
  },
  "orig_nbformat": 4,
  "kernelspec": {
   "name": "python3",
   "display_name": "Python 3.8.8 64-bit ('base': conda)"
  },
  "interpreter": {
   "hash": "c5e48f84046969b800ff52f6d80523bcd1ca3fb1a99f1449e4197bf6c73dc096"
  }
 },
 "nbformat": 4,
 "nbformat_minor": 2,
 "cells": [
  {
   "source": [
    "import json\n",
    "import pandas as pd"
   ],
   "cell_type": "code",
   "metadata": {},
   "execution_count": 3,
   "outputs": []
  },
  {
   "source": [
    "json_data_dev = pd.read_json('dev.json')"
   ],
   "cell_type": "code",
   "metadata": {},
   "execution_count": 4,
   "outputs": []
  },
  {
   "source": [
    "dfram_dev = pd.DataFrame(json_data_dev)"
   ],
   "cell_type": "code",
   "metadata": {},
   "execution_count": 5,
   "outputs": []
  },
  {
   "source": [
    "dfram_dev"
   ],
   "cell_type": "markdown",
   "metadata": {}
  },
  {
   "source": [
    "mean_rule = dfram_dev['rule'].sum()\n"
   ],
   "cell_type": "code",
   "metadata": {},
   "execution_count": null,
   "outputs": []
  },
  {
   "source": [
    "mean_rule"
   ],
   "cell_type": "markdown",
   "metadata": {}
  },
  {
   "source": [
    "data_dev = dfram_dev[{'rule','hash','author','creationDate','updateDate'}]"
   ],
   "cell_type": "code",
   "metadata": {},
   "execution_count": 54,
   "outputs": []
  },
  {
   "source": [
    "data_dev"
   ],
   "cell_type": "markdown",
   "metadata": {}
  },
  {
   "source": [
    "scorecode_line = pd.read_json('code_line.json')\n",
    "\n",
    "print(scorecode_line.head(1))"
   ],
   "cell_type": "code",
   "metadata": {},
   "execution_count": null,
   "outputs": []
  },
  {
   "source": [
    "dfram_line = pd.DataFrame(scorecode_line)"
   ],
   "cell_type": "code",
   "metadata": {},
   "execution_count": 53,
   "outputs": []
  },
  {
   "source": [
    "dfram_line"
   ],
   "cell_type": "code",
   "metadata": {},
   "execution_count": null,
   "outputs": []
  },
  {
   "source": [
    "data_code = dfram_line[{'scmRevision','scmAuthor','scmDate'}]"
   ],
   "cell_type": "code",
   "metadata": {},
   "execution_count": 50,
   "outputs": []
  },
  {
   "source": [
    "data_code"
   ],
   "cell_type": "markdown",
   "metadata": {}
  },
  {
   "cell_type": "code",
   "execution_count": 93,
   "metadata": {},
   "outputs": [],
   "source": [
    "new_code_col = pd.DataFrame(data_code)"
   ]
  },
  {
   "source": [
    "rename_new_code = new_code_col.rename(columns= {'scmDate': 'creationDate', 'scmAuthor' :'author' ,'scmRevision' :'hash'})\n",
    "\n",
    "rename_new_code"
   ],
   "cell_type": "markdown",
   "metadata": {}
  },
  {
   "source": [
    "new_dev = data_dev.set_index(['creationDate', 'author'])"
   ],
   "cell_type": "code",
   "metadata": {},
   "execution_count": 129,
   "outputs": []
  },
  {
   "source": [
    "new_dev.head(1)"
   ],
   "cell_type": "markdown",
   "metadata": {}
  },
  {
   "cell_type": "code",
   "execution_count": 118,
   "metadata": {},
   "outputs": [],
   "source": [
    "new_code = rename_new_code.set_index(['creationDate','author'])"
   ]
  },
  {
   "source": [
    "new_code.head(1)"
   ],
   "cell_type": "code",
   "metadata": {},
   "execution_count": 119,
   "outputs": [
    {
     "output_type": "execute_result",
     "data": {
      "text/plain": [
       "                                                                                     hash\n",
       "creationDate             author                                                          \n",
       "2020-11-05T16:59:56+0700 gaoyunhenhao@gmail.com  1f5055c473c45348b794ff9c9ed8f0759d32a691"
      ],
      "text/html": "<div>\n<style scoped>\n    .dataframe tbody tr th:only-of-type {\n        vertical-align: middle;\n    }\n\n    .dataframe tbody tr th {\n        vertical-align: top;\n    }\n\n    .dataframe thead th {\n        text-align: right;\n    }\n</style>\n<table border=\"1\" class=\"dataframe\">\n  <thead>\n    <tr style=\"text-align: right;\">\n      <th></th>\n      <th></th>\n      <th>hash</th>\n    </tr>\n    <tr>\n      <th>creationDate</th>\n      <th>author</th>\n      <th></th>\n    </tr>\n  </thead>\n  <tbody>\n    <tr>\n      <th>2020-11-05T16:59:56+0700</th>\n      <th>gaoyunhenhao@gmail.com</th>\n      <td>1f5055c473c45348b794ff9c9ed8f0759d32a691</td>\n    </tr>\n  </tbody>\n</table>\n</div>"
     },
     "metadata": {},
     "execution_count": 119
    }
   ]
  },
  {
   "cell_type": "code",
   "execution_count": 133,
   "metadata": {},
   "outputs": [],
   "source": [
    "resulf = new_dev.join(new_code, on=['creationDate', 'author'] , lsuffix='_newcode', rsuffix='_newdev')"
   ]
  },
  {
   "cell_type": "code",
   "execution_count": 134,
   "metadata": {},
   "outputs": [
    {
     "output_type": "execute_result",
     "data": {
      "text/plain": [
       "                                                      rule  \\\n",
       "creationDate             author                              \n",
       "2020-11-05T16:59:56+0700 gaoyunhenhao@gmail.com  java:S119   \n",
       "                         gaoyunhenhao@gmail.com  java:S119   \n",
       "                         gaoyunhenhao@gmail.com  java:S119   \n",
       "                         gaoyunhenhao@gmail.com  java:S119   \n",
       "                         gaoyunhenhao@gmail.com  java:S119   \n",
       "...                                                    ...   \n",
       "2020-11-25T09:10:53+0700 gaoyunhenhao@gmail.com  java:S119   \n",
       "2020-05-27T15:27:05+0700 gaoyunhenhao@gmail.com  java:S119   \n",
       "                         gaoyunhenhao@gmail.com  java:S119   \n",
       "2020-11-25T09:10:53+0700 gaoyunhenhao@gmail.com  java:S119   \n",
       "                         gaoyunhenhao@gmail.com  java:S119   \n",
       "\n",
       "                                                                     hash_newcode  \\\n",
       "creationDate             author                                                     \n",
       "2020-11-05T16:59:56+0700 gaoyunhenhao@gmail.com  4394ada880a1ba95fcb3b3d006e5f1c5   \n",
       "                         gaoyunhenhao@gmail.com  4394ada880a1ba95fcb3b3d006e5f1c5   \n",
       "                         gaoyunhenhao@gmail.com  4394ada880a1ba95fcb3b3d006e5f1c5   \n",
       "                         gaoyunhenhao@gmail.com  4394ada880a1ba95fcb3b3d006e5f1c5   \n",
       "                         gaoyunhenhao@gmail.com  4394ada880a1ba95fcb3b3d006e5f1c5   \n",
       "...                                                                           ...   \n",
       "2020-11-25T09:10:53+0700 gaoyunhenhao@gmail.com  ac2aac87fd9e66aad3c7caad3d5c98e7   \n",
       "2020-05-27T15:27:05+0700 gaoyunhenhao@gmail.com  8c7b2365fdb85862b408f793a7f8d3e2   \n",
       "                         gaoyunhenhao@gmail.com  8c7b2365fdb85862b408f793a7f8d3e2   \n",
       "2020-11-25T09:10:53+0700 gaoyunhenhao@gmail.com  69d55a4365cf305a9aeef24eaf4424b3   \n",
       "                         gaoyunhenhao@gmail.com  69d55a4365cf305a9aeef24eaf4424b3   \n",
       "\n",
       "                                                               updateDate  \\\n",
       "creationDate             author                                             \n",
       "2020-11-05T16:59:56+0700 gaoyunhenhao@gmail.com  2021-04-08T11:39:19+0700   \n",
       "                         gaoyunhenhao@gmail.com  2021-04-08T11:39:19+0700   \n",
       "                         gaoyunhenhao@gmail.com  2021-04-08T11:39:19+0700   \n",
       "                         gaoyunhenhao@gmail.com  2021-04-08T11:39:19+0700   \n",
       "                         gaoyunhenhao@gmail.com  2021-04-08T11:39:19+0700   \n",
       "...                                                                   ...   \n",
       "2020-11-25T09:10:53+0700 gaoyunhenhao@gmail.com  2021-04-08T11:39:19+0700   \n",
       "2020-05-27T15:27:05+0700 gaoyunhenhao@gmail.com  2021-04-08T11:39:19+0700   \n",
       "                         gaoyunhenhao@gmail.com  2021-04-08T11:39:19+0700   \n",
       "2020-11-25T09:10:53+0700 gaoyunhenhao@gmail.com  2021-04-08T11:39:19+0700   \n",
       "                         gaoyunhenhao@gmail.com  2021-04-08T11:39:19+0700   \n",
       "\n",
       "                                                                              hash_newdev  \n",
       "creationDate             author                                                            \n",
       "2020-11-05T16:59:56+0700 gaoyunhenhao@gmail.com  1f5055c473c45348b794ff9c9ed8f0759d32a691  \n",
       "                         gaoyunhenhao@gmail.com  1f5055c473c45348b794ff9c9ed8f0759d32a691  \n",
       "                         gaoyunhenhao@gmail.com  1f5055c473c45348b794ff9c9ed8f0759d32a691  \n",
       "                         gaoyunhenhao@gmail.com  1f5055c473c45348b794ff9c9ed8f0759d32a691  \n",
       "                         gaoyunhenhao@gmail.com  1f5055c473c45348b794ff9c9ed8f0759d32a691  \n",
       "...                                                                                   ...  \n",
       "2020-11-25T09:10:53+0700 gaoyunhenhao@gmail.com                                       NaN  \n",
       "2020-05-27T15:27:05+0700 gaoyunhenhao@gmail.com                                       NaN  \n",
       "                         gaoyunhenhao@gmail.com                                       NaN  \n",
       "2020-11-25T09:10:53+0700 gaoyunhenhao@gmail.com                                       NaN  \n",
       "                         gaoyunhenhao@gmail.com                                       NaN  \n",
       "\n",
       "[5666 rows x 4 columns]"
      ],
      "text/html": "<div>\n<style scoped>\n    .dataframe tbody tr th:only-of-type {\n        vertical-align: middle;\n    }\n\n    .dataframe tbody tr th {\n        vertical-align: top;\n    }\n\n    .dataframe thead th {\n        text-align: right;\n    }\n</style>\n<table border=\"1\" class=\"dataframe\">\n  <thead>\n    <tr style=\"text-align: right;\">\n      <th></th>\n      <th></th>\n      <th>rule</th>\n      <th>hash_newcode</th>\n      <th>updateDate</th>\n      <th>hash_newdev</th>\n    </tr>\n    <tr>\n      <th>creationDate</th>\n      <th>author</th>\n      <th></th>\n      <th></th>\n      <th></th>\n      <th></th>\n    </tr>\n  </thead>\n  <tbody>\n    <tr>\n      <th rowspan=\"5\" valign=\"top\">2020-11-05T16:59:56+0700</th>\n      <th>gaoyunhenhao@gmail.com</th>\n      <td>java:S119</td>\n      <td>4394ada880a1ba95fcb3b3d006e5f1c5</td>\n      <td>2021-04-08T11:39:19+0700</td>\n      <td>1f5055c473c45348b794ff9c9ed8f0759d32a691</td>\n    </tr>\n    <tr>\n      <th>gaoyunhenhao@gmail.com</th>\n      <td>java:S119</td>\n      <td>4394ada880a1ba95fcb3b3d006e5f1c5</td>\n      <td>2021-04-08T11:39:19+0700</td>\n      <td>1f5055c473c45348b794ff9c9ed8f0759d32a691</td>\n    </tr>\n    <tr>\n      <th>gaoyunhenhao@gmail.com</th>\n      <td>java:S119</td>\n      <td>4394ada880a1ba95fcb3b3d006e5f1c5</td>\n      <td>2021-04-08T11:39:19+0700</td>\n      <td>1f5055c473c45348b794ff9c9ed8f0759d32a691</td>\n    </tr>\n    <tr>\n      <th>gaoyunhenhao@gmail.com</th>\n      <td>java:S119</td>\n      <td>4394ada880a1ba95fcb3b3d006e5f1c5</td>\n      <td>2021-04-08T11:39:19+0700</td>\n      <td>1f5055c473c45348b794ff9c9ed8f0759d32a691</td>\n    </tr>\n    <tr>\n      <th>gaoyunhenhao@gmail.com</th>\n      <td>java:S119</td>\n      <td>4394ada880a1ba95fcb3b3d006e5f1c5</td>\n      <td>2021-04-08T11:39:19+0700</td>\n      <td>1f5055c473c45348b794ff9c9ed8f0759d32a691</td>\n    </tr>\n    <tr>\n      <th>...</th>\n      <th>...</th>\n      <td>...</td>\n      <td>...</td>\n      <td>...</td>\n      <td>...</td>\n    </tr>\n    <tr>\n      <th>2020-11-25T09:10:53+0700</th>\n      <th>gaoyunhenhao@gmail.com</th>\n      <td>java:S119</td>\n      <td>ac2aac87fd9e66aad3c7caad3d5c98e7</td>\n      <td>2021-04-08T11:39:19+0700</td>\n      <td>NaN</td>\n    </tr>\n    <tr>\n      <th rowspan=\"2\" valign=\"top\">2020-05-27T15:27:05+0700</th>\n      <th>gaoyunhenhao@gmail.com</th>\n      <td>java:S119</td>\n      <td>8c7b2365fdb85862b408f793a7f8d3e2</td>\n      <td>2021-04-08T11:39:19+0700</td>\n      <td>NaN</td>\n    </tr>\n    <tr>\n      <th>gaoyunhenhao@gmail.com</th>\n      <td>java:S119</td>\n      <td>8c7b2365fdb85862b408f793a7f8d3e2</td>\n      <td>2021-04-08T11:39:19+0700</td>\n      <td>NaN</td>\n    </tr>\n    <tr>\n      <th rowspan=\"2\" valign=\"top\">2020-11-25T09:10:53+0700</th>\n      <th>gaoyunhenhao@gmail.com</th>\n      <td>java:S119</td>\n      <td>69d55a4365cf305a9aeef24eaf4424b3</td>\n      <td>2021-04-08T11:39:19+0700</td>\n      <td>NaN</td>\n    </tr>\n    <tr>\n      <th>gaoyunhenhao@gmail.com</th>\n      <td>java:S119</td>\n      <td>69d55a4365cf305a9aeef24eaf4424b3</td>\n      <td>2021-04-08T11:39:19+0700</td>\n      <td>NaN</td>\n    </tr>\n  </tbody>\n</table>\n<p>5666 rows × 4 columns</p>\n</div>"
     },
     "metadata": {},
     "execution_count": 134
    }
   ],
   "source": [
    "resulf"
   ]
  },
  {
   "cell_type": "code",
   "execution_count": null,
   "metadata": {},
   "outputs": [],
   "source": []
  }
 ]
}