{
 "cells": [
  {
   "cell_type": "code",
   "execution_count": 214,
   "metadata": {},
   "outputs": [],
   "source": [
    "from sklearn.datasets import load_wine\n",
    "from datetime import timedelta\n",
    "import pandas as pd\n",
    "import numpy as np"
   ]
  },
  {
   "cell_type": "code",
   "execution_count": 215,
   "metadata": {},
   "outputs": [],
   "source": [
    "read_data_file = pd.read_pickle('../flink.pkl')\n",
    "df = pd.DataFrame(read_data_file)"
   ]
  },
  {
   "cell_type": "code",
   "execution_count": 216,
   "metadata": {},
   "outputs": [
    {
     "data": {
      "text/plain": [
       "Index(['commit_befor ', 'commit_after', 'cal_smell', 'dispen_bf', 'object_bf',\n",
       "       'bloater_bf', 'dispen_at', 'object_at', 'bloater_af', 'open_time',\n",
       "       'closed_time', 'cal_time', 'changed_file', 'additions', 'deletions',\n",
       "       'dev', 'cal_time_binaly'],\n",
       "      dtype='object')"
      ]
     },
     "execution_count": 216,
     "metadata": {},
     "output_type": "execute_result"
    }
   ],
   "source": [
    "df.columns"
   ]
  },
  {
   "cell_type": "code",
   "execution_count": 217,
   "metadata": {},
   "outputs": [
    {
     "data": {
      "text/plain": [
       "Timedelta('7 days 05:57:00')"
      ]
     },
     "execution_count": 217,
     "metadata": {},
     "output_type": "execute_result"
    }
   ],
   "source": [
    "df['cal_time'][0:20].median()"
   ]
  },
  {
   "cell_type": "code",
   "execution_count": 218,
   "metadata": {},
   "outputs": [],
   "source": [
    "df['cal_time_binaly'] = df['cal_time'].apply(lambda x:  0 if x < timedelta (days = 7) else 1)"
   ]
  },
  {
   "cell_type": "code",
   "execution_count": 219,
   "metadata": {},
   "outputs": [],
   "source": [
    "X = df[['commit_befor ', 'dispen_bf', 'object_bf', 'bloater_bf', 'open_time',]]\n",
    "\n",
    "y = df['cal_time_binaly']"
   ]
  },
  {
   "cell_type": "code",
   "execution_count": 220,
   "metadata": {},
   "outputs": [],
   "source": [
    "from sklearn.ensemble import GradientBoostingClassifier\n",
    "X_train, X_test = X[:20], X[20:]\n",
    "y_train, y_test = y[:20], y[20:]\n",
    "clf = GradientBoostingClassifier(n_estimators=1, learning_rate=1.0 , max_depth=1 , random_state=2).fit(X_train , y_train)"
   ]
  },
  {
   "cell_type": "code",
   "execution_count": 221,
   "metadata": {},
   "outputs": [
    {
     "data": {
      "text/plain": [
       "array([1, 0, 0, 1, 0, 0, 0, 0, 1, 1], dtype=int64)"
      ]
     },
     "execution_count": 221,
     "metadata": {},
     "output_type": "execute_result"
    }
   ],
   "source": [
    "clf.predict(X_test)"
   ]
  },
  {
   "cell_type": "code",
   "execution_count": 222,
   "metadata": {},
   "outputs": [
    {
     "data": {
      "text/plain": [
       "array([0.33333333, 0.66666667, 0.5       , 0.5       , 0.5       ])"
      ]
     },
     "execution_count": 222,
     "metadata": {},
     "output_type": "execute_result"
    }
   ],
   "source": [
    "from sklearn.model_selection import cross_val_score\n",
    "cross_val_score(clf , X , y , cv=5 , scoring= \"accuracy\")"
   ]
  },
  {
   "cell_type": "code",
   "execution_count": 223,
   "metadata": {},
   "outputs": [
    {
     "data": {
      "text/plain": [
       "array([0, 0, 0, 0, 0, 1, 0, 0, 0, 0, 1, 1, 1, 0, 0, 1, 1, 0, 0, 1, 1, 0,\n",
       "       0, 1, 0, 0, 0, 0, 1, 1], dtype=int64)"
      ]
     },
     "execution_count": 223,
     "metadata": {},
     "output_type": "execute_result"
    }
   ],
   "source": [
    "from sklearn.metrics import confusion_matrix\n",
    "from sklearn.model_selection import cross_val_predict\n",
    "y_pred = cross_val_predict(clf,X,y,cv=5)\n",
    "y_pred"
   ]
  },
  {
   "cell_type": "code",
   "execution_count": 224,
   "metadata": {},
   "outputs": [
    {
     "data": {
      "text/plain": [
       "array([[ 8,  4],\n",
       "       [11,  7]], dtype=int64)"
      ]
     },
     "execution_count": 224,
     "metadata": {},
     "output_type": "execute_result"
    }
   ],
   "source": [
    "from sklearn.metrics import confusion_matrix\n",
    "confusion_matrix(y , y_pred)"
   ]
  },
  {
   "cell_type": "code",
   "execution_count": 225,
   "metadata": {},
   "outputs": [
    {
     "data": {
      "text/plain": [
       "array([1, 1, 1, 1, 0, 1, 0, 0, 0, 0, 1, 1, 1, 0, 0, 1, 1, 0, 0, 1, 1, 0,\n",
       "       0, 1, 0, 0, 0, 0, 1, 1], dtype=int64)"
      ]
     },
     "execution_count": 225,
     "metadata": {},
     "output_type": "execute_result"
    }
   ],
   "source": [
    "clf.predict(X)"
   ]
  },
  {
   "cell_type": "code",
   "execution_count": 226,
   "metadata": {},
   "outputs": [
    {
     "data": {
      "text/plain": [
       "array([1, 1, 1, 1, 0, 1, 0, 0, 0, 0, 1, 1, 1, 0, 0, 1, 1, 0, 0, 1],\n",
       "      dtype=int64)"
      ]
     },
     "execution_count": 226,
     "metadata": {},
     "output_type": "execute_result"
    }
   ],
   "source": [
    "clf.predict(X_train)"
   ]
  },
  {
   "cell_type": "code",
   "execution_count": 227,
   "metadata": {},
   "outputs": [
    {
     "name": "stdout",
     "output_type": "stream",
     "text": [
      "precision =  0.5287081339712918\n",
      "recall_score =  0.5277777777777778\n",
      "f1_score 0.4994438264738599\n"
     ]
    }
   ],
   "source": [
    "from sklearn.metrics import precision_score, recall_score, f1_score\n",
    "print('precision = ', precision_score(y,y_pred ,average='macro'))\n",
    "print('recall_score = ', recall_score(y,y_pred ,average='macro'))\n",
    "print('f1_score',f1_score(y,y_pred ,average='macro'))\n"
   ]
  },
  {
   "cell_type": "code",
   "execution_count": 228,
   "metadata": {},
   "outputs": [
    {
     "data": {
      "text/plain": [
       "y         18\n",
       "y_pred    11\n",
       "dtype: int64"
      ]
     },
     "execution_count": 228,
     "metadata": {},
     "output_type": "execute_result"
    }
   ],
   "source": [
    "frame={\"y\":y,\"y_pred\": y_pred}\n",
    "pd.DataFrame(frame).sum()"
   ]
  },
  {
   "cell_type": "code",
   "execution_count": 229,
   "metadata": {},
   "outputs": [
    {
     "data": {
      "text/plain": [
       "GridSearchCV(cv=3, estimator=GradientBoostingClassifier(),\n",
       "             param_grid={'learning_rate': [0.1, 0.2, 1.0], 'max_depth': [1, 2],\n",
       "                         'n_estimators': [1, 2, 4], 'random_state': [1, 2],\n",
       "                         'subsample': [0.7]},\n",
       "             scoring='f1_macro')"
      ]
     },
     "execution_count": 229,
     "metadata": {},
     "output_type": "execute_result"
    }
   ],
   "source": [
    "from sklearn.model_selection import GridSearchCV\n",
    "\n",
    "parameters = {\n",
    "  \n",
    "    'learning_rate': [0.1 , 0.2 , 1.0],\n",
    "    'n_estimators': [1,2,4],\n",
    "    'subsample' : [0.7],\n",
    "    'max_depth' : [1,2] ,\n",
    "    'random_state':[1,2]\n",
    "  #(n_estimators=1, learning_rate=1.0 , max_depth=1 , random_state=2)\n",
    "}\n",
    "GradientBoosting = GradientBoostingClassifier()\n",
    "clf = GridSearchCV(GradientBoosting, parameters , cv=3 , scoring='f1_macro')\n",
    "clf.fit(X_train,y_train)"
   ]
  },
  {
   "cell_type": "code",
   "execution_count": 230,
   "metadata": {},
   "outputs": [
    {
     "data": {
      "text/plain": [
       "GradientBoostingClassifier(learning_rate=1.0, max_depth=2, n_estimators=2,\n",
       "                           random_state=2, subsample=0.7)"
      ]
     },
     "execution_count": 230,
     "metadata": {},
     "output_type": "execute_result"
    }
   ],
   "source": [
    "clf.best_estimator_"
   ]
  },
  {
   "cell_type": "code",
   "execution_count": 231,
   "metadata": {},
   "outputs": [
    {
     "name": "stderr",
     "output_type": "stream",
     "text": [
      "C:\\Users\\Beauz\\anaconda3\\lib\\site-packages\\sklearn\\model_selection\\_split.py:666: UserWarning: The least populated class in y has only 2 members, which is less than n_splits=5.\n",
      "  warnings.warn((\"The least populated class in y has only %d\"\n"
     ]
    },
    {
     "data": {
      "text/plain": [
       "array([1, 1, 1, 1, 1, 0, 1, 1, 1, 1], dtype=int64)"
      ]
     },
     "execution_count": 231,
     "metadata": {},
     "output_type": "execute_result"
    }
   ],
   "source": [
    "y_pred = cross_val_predict(clf.best_estimator_,X_test,y_test)\n",
    "y_pred"
   ]
  },
  {
   "cell_type": "code",
   "execution_count": 232,
   "metadata": {},
   "outputs": [],
   "source": [
    "y_pred_clf = clf.best_estimator_.predict(X_test)"
   ]
  },
  {
   "cell_type": "code",
   "execution_count": 233,
   "metadata": {},
   "outputs": [
    {
     "name": "stdout",
     "output_type": "stream",
     "text": [
      "precision =  0.6111111111111112\n",
      "recall_score =  0.5625\n",
      "f1_score 0.29292929292929293\n"
     ]
    }
   ],
   "source": [
    "from sklearn.metrics import precision_score, recall_score, f1_score\n",
    "print('precision = ', precision_score(y_test,y_pred_clf ,average='macro'))\n",
    "print('recall_score = ', recall_score(y_test,y_pred_clf ,average='macro'))\n",
    "print('f1_score',f1_score(y_test,y_pred_clf ,average='macro'))"
   ]
  },
  {
   "cell_type": "code",
   "execution_count": 234,
   "metadata": {},
   "outputs": [
    {
     "data": {
      "text/plain": [
       "GridSearchCV(cv=3, estimator=GradientBoostingClassifier(),\n",
       "             param_grid={'learning_rate': [0.01, 0.1, 1], 'max_depth': [2],\n",
       "                         'n_estimators': [12, 14, 16], 'random_state': [2],\n",
       "                         'subsample': [0.7, 0.9, 0.1]},\n",
       "             scoring='f1_macro')"
      ]
     },
     "execution_count": 234,
     "metadata": {},
     "output_type": "execute_result"
    }
   ],
   "source": [
    "from sklearn.model_selection import GridSearchCV\n",
    "\n",
    "parameters = {\n",
    "  \n",
    "    'learning_rate': [0.01 , 0.1 ,1],\n",
    "    'n_estimators': [12,14,16],\n",
    "    'subsample' : [0.7,0.9,0.1],\n",
    "    'max_depth' : [2] ,\n",
    "    'random_state':[2]\n",
    "  \n",
    "}\n",
    "GradientBoosting = GradientBoostingClassifier()\n",
    "clf = GridSearchCV(GradientBoosting, parameters , cv=3 , scoring='f1_macro')\n",
    "clf.fit(X_train,y_train)"
   ]
  },
  {
   "cell_type": "code",
   "execution_count": 235,
   "metadata": {},
   "outputs": [
    {
     "data": {
      "text/plain": [
       "GradientBoostingClassifier(learning_rate=0.01, max_depth=2, n_estimators=12,\n",
       "                           random_state=2, subsample=0.7)"
      ]
     },
     "execution_count": 235,
     "metadata": {},
     "output_type": "execute_result"
    }
   ],
   "source": [
    "clf.best_estimator_"
   ]
  },
  {
   "cell_type": "code",
   "execution_count": 236,
   "metadata": {},
   "outputs": [],
   "source": [
    "import itertools\n",
    "from itertools import product "
   ]
  },
  {
   "cell_type": "code",
   "execution_count": 237,
   "metadata": {},
   "outputs": [
    {
     "name": "stdout",
     "output_type": "stream",
     "text": [
      "('commit_befor ', 'dispen_bf')\n",
      "precision_score = 0.6111111111111112\n",
      "('commit_befor ', 'object_bf')\n",
      "precision_score = 0.6111111111111112\n",
      "('commit_befor ', 'bloater_bf')\n",
      "precision_score = 0.7777777777777778\n",
      "('commit_befor ', 'open_time')\n",
      "precision_score = 0.6111111111111112\n",
      "('dispen_bf', 'object_bf')\n",
      "precision_score = 0.4444444444444444\n",
      "('dispen_bf', 'bloater_bf')\n",
      "precision_score = 0.2222222222222222\n",
      "('dispen_bf', 'open_time')\n",
      "precision_score = 0.7222222222222222\n",
      "('object_bf', 'bloater_bf')\n",
      "precision_score = 0.4444444444444444\n",
      "('object_bf', 'open_time')\n",
      "precision_score = 0.3888888888888889\n",
      "('bloater_bf', 'open_time')\n",
      "precision_score = 0.3333333333333333\n"
     ]
    }
   ],
   "source": [
    "result = itertools.combinations(X ,2)\n",
    "\n",
    "for item in result:\n",
    "    df  = pd.DataFrame(item)\n",
    "    X[list (item)]\n",
    "    parameters = {\n",
    "    'learning_rate': [0.01 , 0.1 ,1],\n",
    "    'n_estimators': [12,14,16],\n",
    "    'subsample' : [0.7],\n",
    "    'max_depth' : [2] ,\n",
    "    'random_state':[2]\n",
    "    }\n",
    "    GradientBoosting = GradientBoostingClassifier()\n",
    "    clf = GridSearchCV(GradientBoosting , parameters , cv=3 , scoring='f1_macro')\n",
    "    clf.fit(X_train[list (item)],y_train)\n",
    "    clf.predict(X_test[list (item)])\n",
    "    #print('predict=',clf.predict(X_test[list (item)]))\n",
    "    #print(X_test)\n",
    "    #print(\"y_train = \",y_train)\n",
    "    print(item)\n",
    "    print(\"precision_score =\",precision_score(clf.predict(X[list(item)]),y))\n",
    "    #print(\"recall_score =\", recall_score(clf.predict(X[list(item)]),y))\n",
    "    #print(\"f_1=\",f1_score(clf.predict(X[list(item)]),y,average='macro'))\n",
    "    #print(\"f_1_X-test=\",f1_score(clf.predict(X_test[list(item)]),y_test,average='macro'))"
   ]
  }
 ],
 "metadata": {
  "colab": {
   "name": "Copy of Untitled0.ipynb",
   "provenance": []
  },
  "interpreter": {
   "hash": "ad7eca264feaa10a42b7f6be2a1e8f577a569f64740e80c71f143d2c89abf5fc"
  },
  "kernelspec": {
   "display_name": "Python 3.8.8 64-bit ('base': conda)",
   "name": "python3"
  },
  "language_info": {
   "codemirror_mode": {
    "name": "ipython",
    "version": 3
   },
   "file_extension": ".py",
   "mimetype": "text/x-python",
   "name": "python",
   "nbconvert_exporter": "python",
   "pygments_lexer": "ipython3",
   "version": "3.8.8"
  }
 },
 "nbformat": 4,
 "nbformat_minor": 1
}
