{
 "cells": [
  {
   "cell_type": "code",
   "execution_count": null,
   "metadata": {},
   "outputs": [],
   "source": [
    "from sklearn.datasets import load_wine\n",
    "from datetime import timedelta\n",
    "import pandas as pd\n",
    "import numpy as np"
   ]
  },
  {
   "cell_type": "code",
   "execution_count": null,
   "metadata": {},
   "outputs": [],
   "source": [
    "read_data_file = pd.read_pickle('../flink.pkl')\n",
    "df = pd.DataFrame(read_data_file)"
   ]
  },
  {
   "cell_type": "code",
   "execution_count": null,
   "metadata": {},
   "outputs": [
    {
     "data": {
      "text/plain": [
       "Index(['commit_befor ', 'commit_after', 'cal_smell', 'dispen_bf', 'object_bf',\n",
       "       'bloater_bf', 'dispen_at', 'object_at', 'bloater_af', 'open_time',\n",
       "       'closed_time', 'cal_time', 'changed_file', 'additions', 'deletions',\n",
       "       'dev', 'cal_time_binaly'],\n",
       "      dtype='object')"
      ]
     },
     "execution_count": 3,
     "metadata": {},
     "output_type": "execute_result"
    }
   ],
   "source": [
    "df.columns"
   ]
  },
  {
   "cell_type": "code",
   "execution_count": null,
   "metadata": {},
   "outputs": [
    {
     "data": {
      "text/plain": [
       "Timedelta('7 days 05:57:00')"
      ]
     },
     "execution_count": 4,
     "metadata": {},
     "output_type": "execute_result"
    }
   ],
   "source": [
    "df['cal_time'][0:20].median()"
   ]
  },
  {
   "cell_type": "code",
   "execution_count": null,
   "metadata": {},
   "outputs": [],
   "source": [
    "df['cal_time_binaly'] = df['cal_time'].apply(lambda x:  0 if x < timedelta (days = 7) else 1)"
   ]
  },
  {
   "cell_type": "code",
   "execution_count": null,
   "metadata": {},
   "outputs": [],
   "source": [
    "#X = df[['commit_befor ', 'dispen_bf', 'object_bf', 'bloater_bf', 'open_time',]]\n",
    "X = df[['commit_befor ', 'commit_after', 'cal_smell', 'dispen_bf', 'object_bf',\n",
    "       'bloater_bf', 'dispen_at', 'object_at', 'bloater_af', 'open_time',\n",
    "       'closed_time','changed_file', 'additions', 'deletions',\n",
    "       'dev']]\n",
    "y = df['cal_time_binaly']"
   ]
  },
  {
   "cell_type": "code",
   "execution_count": null,
   "metadata": {},
   "outputs": [],
   "source": [
    "X = X.dropna()\n",
    "y = y.dropna()"
   ]
  },
  {
   "cell_type": "code",
   "execution_count": null,
   "metadata": {},
   "outputs": [],
   "source": [
    "X_train ,X_test ,y_train , y_test = X[:20], X[20:],y[:20],y[20:]"
   ]
  },
  {
   "cell_type": "code",
   "execution_count": null,
   "metadata": {},
   "outputs": [],
   "source": [
    "from sklearn.svm import SVC\n",
    "from sklearn.preprocessing import StandardScaler\n",
    "from sklearn.pipeline import make_pipeline\n",
    "clf = make_pipeline(StandardScaler(), SVC(gamma='auto' , random_state = 2))"
   ]
  },
  {
   "cell_type": "code",
   "execution_count": null,
   "metadata": {},
   "outputs": [
    {
     "data": {
      "text/plain": [
       "array([0.33333333, 0.66666667, 0.5       , 0.66666667, 0.33333333])"
      ]
     },
     "execution_count": 10,
     "metadata": {},
     "output_type": "execute_result"
    }
   ],
   "source": [
    "from sklearn.model_selection import cross_val_score\n",
    "cross_val_score(clf , X , y , cv=5 , scoring= \"accuracy\")"
   ]
  },
  {
   "cell_type": "code",
   "execution_count": null,
   "metadata": {},
   "outputs": [
    {
     "data": {
      "text/plain": [
       "array([0, 1, 1, 0, 1, 1, 1, 1, 1, 1, 1, 1, 1, 1, 1, 1, 1, 0, 1, 1, 1, 0,\n",
       "       1, 1, 1, 1, 1, 0, 1, 1], dtype=int64)"
      ]
     },
     "execution_count": 11,
     "metadata": {},
     "output_type": "execute_result"
    }
   ],
   "source": [
    "from sklearn.metrics import confusion_matrix\n",
    "from sklearn.model_selection import cross_val_predict\n",
    "y_pred = cross_val_predict(clf,X,y,cv=5)\n",
    "y_pred"
   ]
  },
  {
   "cell_type": "code",
   "execution_count": null,
   "metadata": {},
   "outputs": [
    {
     "data": {
      "text/plain": [
       "array([[ 1, 11],\n",
       "       [ 4, 14]], dtype=int64)"
      ]
     },
     "execution_count": 12,
     "metadata": {},
     "output_type": "execute_result"
    }
   ],
   "source": [
    "confusion_matrix(y,y_pred)"
   ]
  },
  {
   "cell_type": "code",
   "execution_count": null,
   "metadata": {},
   "outputs": [
    {
     "name": "stdout",
     "output_type": "stream",
     "text": [
      "precision =  0.56\n",
      "recall_score =  0.7777777777777778\n",
      "f1_score 0.6511627906976745\n"
     ]
    }
   ],
   "source": [
    "from sklearn.metrics import precision_score, recall_score, f1_score\n",
    "print('precision = ', precision_score(y,y_pred))\n",
    "print('recall_score = ', recall_score(y,y_pred))\n",
    "print('f1_score',f1_score(y,y_pred))"
   ]
  },
  {
   "cell_type": "code",
   "execution_count": null,
   "metadata": {},
   "outputs": [
    {
     "data": {
      "text/plain": [
       "y         18\n",
       "y_pred    25\n",
       "dtype: int64"
      ]
     },
     "execution_count": 14,
     "metadata": {},
     "output_type": "execute_result"
    }
   ],
   "source": [
    "frame={\"y\":y,\"y_pred\": y_pred}\n",
    "pd.DataFrame(frame).sum()"
   ]
  },
  {
   "cell_type": "code",
   "execution_count": null,
   "metadata": {},
   "outputs": [
    {
     "data": {
      "text/plain": [
       "GridSearchCV(cv=3, estimator=SVC(),\n",
       "             param_grid={'C': [0.01, 0.1, 1], 'gamma': ['scale', 'auto'],\n",
       "                         'random_state': [2]},\n",
       "             scoring='f1_macro')"
      ]
     },
     "execution_count": 15,
     "metadata": {},
     "output_type": "execute_result"
    }
   ],
   "source": [
    "from sklearn.model_selection import GridSearchCV\n",
    "\n",
    "parameters = {\n",
    "  \n",
    "    'C': [0.01 , 0.1 ,1],\n",
    "    'gamma' : ['scale' , 'auto'],\n",
    "    'random_state':[2]\n",
    "  \n",
    "}\n",
    "svc = SVC()\n",
    "clf = GridSearchCV(svc , parameters , cv=3 , scoring='f1_macro')\n",
    "clf.fit(X,y)"
   ]
  },
  {
   "cell_type": "code",
   "execution_count": null,
   "metadata": {},
   "outputs": [
    {
     "data": {
      "text/plain": [
       "array([1, 1, 1, 1, 1, 1, 1, 1, 1, 1], dtype=int64)"
      ]
     },
     "execution_count": 16,
     "metadata": {},
     "output_type": "execute_result"
    }
   ],
   "source": [
    "clf.predict(X_test)"
   ]
  },
  {
   "cell_type": "code",
   "execution_count": null,
   "metadata": {},
   "outputs": [
    {
     "data": {
      "text/plain": [
       "SVC(C=1, random_state=2)"
      ]
     },
     "execution_count": 17,
     "metadata": {},
     "output_type": "execute_result"
    }
   ],
   "source": [
    "clf.best_estimator_"
   ]
  },
  {
   "cell_type": "code",
   "execution_count": null,
   "metadata": {},
   "outputs": [
    {
     "data": {
      "text/plain": [
       "array([1, 1, 1, 1, 1, 1, 1, 1, 1, 1, 1, 1, 1, 1, 1, 1, 1, 1, 1, 1, 1, 1,\n",
       "       1, 1, 1, 1, 1, 1, 1, 1], dtype=int64)"
      ]
     },
     "execution_count": 18,
     "metadata": {},
     "output_type": "execute_result"
    }
   ],
   "source": [
    "y_pred = clf.predict(X)\n",
    "y_pred"
   ]
  },
  {
   "cell_type": "code",
   "execution_count": null,
   "metadata": {},
   "outputs": [
    {
     "data": {
      "text/plain": [
       "array([1, 1, 1, 1, 1, 1, 1, 1, 1, 1], dtype=int64)"
      ]
     },
     "execution_count": 19,
     "metadata": {},
     "output_type": "execute_result"
    }
   ],
   "source": [
    "clf.predict(X_test)"
   ]
  },
  {
   "cell_type": "code",
   "execution_count": null,
   "metadata": {},
   "outputs": [
    {
     "data": {
      "text/plain": [
       "SVC(C=1, random_state=2)"
      ]
     },
     "execution_count": 20,
     "metadata": {},
     "output_type": "execute_result"
    }
   ],
   "source": [
    "clf.best_estimator_"
   ]
  },
  {
   "cell_type": "code",
   "execution_count": null,
   "metadata": {},
   "outputs": [
    {
     "data": {
      "text/plain": [
       "array([1, 1, 1, 1, 1, 1, 1, 1, 1, 1, 1, 1, 1, 1, 1, 1, 1, 1, 1, 1, 1, 1,\n",
       "       1, 1, 1, 1, 1, 1, 1, 1], dtype=int64)"
      ]
     },
     "execution_count": 21,
     "metadata": {},
     "output_type": "execute_result"
    }
   ],
   "source": [
    "y_pred_clf = clf.best_estimator_.predict(X)\n",
    "y_pred_clf"
   ]
  },
  {
   "cell_type": "code",
   "execution_count": null,
   "metadata": {},
   "outputs": [
    {
     "name": "stdout",
     "output_type": "stream",
     "text": [
      "precision =  0.3\n",
      "recall_score =  0.5\n",
      "f1_score 0.37499999999999994\n"
     ]
    },
    {
     "name": "stderr",
     "output_type": "stream",
     "text": [
      "C:\\Users\\Beauz\\anaconda3\\lib\\site-packages\\sklearn\\metrics\\_classification.py:1245: UndefinedMetricWarning: Precision is ill-defined and being set to 0.0 in labels with no predicted samples. Use `zero_division` parameter to control this behavior.\n",
      "  _warn_prf(average, modifier, msg_start, len(result))\n"
     ]
    }
   ],
   "source": [
    "from sklearn.metrics import precision_score, recall_score, f1_score\n",
    "print('precision = ', precision_score(y,y_pred_clf ,average='macro'))\n",
    "print('recall_score = ', recall_score(y,y_pred_clf ,average='macro'))\n",
    "print('f1_score',f1_score(y,y_pred_clf ,average='macro'))"
   ]
  },
  {
   "cell_type": "code",
   "execution_count": null,
   "metadata": {},
   "outputs": [],
   "source": [
    "#frame={\"y\":y,\"y_pred_clf\": y_pred_clf}\n",
    "#pd.DataFrame(frame)"
   ]
  },
  {
   "cell_type": "code",
   "execution_count": 24,
   "metadata": {},
   "outputs": [],
   "source": [
    "from matplotlib import pyplot as plt\n",
    "from sklearn import svm\n",
    "import numpy as np\n",
    "\n",
    "def f_importances(coef, names):\n",
    "    \n",
    "    names = np.arange(1)\n",
    "    imp = coef\n",
    "    imp,names = zip(*sorted(zip(imp,names)))\n",
    "    plt.barh(range(len(names)), imp, align='center')\n",
    "    plt.yticks(range(len(names)), names)\n",
    "    plt.show()\n",
    "\n",
    "features_names = X.columns\n",
    "svm1 = svm.SVC(kernel='linear',C=1)\n",
    "svm1.fit(X, y)"
   ]
  },
  {
   "cell_type": "code",
   "execution_count": null,
   "metadata": {},
   "outputs": [
    {
     "data": {
      "text/plain": [
       "array([[ 2.02791707e-01,  3.40744616e-01,  1.37952909e-01,\n",
       "         1.85611624e-01,  1.94632612e-01,  1.15714470e-01,\n",
       "         1.82411774e-01, -1.05846384e-01,  3.90879273e-01,\n",
       "        -3.86276367e-01,  1.12511262e-01,  7.77691502e-02,\n",
       "        -5.35036114e-04,  4.69145889e-04,  7.72437431e-01]])"
      ]
     },
     "execution_count": 55,
     "metadata": {},
     "output_type": "execute_result"
    }
   ],
   "source": [
    "svm1.coef_"
   ]
  },
  {
   "cell_type": "code",
   "execution_count": null,
   "metadata": {},
   "outputs": [],
   "source": [
    "import itertools\n",
    "from itertools import product "
   ]
  },
  {
   "cell_type": "code",
   "execution_count": null,
   "metadata": {},
   "outputs": [
    {
     "name": "stdout",
     "output_type": "stream",
     "text": [
      "('commit_befor ', 'commit_after')\n",
      "precision_score = 0.5555555555555556\n",
      "recall_score = 1.0\n",
      "f_1= 0.7321428571428571\n",
      "('commit_befor ', 'cal_smell')\n",
      "precision_score = 0.5555555555555556\n",
      "recall_score = 1.0\n",
      "f_1= 0.7321428571428571\n",
      "('commit_befor ', 'dispen_bf')\n",
      "precision_score = 0.6666666666666666\n",
      "recall_score = 1.0\n",
      "f_1= 0.8\n",
      "('commit_befor ', 'object_bf')\n",
      "precision_score = 0.6111111111111112\n",
      "recall_score = 0.8461538461538461\n",
      "f_1= 0.699666295884316\n",
      "('commit_befor ', 'bloater_bf')\n",
      "precision_score = 0.7222222222222222\n",
      "recall_score = 0.8125\n",
      "f_1= 0.7285067873303168\n",
      "('commit_befor ', 'dispen_at')\n",
      "precision_score = 0.8333333333333334\n",
      "recall_score = 0.8823529411764706\n",
      "f_1= 0.8285714285714285\n",
      "('commit_befor ', 'object_at')\n",
      "precision_score = 0.6111111111111112\n",
      "recall_score = 0.9166666666666666\n",
      "f_1= 0.7333333333333334\n",
      "('commit_befor ', 'bloater_af')\n",
      "precision_score = 0.7777777777777778\n",
      "recall_score = 0.7777777777777778\n",
      "f_1= 0.7222222222222222\n",
      "('commit_befor ', 'open_time')\n",
      "precision_score = 0.7777777777777778\n",
      "recall_score = 0.9333333333333333\n",
      "f_1= 0.8316498316498316\n",
      "('commit_befor ', 'closed_time')\n",
      "precision_score = 0.8333333333333334\n",
      "recall_score = 0.8333333333333334\n",
      "f_1= 0.7916666666666667\n",
      "('commit_befor ', 'changed_file')\n",
      "precision_score = 1.0\n",
      "recall_score = 0.9\n",
      "f_1= 0.9282296650717703\n",
      "('commit_befor ', 'additions')\n",
      "precision_score = 0.9444444444444444\n",
      "recall_score = 1.0\n",
      "f_1= 0.9657142857142857\n",
      "('commit_befor ', 'deletions')\n",
      "precision_score = 0.8888888888888888\n",
      "recall_score = 0.9411764705882353\n",
      "f_1= 0.897142857142857\n",
      "('commit_befor ', 'dev')\n",
      "precision_score = 0.6666666666666666\n",
      "recall_score = 0.8\n",
      "f_1= 0.6969696969696968\n",
      "('commit_after', 'cal_smell')\n",
      "precision_score = 0.7222222222222222\n",
      "recall_score = 0.8666666666666667\n",
      "f_1= 0.7643097643097643\n",
      "('commit_after', 'dispen_bf')\n",
      "precision_score = 0.8888888888888888\n",
      "recall_score = 0.8\n",
      "f_1= 0.784688995215311\n",
      "('commit_after', 'object_bf')\n",
      "precision_score = 0.8333333333333334\n",
      "recall_score = 0.9375\n",
      "f_1= 0.8642533936651584\n",
      "('commit_after', 'bloater_bf')\n",
      "precision_score = 0.7777777777777778\n",
      "recall_score = 0.9333333333333333\n",
      "f_1= 0.8316498316498316\n",
      "('commit_after', 'dispen_at')\n",
      "precision_score = 0.7777777777777778\n",
      "recall_score = 0.8235294117647058\n",
      "f_1= 0.7599999999999999\n",
      "('commit_after', 'object_at')\n",
      "precision_score = 0.7777777777777778\n",
      "recall_score = 0.9333333333333333\n",
      "f_1= 0.8316498316498316\n",
      "('commit_after', 'bloater_af')\n",
      "precision_score = 0.7777777777777778\n",
      "recall_score = 0.9333333333333333\n",
      "f_1= 0.8316498316498316\n",
      "('commit_after', 'open_time')\n",
      "precision_score = 0.8888888888888888\n",
      "recall_score = 0.8888888888888888\n",
      "f_1= 0.8611111111111112\n",
      "('commit_after', 'closed_time')\n",
      "precision_score = 0.7222222222222222\n",
      "recall_score = 0.8666666666666667\n",
      "f_1= 0.7643097643097643\n",
      "('commit_after', 'changed_file')\n",
      "precision_score = 0.8333333333333334\n",
      "recall_score = 0.8823529411764706\n",
      "f_1= 0.8285714285714285\n",
      "('commit_after', 'additions')\n",
      "precision_score = 0.8888888888888888\n",
      "recall_score = 1.0\n",
      "f_1= 0.9321266968325792\n",
      "('commit_after', 'deletions')\n",
      "precision_score = 0.9444444444444444\n",
      "recall_score = 0.8947368421052632\n",
      "f_1= 0.8942420681551116\n",
      "('commit_after', 'dev')\n",
      "precision_score = 0.7777777777777778\n",
      "recall_score = 0.875\n",
      "f_1= 0.7963800904977376\n",
      "('cal_smell', 'dispen_bf')\n",
      "precision_score = 0.8333333333333334\n",
      "recall_score = 0.8823529411764706\n",
      "f_1= 0.8285714285714285\n",
      "('cal_smell', 'object_bf')\n",
      "precision_score = 0.7777777777777778\n",
      "recall_score = 0.875\n",
      "f_1= 0.7963800904977376\n",
      "('cal_smell', 'bloater_bf')\n",
      "precision_score = 0.2777777777777778\n",
      "recall_score = 0.8333333333333334\n",
      "f_1= 0.5138888888888888\n",
      "('cal_smell', 'dispen_at')\n",
      "precision_score = 0.9444444444444444\n",
      "recall_score = 0.85\n",
      "f_1= 0.8564593301435407\n",
      "('cal_smell', 'object_at')\n",
      "precision_score = 0.5555555555555556\n",
      "recall_score = 0.7142857142857143\n",
      "f_1= 0.5982142857142858\n",
      "('cal_smell', 'bloater_af')\n",
      "precision_score = 0.5\n",
      "recall_score = 0.8181818181818182\n",
      "f_1= 0.6329254727474971\n",
      "('cal_smell', 'open_time')\n",
      "precision_score = 0.7777777777777778\n",
      "recall_score = 0.9333333333333333\n",
      "f_1= 0.8316498316498316\n",
      "('cal_smell', 'closed_time')\n",
      "precision_score = 0.8333333333333334\n",
      "recall_score = 0.8823529411764706\n",
      "f_1= 0.8285714285714285\n",
      "('cal_smell', 'changed_file')\n",
      "precision_score = 0.9444444444444444\n",
      "recall_score = 0.9444444444444444\n",
      "f_1= 0.9305555555555556\n",
      "('cal_smell', 'additions')\n",
      "precision_score = 0.9444444444444444\n",
      "recall_score = 1.0\n",
      "f_1= 0.9657142857142857\n",
      "('cal_smell', 'deletions')\n",
      "precision_score = 0.8888888888888888\n",
      "recall_score = 0.9411764705882353\n",
      "f_1= 0.897142857142857\n",
      "('cal_smell', 'dev')\n",
      "precision_score = 0.3888888888888889\n",
      "recall_score = 0.875\n",
      "f_1= 0.5927601809954752\n",
      "('dispen_bf', 'object_bf')\n",
      "precision_score = 0.7222222222222222\n",
      "recall_score = 0.8666666666666667\n",
      "f_1= 0.7643097643097643\n",
      "('dispen_bf', 'bloater_bf')\n",
      "precision_score = 0.3888888888888889\n",
      "recall_score = 1.0\n",
      "f_1= 0.6228571428571428\n",
      "('dispen_bf', 'dispen_at')\n",
      "precision_score = 0.7222222222222222\n",
      "recall_score = 0.8125\n",
      "f_1= 0.7285067873303168\n",
      "('dispen_bf', 'object_at')\n",
      "precision_score = 0.6111111111111112\n",
      "recall_score = 0.7333333333333333\n",
      "f_1= 0.6296296296296295\n",
      "('dispen_bf', 'bloater_af')\n",
      "precision_score = 0.4444444444444444\n",
      "recall_score = 0.8\n",
      "f_1= 0.5982142857142857\n",
      "('dispen_bf', 'open_time')\n",
      "precision_score = 0.9444444444444444\n",
      "recall_score = 0.7391304347826086\n",
      "f_1= 0.730423620025674\n",
      "('dispen_bf', 'closed_time')\n",
      "precision_score = 0.8333333333333334\n",
      "recall_score = 0.7894736842105263\n",
      "f_1= 0.7532314923619272\n",
      "('dispen_bf', 'changed_file')\n",
      "precision_score = 0.8888888888888888\n",
      "recall_score = 0.9411764705882353\n",
      "f_1= 0.897142857142857\n",
      "('dispen_bf', 'additions')\n",
      "precision_score = 0.8888888888888888\n",
      "recall_score = 1.0\n",
      "f_1= 0.9321266968325792\n",
      "('dispen_bf', 'deletions')\n",
      "precision_score = 0.8888888888888888\n",
      "recall_score = 0.8888888888888888\n",
      "f_1= 0.8611111111111112\n",
      "('dispen_bf', 'dev')\n",
      "precision_score = 0.4444444444444444\n",
      "recall_score = 1.0\n",
      "f_1= 0.6606334841628958\n",
      "('object_bf', 'bloater_bf')\n",
      "precision_score = 0.5\n",
      "recall_score = 0.75\n",
      "f_1= 0.6\n",
      "('object_bf', 'dispen_at')\n",
      "precision_score = 0.7222222222222222\n",
      "recall_score = 0.8666666666666667\n",
      "f_1= 0.7643097643097643\n",
      "('object_bf', 'object_at')\n",
      "precision_score = 0.5555555555555556\n",
      "recall_score = 0.7142857142857143\n",
      "f_1= 0.5982142857142858\n",
      "('object_bf', 'bloater_af')\n",
      "precision_score = 0.2777777777777778\n",
      "recall_score = 0.7142857142857143\n",
      "f_1= 0.4857142857142857\n",
      "('object_bf', 'open_time')\n",
      "precision_score = 0.6111111111111112\n",
      "recall_score = 0.9166666666666666\n",
      "f_1= 0.7333333333333334\n",
      "('object_bf', 'closed_time')\n",
      "precision_score = 0.6666666666666666\n",
      "recall_score = 0.8\n",
      "f_1= 0.6969696969696968\n",
      "('object_bf', 'changed_file')\n",
      "precision_score = 0.8888888888888888\n",
      "recall_score = 0.8888888888888888\n",
      "f_1= 0.8611111111111112\n",
      "('object_bf', 'additions')\n",
      "precision_score = 0.8888888888888888\n",
      "recall_score = 1.0\n",
      "f_1= 0.9321266968325792\n",
      "('object_bf', 'deletions')\n",
      "precision_score = 0.8333333333333334\n",
      "recall_score = 0.9375\n",
      "f_1= 0.8642533936651584\n",
      "('object_bf', 'dev')\n",
      "precision_score = 0.2777777777777778\n",
      "recall_score = 0.625\n",
      "f_1= 0.45701357466063347\n",
      "('bloater_bf', 'dispen_at')\n",
      "precision_score = 0.7222222222222222\n",
      "recall_score = 0.8125\n",
      "f_1= 0.7285067873303168\n",
      "('bloater_bf', 'object_at')\n",
      "precision_score = 0.9444444444444444\n",
      "recall_score = 0.6538461538461539\n",
      "f_1= 0.5738636363636364\n",
      "('bloater_bf', 'bloater_af')\n",
      "precision_score = 0.3888888888888889\n",
      "recall_score = 1.0\n",
      "f_1= 0.6228571428571428\n",
      "('bloater_bf', 'open_time')\n",
      "precision_score = 0.8888888888888888\n",
      "recall_score = 0.6666666666666666\n",
      "f_1= 0.6031746031746033\n",
      "('bloater_bf', 'closed_time')\n",
      "precision_score = 0.7777777777777778\n",
      "recall_score = 0.7\n",
      "f_1= 0.6411483253588516\n",
      "('bloater_bf', 'changed_file')\n",
      "precision_score = 0.7777777777777778\n",
      "recall_score = 0.875\n",
      "f_1= 0.7963800904977376\n",
      "('bloater_bf', 'additions')\n",
      "precision_score = 0.8888888888888888\n",
      "recall_score = 1.0\n",
      "f_1= 0.9321266968325792\n",
      "('bloater_bf', 'deletions')\n",
      "precision_score = 0.8333333333333334\n",
      "recall_score = 0.8333333333333334\n",
      "f_1= 0.7916666666666667\n",
      "('bloater_bf', 'dev')\n",
      "precision_score = 0.16666666666666666\n",
      "recall_score = 1.0\n",
      "f_1= 0.4505494505494505\n",
      "('dispen_at', 'object_at')\n",
      "precision_score = 0.6666666666666666\n",
      "recall_score = 0.8\n",
      "f_1= 0.6969696969696968\n",
      "('dispen_at', 'bloater_af')\n",
      "precision_score = 0.6666666666666666\n",
      "recall_score = 0.8\n",
      "f_1= 0.6969696969696968\n",
      "('dispen_at', 'open_time')\n",
      "precision_score = 0.7222222222222222\n",
      "recall_score = 0.8666666666666667\n",
      "f_1= 0.7643097643097643\n",
      "('dispen_at', 'closed_time')\n",
      "precision_score = 0.8333333333333334\n",
      "recall_score = 0.8333333333333334\n",
      "f_1= 0.7916666666666667\n",
      "('dispen_at', 'changed_file')\n",
      "precision_score = 0.8888888888888888\n",
      "recall_score = 0.8888888888888888\n",
      "f_1= 0.8611111111111112\n",
      "('dispen_at', 'additions')\n",
      "precision_score = 0.8888888888888888\n",
      "recall_score = 1.0\n",
      "f_1= 0.9321266968325792\n",
      "('dispen_at', 'deletions')\n",
      "precision_score = 0.5555555555555556\n",
      "recall_score = 1.0\n",
      "f_1= 0.7321428571428571\n",
      "('dispen_at', 'dev')\n",
      "precision_score = 0.6666666666666666\n",
      "recall_score = 0.8\n",
      "f_1= 0.6969696969696968\n",
      "('object_at', 'bloater_af')\n",
      "precision_score = 0.3888888888888889\n",
      "recall_score = 0.7777777777777778\n",
      "f_1= 0.5622895622895623\n",
      "('object_at', 'open_time')\n",
      "precision_score = 0.9444444444444444\n",
      "recall_score = 0.7083333333333334\n",
      "f_1= 0.6825396825396826\n",
      "('object_at', 'closed_time')\n",
      "precision_score = 0.8333333333333334\n",
      "recall_score = 0.75\n",
      "f_1= 0.7129186602870814\n",
      "('object_at', 'changed_file')\n",
      "precision_score = 0.8333333333333334\n",
      "recall_score = 0.8823529411764706\n",
      "f_1= 0.8285714285714285\n",
      "('object_at', 'additions')\n",
      "precision_score = 0.8888888888888888\n",
      "recall_score = 1.0\n",
      "f_1= 0.9321266968325792\n",
      "('object_at', 'deletions')\n",
      "precision_score = 0.9444444444444444\n",
      "recall_score = 0.8947368421052632\n",
      "f_1= 0.8942420681551116\n",
      "('object_at', 'dev')\n",
      "precision_score = 1.0\n",
      "recall_score = 0.6666666666666666\n",
      "f_1= 0.6000000000000001\n",
      "('bloater_af', 'open_time')\n",
      "precision_score = 0.5555555555555556\n",
      "recall_score = 0.7142857142857143\n",
      "f_1= 0.5982142857142858\n",
      "('bloater_af', 'closed_time')\n",
      "precision_score = 0.7222222222222222\n",
      "recall_score = 0.6842105263157895\n",
      "f_1= 0.6122209165687427\n",
      "('bloater_af', 'changed_file')\n",
      "precision_score = 0.7222222222222222\n",
      "recall_score = 0.9285714285714286\n",
      "f_1= 0.7991071428571429\n",
      "('bloater_af', 'additions')\n",
      "precision_score = 0.8888888888888888\n",
      "recall_score = 1.0\n",
      "f_1= 0.9321266968325792\n",
      "('bloater_af', 'deletions')\n",
      "precision_score = 0.5555555555555556\n",
      "recall_score = 0.9090909090909091\n",
      "f_1= 0.699666295884316\n",
      "('bloater_af', 'dev')\n",
      "precision_score = 0.2222222222222222\n",
      "recall_score = 1.0\n",
      "f_1= 0.4976076555023923\n",
      "('open_time', 'closed_time')\n",
      "precision_score = 0.8888888888888888\n",
      "recall_score = 0.7619047619047619\n",
      "f_1= 0.7435897435897436\n",
      "('open_time', 'changed_file')\n",
      "precision_score = 1.0\n",
      "recall_score = 0.9\n",
      "f_1= 0.9282296650717703\n",
      "('open_time', 'additions')\n",
      "precision_score = 0.8888888888888888\n",
      "recall_score = 1.0\n",
      "f_1= 0.9321266968325792\n",
      "('open_time', 'deletions')\n",
      "precision_score = 0.7777777777777778\n",
      "recall_score = 1.0\n",
      "f_1= 0.8660714285714286\n",
      "('open_time', 'dev')\n",
      "precision_score = 0.7222222222222222\n",
      "recall_score = 0.7222222222222222\n",
      "f_1= 0.6527777777777778\n",
      "('closed_time', 'changed_file')\n",
      "precision_score = 1.0\n",
      "recall_score = 0.8571428571428571\n",
      "f_1= 0.8901098901098901\n",
      "('closed_time', 'additions')\n",
      "precision_score = 0.8888888888888888\n",
      "recall_score = 1.0\n",
      "f_1= 0.9321266968325792\n",
      "('closed_time', 'deletions')\n",
      "precision_score = 0.5555555555555556\n",
      "recall_score = 1.0\n",
      "f_1= 0.7321428571428571\n",
      "('closed_time', 'dev')\n",
      "precision_score = 0.7222222222222222\n",
      "recall_score = 0.6842105263157895\n",
      "f_1= 0.6122209165687427\n",
      "('changed_file', 'additions')\n",
      "precision_score = 0.8888888888888888\n",
      "recall_score = 1.0\n",
      "f_1= 0.9321266968325792\n",
      "('changed_file', 'deletions')\n",
      "precision_score = 0.9444444444444444\n",
      "recall_score = 0.9444444444444444\n",
      "f_1= 0.9305555555555556\n",
      "('changed_file', 'dev')\n",
      "precision_score = 0.7222222222222222\n",
      "recall_score = 0.9285714285714286\n",
      "f_1= 0.7991071428571429\n",
      "('additions', 'deletions')\n",
      "precision_score = 0.8888888888888888\n",
      "recall_score = 0.9411764705882353\n",
      "f_1= 0.897142857142857\n",
      "('additions', 'dev')\n",
      "precision_score = 0.8888888888888888\n",
      "recall_score = 1.0\n",
      "f_1= 0.9321266968325792\n",
      "('deletions', 'dev')\n",
      "precision_score = 0.8333333333333334\n",
      "recall_score = 0.8333333333333334\n",
      "f_1= 0.7916666666666667\n"
     ]
    }
   ],
   "source": [
    "result = itertools.combinations(X ,2)\n",
    "\n",
    "for item in result:\n",
    "    df  = pd.DataFrame(item)\n",
    "    X[list (item)]\n",
    "    parameters = {\n",
    "    'C': [0.01 , 0.03 , 0.05 ],\n",
    "    'gamma' : ['auto'],\n",
    "    'random_state':[2]\n",
    "    }\n",
    "    svc = SVC()\n",
    "    clf = GridSearchCV(svc , parameters , cv=3 , scoring='f1_macro')\n",
    "    clf.fit(X_train[list (item)],y_train)\n",
    "    clf.predict(X_test[list (item)])\n",
    "    #print('predict=',clf.predict(X_test[list (item)]))\n",
    "    #print(X_test)\n",
    "    #print(\"y_train = \",y_train)\n",
    "    print(item)\n",
    "    print(\"precision_score =\",precision_score(clf.predict(X[list(item)]),y))\n",
    "    print(\"recall_score =\", recall_score(clf.predict(X[list(item)]),y))\n",
    "    print(\"f_1=\",f1_score(clf.predict(X[list(item)]),y,average='macro'))\n",
    "    #print(\"f_1_X-test=\",f1_score(clf.predict(X_test[list(item)]),y_test,average='macro'))\n",
    "    "
   ]
  },
  {
   "cell_type": "code",
   "execution_count": null,
   "metadata": {},
   "outputs": [
    {
     "data": {
      "text/plain": [
       "<itertools.combinations_with_replacement at 0x19f6423d310>"
      ]
     },
     "execution_count": 58,
     "metadata": {},
     "output_type": "execute_result"
    }
   ],
   "source": [
    "itertools.combinations_with_replacement(X,2)"
   ]
  },
  {
   "cell_type": "code",
   "execution_count": null,
   "metadata": {},
   "outputs": [
    {
     "name": "stdout",
     "output_type": "stream",
     "text": [
      "[('commit_befor ', 'commit_after'), ('commit_befor ', 'cal_smell'), ('commit_befor ', 'dispen_bf'), ('commit_befor ', 'object_bf'), ('commit_befor ', 'bloater_bf'), ('commit_befor ', 'dispen_at'), ('commit_befor ', 'object_at'), ('commit_befor ', 'bloater_af'), ('commit_befor ', 'open_time'), ('commit_befor ', 'closed_time'), ('commit_befor ', 'changed_file'), ('commit_befor ', 'additions'), ('commit_befor ', 'deletions'), ('commit_befor ', 'dev'), ('commit_after', 'cal_smell'), ('commit_after', 'dispen_bf'), ('commit_after', 'object_bf'), ('commit_after', 'bloater_bf'), ('commit_after', 'dispen_at'), ('commit_after', 'object_at'), ('commit_after', 'bloater_af'), ('commit_after', 'open_time'), ('commit_after', 'closed_time'), ('commit_after', 'changed_file'), ('commit_after', 'additions'), ('commit_after', 'deletions'), ('commit_after', 'dev'), ('cal_smell', 'dispen_bf'), ('cal_smell', 'object_bf'), ('cal_smell', 'bloater_bf'), ('cal_smell', 'dispen_at'), ('cal_smell', 'object_at'), ('cal_smell', 'bloater_af'), ('cal_smell', 'open_time'), ('cal_smell', 'closed_time'), ('cal_smell', 'changed_file'), ('cal_smell', 'additions'), ('cal_smell', 'deletions'), ('cal_smell', 'dev'), ('dispen_bf', 'object_bf'), ('dispen_bf', 'bloater_bf'), ('dispen_bf', 'dispen_at'), ('dispen_bf', 'object_at'), ('dispen_bf', 'bloater_af'), ('dispen_bf', 'open_time'), ('dispen_bf', 'closed_time'), ('dispen_bf', 'changed_file'), ('dispen_bf', 'additions'), ('dispen_bf', 'deletions'), ('dispen_bf', 'dev'), ('object_bf', 'bloater_bf'), ('object_bf', 'dispen_at'), ('object_bf', 'object_at'), ('object_bf', 'bloater_af'), ('object_bf', 'open_time'), ('object_bf', 'closed_time'), ('object_bf', 'changed_file'), ('object_bf', 'additions'), ('object_bf', 'deletions'), ('object_bf', 'dev'), ('bloater_bf', 'dispen_at'), ('bloater_bf', 'object_at'), ('bloater_bf', 'bloater_af'), ('bloater_bf', 'open_time'), ('bloater_bf', 'closed_time'), ('bloater_bf', 'changed_file'), ('bloater_bf', 'additions'), ('bloater_bf', 'deletions'), ('bloater_bf', 'dev'), ('dispen_at', 'object_at'), ('dispen_at', 'bloater_af'), ('dispen_at', 'open_time'), ('dispen_at', 'closed_time'), ('dispen_at', 'changed_file'), ('dispen_at', 'additions'), ('dispen_at', 'deletions'), ('dispen_at', 'dev'), ('object_at', 'bloater_af'), ('object_at', 'open_time'), ('object_at', 'closed_time'), ('object_at', 'changed_file'), ('object_at', 'additions'), ('object_at', 'deletions'), ('object_at', 'dev'), ('bloater_af', 'open_time'), ('bloater_af', 'closed_time'), ('bloater_af', 'changed_file'), ('bloater_af', 'additions'), ('bloater_af', 'deletions'), ('bloater_af', 'dev'), ('open_time', 'closed_time'), ('open_time', 'changed_file'), ('open_time', 'additions'), ('open_time', 'deletions'), ('open_time', 'dev'), ('closed_time', 'changed_file'), ('closed_time', 'additions'), ('closed_time', 'deletions'), ('closed_time', 'dev'), ('changed_file', 'additions'), ('changed_file', 'deletions'), ('changed_file', 'dev'), ('additions', 'deletions'), ('additions', 'dev'), ('deletions', 'dev')]\n"
     ]
    }
   ],
   "source": [
    "l = list(itertools.combinations(X,2))\n",
    "print(l)"
   ]
  },
  {
   "cell_type": "code",
   "execution_count": null,
   "metadata": {},
   "outputs": [
    {
     "name": "stdout",
     "output_type": "stream",
     "text": [
      "['commit_befor commit_after', 'commit_befor cal_smell', 'commit_befor dispen_bf', 'commit_befor object_bf', 'commit_befor bloater_bf', 'commit_befor dispen_at', 'commit_befor object_at', 'commit_befor bloater_af', 'commit_befor open_time', 'commit_befor closed_time', 'commit_befor changed_file', 'commit_befor additions', 'commit_befor deletions', 'commit_befor dev', 'commit_aftercal_smell', 'commit_afterdispen_bf', 'commit_afterobject_bf', 'commit_afterbloater_bf', 'commit_afterdispen_at', 'commit_afterobject_at', 'commit_afterbloater_af', 'commit_afteropen_time', 'commit_afterclosed_time', 'commit_afterchanged_file', 'commit_afteradditions', 'commit_afterdeletions', 'commit_afterdev', 'cal_smelldispen_bf', 'cal_smellobject_bf', 'cal_smellbloater_bf', 'cal_smelldispen_at', 'cal_smellobject_at', 'cal_smellbloater_af', 'cal_smellopen_time', 'cal_smellclosed_time', 'cal_smellchanged_file', 'cal_smelladditions', 'cal_smelldeletions', 'cal_smelldev', 'dispen_bfobject_bf', 'dispen_bfbloater_bf', 'dispen_bfdispen_at', 'dispen_bfobject_at', 'dispen_bfbloater_af', 'dispen_bfopen_time', 'dispen_bfclosed_time', 'dispen_bfchanged_file', 'dispen_bfadditions', 'dispen_bfdeletions', 'dispen_bfdev', 'object_bfbloater_bf', 'object_bfdispen_at', 'object_bfobject_at', 'object_bfbloater_af', 'object_bfopen_time', 'object_bfclosed_time', 'object_bfchanged_file', 'object_bfadditions', 'object_bfdeletions', 'object_bfdev', 'bloater_bfdispen_at', 'bloater_bfobject_at', 'bloater_bfbloater_af', 'bloater_bfopen_time', 'bloater_bfclosed_time', 'bloater_bfchanged_file', 'bloater_bfadditions', 'bloater_bfdeletions', 'bloater_bfdev', 'dispen_atobject_at', 'dispen_atbloater_af', 'dispen_atopen_time', 'dispen_atclosed_time', 'dispen_atchanged_file', 'dispen_atadditions', 'dispen_atdeletions', 'dispen_atdev', 'object_atbloater_af', 'object_atopen_time', 'object_atclosed_time', 'object_atchanged_file', 'object_atadditions', 'object_atdeletions', 'object_atdev', 'bloater_afopen_time', 'bloater_afclosed_time', 'bloater_afchanged_file', 'bloater_afadditions', 'bloater_afdeletions', 'bloater_afdev', 'open_timeclosed_time', 'open_timechanged_file', 'open_timeadditions', 'open_timedeletions', 'open_timedev', 'closed_timechanged_file', 'closed_timeadditions', 'closed_timedeletions', 'closed_timedev', 'changed_fileadditions', 'changed_filedeletions', 'changed_filedev', 'additionsdeletions', 'additionsdev', 'deletionsdev']\n"
     ]
    }
   ],
   "source": [
    "print([''.join(i) for i in itertools.combinations(pd.DataFrame(X), 2)])"
   ]
  }
 ],
 "metadata": {
  "colab": {
   "name": "Copy of Untitled0.ipynb",
   "provenance": []
  },
  "interpreter": {
   "hash": "ad7eca264feaa10a42b7f6be2a1e8f577a569f64740e80c71f143d2c89abf5fc"
  },
  "kernelspec": {
   "display_name": "Python 3.8.8 64-bit ('base': conda)",
   "name": "python3"
  },
  "language_info": {
   "codemirror_mode": {
    "name": "ipython",
    "version": 3
   },
   "file_extension": ".py",
   "mimetype": "text/x-python",
   "name": "python",
   "nbconvert_exporter": "python",
   "pygments_lexer": "ipython3",
   "version": "3.8.8"
  }
 },
 "nbformat": 4,
 "nbformat_minor": 1
}
