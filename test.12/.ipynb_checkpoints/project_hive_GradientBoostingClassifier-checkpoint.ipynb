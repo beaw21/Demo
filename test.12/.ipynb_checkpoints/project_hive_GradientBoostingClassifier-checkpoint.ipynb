{
 "cells": [
  {
   "cell_type": "code",
   "execution_count": 106,
   "metadata": {},
   "outputs": [],
   "source": [
    "from sklearn.datasets import load_wine\n",
    "from datetime import timedelta\n",
    "import pandas as pd\n",
    "import numpy as np"
   ]
  },
  {
   "cell_type": "code",
   "execution_count": 107,
   "metadata": {},
   "outputs": [],
   "source": [
    "read_data_file = pd.read_pickle('../hive.pkl')\n",
    "df = pd.DataFrame(read_data_file)"
   ]
  },
  {
   "cell_type": "code",
   "execution_count": 108,
   "metadata": {},
   "outputs": [
    {
     "data": {
      "text/plain": [
       "Timedelta('15 days 00:43:00')"
      ]
     },
     "execution_count": 108,
     "metadata": {},
     "output_type": "execute_result"
    }
   ],
   "source": [
    "df['cal_time'][0:20].median()"
   ]
  },
  {
   "cell_type": "code",
   "execution_count": 109,
   "metadata": {},
   "outputs": [],
   "source": [
    "df['cal_time_binaly'] = df['cal_time'].apply(lambda x:  0 if x < timedelta (days = 15) else 1)"
   ]
  },
  {
   "cell_type": "code",
   "execution_count": 110,
   "metadata": {},
   "outputs": [],
   "source": [
    "X = df[['commit_befor ', 'commit_after', 'cal_smell', 'dispen_bf', 'object_bf',\n",
    "       'bloater_bf', 'dispen_at', 'object_at', 'bloater_af', 'open_time',\n",
    "       'closed_time','changed_file', 'additions', 'deletions',\n",
    "       'dev']]\n",
    "y = df['cal_time_binaly']"
   ]
  },
  {
   "cell_type": "code",
   "execution_count": 111,
   "metadata": {},
   "outputs": [],
   "source": [
    "from sklearn.ensemble import GradientBoostingClassifier\n",
    "X_train, X_test = X[:20], X[20:]\n",
    "y_train, y_test = y[:20], y[20:]\n",
    "clf = GradientBoostingClassifier(n_estimators=1, learning_rate=1.0 , max_depth=1 , random_state=2).fit(X_train , y_train)"
   ]
  },
  {
   "cell_type": "code",
   "execution_count": 112,
   "metadata": {},
   "outputs": [
    {
     "data": {
      "text/plain": [
       "array([0.83333333, 0.5       , 0.5       , 0.5       , 0.66666667])"
      ]
     },
     "execution_count": 112,
     "metadata": {},
     "output_type": "execute_result"
    }
   ],
   "source": [
    "from sklearn.model_selection import cross_val_score\n",
    "cross_val_score(clf , X , y , cv=5 , scoring= \"accuracy\")"
   ]
  },
  {
   "cell_type": "code",
   "execution_count": 113,
   "metadata": {},
   "outputs": [
    {
     "data": {
      "text/plain": [
       "array([1, 0, 1, 0, 0, 1, 1, 1, 1, 0, 1, 1, 1, 1, 1, 1, 1, 1, 1, 1, 1, 1,\n",
       "       1, 1, 1, 1, 0, 1, 1, 1], dtype=int64)"
      ]
     },
     "execution_count": 113,
     "metadata": {},
     "output_type": "execute_result"
    }
   ],
   "source": [
    "from sklearn.metrics import confusion_matrix\n",
    "from sklearn.model_selection import cross_val_predict\n",
    "y_pred = cross_val_predict(clf,X,y,cv=5)\n",
    "y_pred"
   ]
  },
  {
   "cell_type": "code",
   "execution_count": 114,
   "metadata": {},
   "outputs": [
    {
     "data": {
      "text/plain": [
       "array([[ 3, 10],\n",
       "       [ 2, 15]], dtype=int64)"
      ]
     },
     "execution_count": 114,
     "metadata": {},
     "output_type": "execute_result"
    }
   ],
   "source": [
    "from sklearn.metrics import confusion_matrix\n",
    "confusion_matrix(y , y_pred)"
   ]
  },
  {
   "cell_type": "code",
   "execution_count": 115,
   "metadata": {},
   "outputs": [
    {
     "name": "stdout",
     "output_type": "stream",
     "text": [
      "precision =  0.6\n",
      "recall_score =  0.5565610859728507\n",
      "f1_score 0.5238095238095238\n"
     ]
    }
   ],
   "source": [
    "from sklearn.metrics import precision_score, recall_score, f1_score\n",
    "print('precision = ', precision_score(y,y_pred ,average='macro'))\n",
    "print('recall_score = ', recall_score(y,y_pred ,average='macro'))\n",
    "print('f1_score',f1_score(y,y_pred ,average='macro'))\n"
   ]
  },
  {
   "cell_type": "code",
   "execution_count": 116,
   "metadata": {},
   "outputs": [
    {
     "data": {
      "text/plain": [
       "GridSearchCV(cv=3, estimator=GradientBoostingClassifier(),\n",
       "             param_grid={'learning_rate': [1.0, 2.0], 'max_depth': [1, 2],\n",
       "                         'n_estimators': [1, 2, 3], 'random_state': [2, 3],\n",
       "                         'subsample': [0.7]},\n",
       "             scoring='f1_macro')"
      ]
     },
     "execution_count": 116,
     "metadata": {},
     "output_type": "execute_result"
    }
   ],
   "source": [
    "from sklearn.model_selection import GridSearchCV\n",
    "\n",
    "parameters = {\n",
    "  \n",
    "    'learning_rate': [1.0,2.0],\n",
    "    'n_estimators': [1,2,3],\n",
    "    'subsample' : [0.7],\n",
    "    'max_depth' : [1,2] ,\n",
    "    'random_state':[2,3]\n",
    "    #n_estimators=1, learning_rate=1.0 , max_depth=1 , random_state=2\n",
    "  \n",
    "}\n",
    "GradientBoosting = GradientBoostingClassifier()\n",
    "clf = GridSearchCV(GradientBoosting, parameters , cv=3 , scoring='f1_macro')\n",
    "clf.fit(X_train,y_train)"
   ]
  },
  {
   "cell_type": "code",
   "execution_count": 117,
   "metadata": {},
   "outputs": [
    {
     "name": "stderr",
     "output_type": "stream",
     "text": [
      "C:\\Users\\Beauz\\anaconda3\\lib\\site-packages\\sklearn\\model_selection\\_split.py:666: UserWarning: The least populated class in y has only 3 members, which is less than n_splits=5.\n",
      "  warnings.warn((\"The least populated class in y has only %d\"\n"
     ]
    }
   ],
   "source": [
    "y_pred = cross_val_predict(clf.best_estimator_,X_test,y_test)"
   ]
  },
  {
   "cell_type": "code",
   "execution_count": 118,
   "metadata": {},
   "outputs": [
    {
     "data": {
      "text/plain": [
       "GradientBoostingClassifier(learning_rate=1.0, max_depth=2, n_estimators=2,\n",
       "                           random_state=3, subsample=0.7)"
      ]
     },
     "execution_count": 118,
     "metadata": {},
     "output_type": "execute_result"
    }
   ],
   "source": [
    "clf.best_estimator_"
   ]
  },
  {
   "cell_type": "code",
   "execution_count": 119,
   "metadata": {},
   "outputs": [],
   "source": [
    "y_pred_clf = clf.best_estimator_.predict(X_test)"
   ]
  },
  {
   "cell_type": "code",
   "execution_count": 120,
   "metadata": {},
   "outputs": [
    {
     "name": "stdout",
     "output_type": "stream",
     "text": [
      "precision =  0.625\n",
      "recall_score =  0.7142857142857143\n",
      "f1_score 0.6666666666666666\n"
     ]
    }
   ],
   "source": [
    "from sklearn.metrics import precision_score, recall_score, f1_score\n",
    "print('precision = ', precision_score(y_test,y_pred_clf ))\n",
    "print('recall_score = ', recall_score(y_test,y_pred_clf ))\n",
    "print('f1_score',f1_score(y_test,y_pred_clf ))"
   ]
  },
  {
   "cell_type": "code",
   "execution_count": 121,
   "metadata": {},
   "outputs": [],
   "source": [
    "import itertools\n",
    "from itertools import product "
   ]
  },
  {
   "cell_type": "code",
   "execution_count": null,
   "metadata": {},
   "outputs": [
    {
     "name": "stdout",
     "output_type": "stream",
     "text": [
      "('commit_befor ', 'commit_after')\n",
      "precision_score = 0.5882352941176471\n",
      "('commit_befor ', 'cal_smell')\n",
      "precision_score = 0.5882352941176471\n",
      "('commit_befor ', 'dispen_bf')\n",
      "precision_score = 0.7058823529411765\n",
      "('commit_befor ', 'object_bf')\n",
      "precision_score = 0.4117647058823529\n",
      "('commit_befor ', 'bloater_bf')\n",
      "precision_score = 0.8235294117647058\n",
      "('commit_befor ', 'dispen_at')\n",
      "precision_score = 0.47058823529411764\n",
      "('commit_befor ', 'object_at')\n",
      "precision_score = 0.5294117647058824\n",
      "('commit_befor ', 'bloater_af')\n",
      "precision_score = 0.6470588235294118\n",
      "('commit_befor ', 'open_time')\n",
      "precision_score = 0.7647058823529411\n",
      "('commit_befor ', 'closed_time')\n",
      "precision_score = 0.6470588235294118\n",
      "('commit_befor ', 'changed_file')\n",
      "precision_score = 0.7058823529411765\n",
      "('commit_befor ', 'additions')\n",
      "precision_score = 0.7647058823529411\n",
      "('commit_befor ', 'deletions')\n",
      "precision_score = 0.8235294117647058\n",
      "('commit_befor ', 'dev')\n",
      "precision_score = 0.47058823529411764\n",
      "('commit_after', 'cal_smell')\n",
      "precision_score = 0.8823529411764706\n",
      "('commit_after', 'dispen_bf')\n",
      "precision_score = 0.7647058823529411\n",
      "('commit_after', 'object_bf')\n",
      "precision_score = 0.47058823529411764\n",
      "('commit_after', 'bloater_bf')\n",
      "precision_score = 0.8235294117647058\n",
      "('commit_after', 'dispen_at')\n",
      "precision_score = 1.0\n",
      "('commit_after', 'object_at')\n",
      "precision_score = 0.47058823529411764\n",
      "('commit_after', 'bloater_af')\n",
      "precision_score = 0.8823529411764706\n",
      "('commit_after', 'open_time')\n",
      "precision_score = 0.7647058823529411\n",
      "('commit_after', 'closed_time')\n",
      "precision_score = 0.6470588235294118\n",
      "('commit_after', 'changed_file')\n",
      "precision_score = 0.7647058823529411\n",
      "('commit_after', 'additions')\n",
      "precision_score = 0.8823529411764706\n",
      "('commit_after', 'deletions')\n",
      "precision_score = 0.8235294117647058\n",
      "('commit_after', 'dev')\n",
      "precision_score = 0.5294117647058824\n",
      "('cal_smell', 'dispen_bf')\n",
      "precision_score = 0.8235294117647058\n",
      "('cal_smell', 'object_bf')\n",
      "precision_score = 0.7647058823529411\n",
      "('cal_smell', 'bloater_bf')\n",
      "precision_score = 0.8823529411764706\n",
      "('cal_smell', 'dispen_at')\n",
      "precision_score = 0.6470588235294118\n",
      "('cal_smell', 'object_at')\n",
      "precision_score = 0.7647058823529411\n",
      "('cal_smell', 'bloater_af')\n",
      "precision_score = 0.8823529411764706\n",
      "('cal_smell', 'open_time')\n",
      "precision_score = 0.9411764705882353\n",
      "('cal_smell', 'closed_time')\n",
      "precision_score = 0.7647058823529411\n",
      "('cal_smell', 'changed_file')\n",
      "precision_score = 0.8235294117647058\n",
      "('cal_smell', 'additions')\n",
      "precision_score = 0.7647058823529411\n",
      "('cal_smell', 'deletions')\n",
      "precision_score = 0.8235294117647058\n",
      "('cal_smell', 'dev')\n",
      "precision_score = 0.6470588235294118\n",
      "('dispen_bf', 'object_bf')\n",
      "precision_score = 0.47058823529411764\n",
      "('dispen_bf', 'bloater_bf')\n",
      "precision_score = 0.9411764705882353\n",
      "('dispen_bf', 'dispen_at')\n",
      "precision_score = 1.0\n",
      "('dispen_bf', 'object_at')\n",
      "precision_score = 1.0\n",
      "('dispen_bf', 'bloater_af')\n",
      "precision_score = 0.8235294117647058\n",
      "('dispen_bf', 'open_time')\n",
      "precision_score = 0.8235294117647058\n",
      "('dispen_bf', 'closed_time')\n",
      "precision_score = 0.7647058823529411\n",
      "('dispen_bf', 'changed_file')\n",
      "precision_score = 0.8823529411764706\n",
      "('dispen_bf', 'additions')\n",
      "precision_score = 0.9411764705882353\n",
      "('dispen_bf', 'deletions')\n",
      "precision_score = 0.7647058823529411\n",
      "('dispen_bf', 'dev')\n",
      "precision_score = 1.0\n",
      "('object_bf', 'bloater_bf')\n",
      "precision_score = 0.4117647058823529\n",
      "('object_bf', 'dispen_at')\n",
      "precision_score = 0.35294117647058826\n",
      "('object_bf', 'object_at')\n",
      "precision_score = 0.5882352941176471\n",
      "('object_bf', 'bloater_af')\n",
      "precision_score = 0.7647058823529411\n",
      "('object_bf', 'open_time')\n",
      "precision_score = 0.9411764705882353\n",
      "('object_bf', 'closed_time')\n",
      "precision_score = 0.7647058823529411\n",
      "('object_bf', 'changed_file')\n",
      "precision_score = 0.8235294117647058\n",
      "('object_bf', 'additions')\n",
      "precision_score = 0.6470588235294118\n",
      "('object_bf', 'deletions')\n",
      "precision_score = 0.8235294117647058\n",
      "('object_bf', 'dev')\n",
      "precision_score = 0.11764705882352941\n",
      "('bloater_bf', 'dispen_at')\n",
      "precision_score = 0.4117647058823529\n",
      "('bloater_bf', 'object_at')\n",
      "precision_score = 0.8235294117647058\n",
      "('bloater_bf', 'bloater_af')\n",
      "precision_score = 0.8235294117647058\n",
      "('bloater_bf', 'open_time')\n",
      "precision_score = 0.6470588235294118\n",
      "('bloater_bf', 'closed_time')\n",
      "precision_score = 0.5882352941176471\n",
      "('bloater_bf', 'changed_file')\n",
      "precision_score = 0.8235294117647058\n",
      "('bloater_bf', 'additions')\n",
      "precision_score = 0.8235294117647058\n",
      "('bloater_bf', 'deletions')\n",
      "precision_score = 0.8823529411764706\n",
      "('bloater_bf', 'dev')\n",
      "precision_score = 0.47058823529411764\n",
      "('dispen_at', 'object_at')\n",
      "precision_score = 0.17647058823529413\n",
      "('dispen_at', 'bloater_af')\n",
      "precision_score = 0.7647058823529411\n",
      "('dispen_at', 'open_time')\n",
      "precision_score = 0.5294117647058824\n",
      "('dispen_at', 'closed_time')\n",
      "precision_score = 0.7058823529411765\n",
      "('dispen_at', 'changed_file')\n",
      "precision_score = 0.8235294117647058\n",
      "('dispen_at', 'additions')\n",
      "precision_score = 0.9411764705882353\n"
     ]
    }
   ],
   "source": [
    "result = itertools.combinations(X ,2)\n",
    "\n",
    "for item in result:\n",
    "    df  = pd.DataFrame(item)\n",
    "    X[list (item)]\n",
    "    parameters = {\n",
    "    'learning_rate': [0.01 , 0.1 ,1],\n",
    "    'n_estimators': [12,14,16],\n",
    "    'subsample' : [0.7],\n",
    "    'max_depth' : [2] ,\n",
    "    'random_state':[2]\n",
    "    }\n",
    "    GradientBoosting = GradientBoostingClassifier()\n",
    "    clf = GridSearchCV(GradientBoosting , parameters , cv=3 , scoring='f1_macro')\n",
    "    clf.fit(X_train[list (item)],y_train)\n",
    "    clf.predict(X_test[list (item)])\n",
    "    #print('predict=',clf.predict(X_test[list (item)]))\n",
    "    #print(X_test)\n",
    "    #print(\"y_train = \",y_train)\n",
    "    print(item)\n",
    "    print(\"precision_score =\",precision_score(clf.predict(X[list(item)]),y))\n",
    "    #print(\"recall_score =\", recall_score(clf.predict(X[list(item)]),y))\n",
    "    #print(\"f_1=\",f1_score(clf.predict(X[list(item)]),y,average='macro'))\n",
    "    #print(\"f_1_X-test=\",f1_score(clf.predict(X_test[list(item)]),y_test,average='macro'))"
   ]
  },
  {
   "cell_type": "code",
   "execution_count": null,
   "metadata": {},
   "outputs": [],
   "source": []
  },
  {
   "cell_type": "code",
   "execution_count": null,
   "metadata": {},
   "outputs": [],
   "source": []
  }
 ],
 "metadata": {
  "colab": {
   "name": "Copy of Untitled0.ipynb",
   "provenance": []
  },
  "interpreter": {
   "hash": "ad7eca264feaa10a42b7f6be2a1e8f577a569f64740e80c71f143d2c89abf5fc"
  },
  "kernelspec": {
   "display_name": "Python 3",
   "language": "python",
   "name": "python3"
  },
  "language_info": {
   "codemirror_mode": {
    "name": "ipython",
    "version": 3
   },
   "file_extension": ".py",
   "mimetype": "text/x-python",
   "name": "python",
   "nbconvert_exporter": "python",
   "pygments_lexer": "ipython3",
   "version": "3.8.8"
  }
 },
 "nbformat": 4,
 "nbformat_minor": 4
}
