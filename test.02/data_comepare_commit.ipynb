{
 "metadata": {
  "language_info": {
   "codemirror_mode": {
    "name": "ipython",
    "version": 3
   },
   "file_extension": ".py",
   "mimetype": "text/x-python",
   "name": "python",
   "nbconvert_exporter": "python",
   "pygments_lexer": "ipython3",
   "version": "3.8.8"
  },
  "orig_nbformat": 4,
  "kernelspec": {
   "name": "python3",
   "display_name": "Python 3.8.8 64-bit ('base': conda)"
  },
  "interpreter": {
   "hash": "c5e48f84046969b800ff52f6d80523bcd1ca3fb1a99f1449e4197bf6c73dc096"
  }
 },
 "nbformat": 4,
 "nbformat_minor": 2,
 "cells": [
  {
   "source": [
    "import json\n",
    "import pandas as pd"
   ],
   "cell_type": "code",
   "metadata": {},
   "execution_count": 7,
   "outputs": []
  },
  {
   "source": [
    "json_data_dev = pd.read_json('dev.json')"
   ],
   "cell_type": "code",
   "metadata": {},
   "execution_count": 8,
   "outputs": []
  },
  {
   "source": [
    "dfram_dev = pd.DataFrame(json_data_dev)"
   ],
   "cell_type": "code",
   "metadata": {},
   "execution_count": 32,
   "outputs": []
  },
  {
   "source": [
    "dfram_dev"
   ],
   "cell_type": "markdown",
   "metadata": {}
  },
  {
   "source": [
    "mean_rule = dfram_dev['rule'].sum()\n"
   ],
   "cell_type": "code",
   "metadata": {},
   "execution_count": 29,
   "outputs": []
  },
  {
   "source": [
    "mean_rule"
   ],
   "cell_type": "code",
   "metadata": {},
   "execution_count": 30,
   "outputs": [
    {
     "output_type": "execute_result",
     "data": {
      "text/plain": [
       "'java:S119java:S119java:S119java:S119java:S119java:S1452java:S1452java:S1301java:S119java:S107java:S119java:S1155java:S119java:S119java:S119java:S119java:S119java:S119java:S119java:S1874java:S1874java:S1874java:S1301java:S1135java:S107java:S107java:S3776java:S1181java:S1611java:S1135java:S1181java:S3776java:S1155java:S1192java:S1181java:S119java:S119java:S119java:S119java:S119java:S119'"
      ]
     },
     "metadata": {},
     "execution_count": 30
    }
   ]
  },
  {
   "source": [
    "data_dev = dfram_dev[{'rule','hash','author','creationDate','updateDate'}]"
   ],
   "cell_type": "code",
   "metadata": {},
   "execution_count": 34,
   "outputs": []
  },
  {
   "source": [
    "data_dev"
   ],
   "cell_type": "code",
   "metadata": {},
   "execution_count": 35,
   "outputs": [
    {
     "output_type": "execute_result",
     "data": {
      "text/plain": [
       "                creationDate                              hash  \\\n",
       "0   2020-11-05T16:59:56+0700  4394ada880a1ba95fcb3b3d006e5f1c5   \n",
       "1   2020-11-05T16:59:56+0700  fb241de823c5ee63e8061590172cbc62   \n",
       "2   2020-11-05T16:59:56+0700  87e722c47640854362dcdb9ee6332b76   \n",
       "3   2020-11-05T16:59:56+0700  5c91cbb2556d280c192ada715b09b342   \n",
       "4   2020-11-05T16:59:56+0700  9de6ede45d54c542ec8ec968588e29d6   \n",
       "5   2020-11-05T16:59:56+0700  49b94d33294615a4998706a0b154e53c   \n",
       "6   2020-11-05T16:59:56+0700  49b94d33294615a4998706a0b154e53c   \n",
       "7   2020-11-05T16:59:56+0700  ba60d4afbae6c1dafbfce85b1837e84c   \n",
       "8   2020-11-05T16:59:56+0700  7e5822fe337d20ec65b8bf258295b0ba   \n",
       "9   2020-11-05T16:59:56+0700  18d6979d36763862ffb7ca4c71beb743   \n",
       "10  2020-11-05T16:59:56+0700  ddaeac0e33efddeb1e799950af054443   \n",
       "11  2020-11-05T16:59:56+0700  58dfb53b3f5eb112296fc1060cddec06   \n",
       "12  2020-11-05T16:59:56+0700  16c704fc2ea4fb773945bc5664fd59fb   \n",
       "13  2020-11-05T16:59:56+0700  e94737f367e62c3e4006a5a22a52d1fb   \n",
       "14  2020-11-05T16:59:56+0700  1201fc8aab1abdca43f55b312b4b3384   \n",
       "15  2020-05-19T11:10:05+0700  fdc21d02538be0797fec0df0acd54a6b   \n",
       "16  2020-05-19T11:10:05+0700  fdc21d02538be0797fec0df0acd54a6b   \n",
       "17  2020-05-19T11:10:05+0700  41c802a4da1016a1f6e2f9ab40d2dde5   \n",
       "18  2020-05-19T11:10:05+0700  41c802a4da1016a1f6e2f9ab40d2dde5   \n",
       "19  2019-07-11T13:59:06+0700  fc4fb4f19681f47d9da365b2478e0979   \n",
       "20  2020-11-08T17:46:04+0700  221d16779475e604f7dd32c75fa90998   \n",
       "21  2020-11-08T17:46:04+0700  3b0d70726a257fdcd60264ef83978c58   \n",
       "22  2020-05-19T11:10:05+0700  ba60d4afbae6c1dafbfce85b1837e84c   \n",
       "23  2020-05-19T11:10:05+0700  8d398088427da286f3eda5586608a190   \n",
       "24  2020-05-19T11:10:05+0700  bb61ce66383ed8c8feeb01767d3999f9   \n",
       "25  2021-02-06T09:51:30+0700  1de0c0a36cf5b8dddccce17d7b9086a3   \n",
       "26  2021-02-26T13:18:02+0700  f0035306684266375e35a3a56d2dfeaf   \n",
       "27  2021-02-26T13:18:02+0700  0325224bb45891ffbfad721ffec46148   \n",
       "28  2021-02-26T13:18:02+0700  0f319a2e92e2547480b9fdd8098f18c7   \n",
       "29  2021-02-26T13:18:02+0700  9de9a68a72be33f3c0e8ca8ad8e42daf   \n",
       "30  2021-02-26T13:18:02+0700  6bca2f9fce5bdb70c5c39bef9aa4eaa8   \n",
       "31  2021-02-26T13:18:02+0700  ac41687d6e57319e120b96486b6973b5   \n",
       "32  2021-02-06T09:51:30+0700  de20ad582de29e18ad4383cfd2d76436   \n",
       "33  2020-02-04T10:53:59+0700  dc907b8bbdfd686889235a9da95c2b80   \n",
       "34  2019-07-11T13:59:06+0700  9d94a2e493b16898aa835667125a5484   \n",
       "35  2020-11-25T09:10:53+0700  ac2aac87fd9e66aad3c7caad3d5c98e7   \n",
       "36  2020-11-25T09:10:53+0700  ac2aac87fd9e66aad3c7caad3d5c98e7   \n",
       "37  2020-05-27T15:27:05+0700  8c7b2365fdb85862b408f793a7f8d3e2   \n",
       "38  2020-05-27T15:27:05+0700  8c7b2365fdb85862b408f793a7f8d3e2   \n",
       "39  2020-11-25T09:10:53+0700  69d55a4365cf305a9aeef24eaf4424b3   \n",
       "40  2020-11-25T09:10:53+0700  69d55a4365cf305a9aeef24eaf4424b3   \n",
       "\n",
       "                  updateDate        rule                  author  \n",
       "0   2021-04-08T11:39:19+0700   java:S119  gaoyunhenhao@gmail.com  \n",
       "1   2021-04-08T11:39:19+0700   java:S119  gaoyunhenhao@gmail.com  \n",
       "2   2021-04-08T11:39:19+0700   java:S119  gaoyunhenhao@gmail.com  \n",
       "3   2021-04-08T11:39:19+0700   java:S119  gaoyunhenhao@gmail.com  \n",
       "4   2021-04-08T11:39:19+0700   java:S119  gaoyunhenhao@gmail.com  \n",
       "5   2021-04-08T11:39:19+0700  java:S1452  gaoyunhenhao@gmail.com  \n",
       "6   2021-04-08T11:39:19+0700  java:S1452  gaoyunhenhao@gmail.com  \n",
       "7   2021-04-08T11:39:19+0700  java:S1301  gaoyunhenhao@gmail.com  \n",
       "8   2021-04-08T11:39:19+0700   java:S119  gaoyunhenhao@gmail.com  \n",
       "9   2021-04-08T11:39:19+0700   java:S107  gaoyunhenhao@gmail.com  \n",
       "10  2021-04-08T11:39:19+0700   java:S119  gaoyunhenhao@gmail.com  \n",
       "11  2021-04-08T11:39:19+0700  java:S1155  gaoyunhenhao@gmail.com  \n",
       "12  2021-04-08T11:39:19+0700   java:S119  gaoyunhenhao@gmail.com  \n",
       "13  2021-04-08T11:39:19+0700   java:S119  gaoyunhenhao@gmail.com  \n",
       "14  2021-04-08T11:39:19+0700   java:S119  gaoyunhenhao@gmail.com  \n",
       "15  2021-04-08T11:39:19+0700   java:S119  gaoyunhenhao@gmail.com  \n",
       "16  2021-04-08T11:39:19+0700   java:S119  gaoyunhenhao@gmail.com  \n",
       "17  2021-04-08T11:39:19+0700   java:S119  gaoyunhenhao@gmail.com  \n",
       "18  2021-04-08T11:39:19+0700   java:S119  gaoyunhenhao@gmail.com  \n",
       "19  2021-04-08T11:39:19+0700  java:S1874  gaoyunhenhao@gmail.com  \n",
       "20  2021-04-08T11:39:19+0700  java:S1874  gaoyunhenhao@gmail.com  \n",
       "21  2021-04-08T11:39:19+0700  java:S1874  gaoyunhenhao@gmail.com  \n",
       "22  2021-04-08T11:39:19+0700  java:S1301  gaoyunhenhao@gmail.com  \n",
       "23  2021-04-08T11:39:19+0700  java:S1135  gaoyunhenhao@gmail.com  \n",
       "24  2021-04-08T11:39:19+0700   java:S107  gaoyunhenhao@gmail.com  \n",
       "25  2021-04-08T11:39:19+0700   java:S107  gaoyunhenhao@gmail.com  \n",
       "26  2021-04-08T11:39:19+0700  java:S3776  gaoyunhenhao@gmail.com  \n",
       "27  2021-04-08T11:39:19+0700  java:S1181  gaoyunhenhao@gmail.com  \n",
       "28  2021-04-08T11:39:19+0700  java:S1611  gaoyunhenhao@gmail.com  \n",
       "29  2021-04-08T11:39:19+0700  java:S1135  gaoyunhenhao@gmail.com  \n",
       "30  2021-04-08T11:39:19+0700  java:S1181  gaoyunhenhao@gmail.com  \n",
       "31  2021-04-08T11:39:19+0700  java:S3776  gaoyunhenhao@gmail.com  \n",
       "32  2021-04-08T11:39:19+0700  java:S1155  gaoyunhenhao@gmail.com  \n",
       "33  2021-04-08T11:39:19+0700  java:S1192  gaoyunhenhao@gmail.com  \n",
       "34  2021-04-08T11:39:19+0700  java:S1181  gaoyunhenhao@gmail.com  \n",
       "35  2021-04-08T11:39:19+0700   java:S119  gaoyunhenhao@gmail.com  \n",
       "36  2021-04-08T11:39:19+0700   java:S119  gaoyunhenhao@gmail.com  \n",
       "37  2021-04-08T11:39:19+0700   java:S119  gaoyunhenhao@gmail.com  \n",
       "38  2021-04-08T11:39:19+0700   java:S119  gaoyunhenhao@gmail.com  \n",
       "39  2021-04-08T11:39:19+0700   java:S119  gaoyunhenhao@gmail.com  \n",
       "40  2021-04-08T11:39:19+0700   java:S119  gaoyunhenhao@gmail.com  "
      ],
      "text/html": "<div>\n<style scoped>\n    .dataframe tbody tr th:only-of-type {\n        vertical-align: middle;\n    }\n\n    .dataframe tbody tr th {\n        vertical-align: top;\n    }\n\n    .dataframe thead th {\n        text-align: right;\n    }\n</style>\n<table border=\"1\" class=\"dataframe\">\n  <thead>\n    <tr style=\"text-align: right;\">\n      <th></th>\n      <th>creationDate</th>\n      <th>hash</th>\n      <th>updateDate</th>\n      <th>rule</th>\n      <th>author</th>\n    </tr>\n  </thead>\n  <tbody>\n    <tr>\n      <th>0</th>\n      <td>2020-11-05T16:59:56+0700</td>\n      <td>4394ada880a1ba95fcb3b3d006e5f1c5</td>\n      <td>2021-04-08T11:39:19+0700</td>\n      <td>java:S119</td>\n      <td>gaoyunhenhao@gmail.com</td>\n    </tr>\n    <tr>\n      <th>1</th>\n      <td>2020-11-05T16:59:56+0700</td>\n      <td>fb241de823c5ee63e8061590172cbc62</td>\n      <td>2021-04-08T11:39:19+0700</td>\n      <td>java:S119</td>\n      <td>gaoyunhenhao@gmail.com</td>\n    </tr>\n    <tr>\n      <th>2</th>\n      <td>2020-11-05T16:59:56+0700</td>\n      <td>87e722c47640854362dcdb9ee6332b76</td>\n      <td>2021-04-08T11:39:19+0700</td>\n      <td>java:S119</td>\n      <td>gaoyunhenhao@gmail.com</td>\n    </tr>\n    <tr>\n      <th>3</th>\n      <td>2020-11-05T16:59:56+0700</td>\n      <td>5c91cbb2556d280c192ada715b09b342</td>\n      <td>2021-04-08T11:39:19+0700</td>\n      <td>java:S119</td>\n      <td>gaoyunhenhao@gmail.com</td>\n    </tr>\n    <tr>\n      <th>4</th>\n      <td>2020-11-05T16:59:56+0700</td>\n      <td>9de6ede45d54c542ec8ec968588e29d6</td>\n      <td>2021-04-08T11:39:19+0700</td>\n      <td>java:S119</td>\n      <td>gaoyunhenhao@gmail.com</td>\n    </tr>\n    <tr>\n      <th>5</th>\n      <td>2020-11-05T16:59:56+0700</td>\n      <td>49b94d33294615a4998706a0b154e53c</td>\n      <td>2021-04-08T11:39:19+0700</td>\n      <td>java:S1452</td>\n      <td>gaoyunhenhao@gmail.com</td>\n    </tr>\n    <tr>\n      <th>6</th>\n      <td>2020-11-05T16:59:56+0700</td>\n      <td>49b94d33294615a4998706a0b154e53c</td>\n      <td>2021-04-08T11:39:19+0700</td>\n      <td>java:S1452</td>\n      <td>gaoyunhenhao@gmail.com</td>\n    </tr>\n    <tr>\n      <th>7</th>\n      <td>2020-11-05T16:59:56+0700</td>\n      <td>ba60d4afbae6c1dafbfce85b1837e84c</td>\n      <td>2021-04-08T11:39:19+0700</td>\n      <td>java:S1301</td>\n      <td>gaoyunhenhao@gmail.com</td>\n    </tr>\n    <tr>\n      <th>8</th>\n      <td>2020-11-05T16:59:56+0700</td>\n      <td>7e5822fe337d20ec65b8bf258295b0ba</td>\n      <td>2021-04-08T11:39:19+0700</td>\n      <td>java:S119</td>\n      <td>gaoyunhenhao@gmail.com</td>\n    </tr>\n    <tr>\n      <th>9</th>\n      <td>2020-11-05T16:59:56+0700</td>\n      <td>18d6979d36763862ffb7ca4c71beb743</td>\n      <td>2021-04-08T11:39:19+0700</td>\n      <td>java:S107</td>\n      <td>gaoyunhenhao@gmail.com</td>\n    </tr>\n    <tr>\n      <th>10</th>\n      <td>2020-11-05T16:59:56+0700</td>\n      <td>ddaeac0e33efddeb1e799950af054443</td>\n      <td>2021-04-08T11:39:19+0700</td>\n      <td>java:S119</td>\n      <td>gaoyunhenhao@gmail.com</td>\n    </tr>\n    <tr>\n      <th>11</th>\n      <td>2020-11-05T16:59:56+0700</td>\n      <td>58dfb53b3f5eb112296fc1060cddec06</td>\n      <td>2021-04-08T11:39:19+0700</td>\n      <td>java:S1155</td>\n      <td>gaoyunhenhao@gmail.com</td>\n    </tr>\n    <tr>\n      <th>12</th>\n      <td>2020-11-05T16:59:56+0700</td>\n      <td>16c704fc2ea4fb773945bc5664fd59fb</td>\n      <td>2021-04-08T11:39:19+0700</td>\n      <td>java:S119</td>\n      <td>gaoyunhenhao@gmail.com</td>\n    </tr>\n    <tr>\n      <th>13</th>\n      <td>2020-11-05T16:59:56+0700</td>\n      <td>e94737f367e62c3e4006a5a22a52d1fb</td>\n      <td>2021-04-08T11:39:19+0700</td>\n      <td>java:S119</td>\n      <td>gaoyunhenhao@gmail.com</td>\n    </tr>\n    <tr>\n      <th>14</th>\n      <td>2020-11-05T16:59:56+0700</td>\n      <td>1201fc8aab1abdca43f55b312b4b3384</td>\n      <td>2021-04-08T11:39:19+0700</td>\n      <td>java:S119</td>\n      <td>gaoyunhenhao@gmail.com</td>\n    </tr>\n    <tr>\n      <th>15</th>\n      <td>2020-05-19T11:10:05+0700</td>\n      <td>fdc21d02538be0797fec0df0acd54a6b</td>\n      <td>2021-04-08T11:39:19+0700</td>\n      <td>java:S119</td>\n      <td>gaoyunhenhao@gmail.com</td>\n    </tr>\n    <tr>\n      <th>16</th>\n      <td>2020-05-19T11:10:05+0700</td>\n      <td>fdc21d02538be0797fec0df0acd54a6b</td>\n      <td>2021-04-08T11:39:19+0700</td>\n      <td>java:S119</td>\n      <td>gaoyunhenhao@gmail.com</td>\n    </tr>\n    <tr>\n      <th>17</th>\n      <td>2020-05-19T11:10:05+0700</td>\n      <td>41c802a4da1016a1f6e2f9ab40d2dde5</td>\n      <td>2021-04-08T11:39:19+0700</td>\n      <td>java:S119</td>\n      <td>gaoyunhenhao@gmail.com</td>\n    </tr>\n    <tr>\n      <th>18</th>\n      <td>2020-05-19T11:10:05+0700</td>\n      <td>41c802a4da1016a1f6e2f9ab40d2dde5</td>\n      <td>2021-04-08T11:39:19+0700</td>\n      <td>java:S119</td>\n      <td>gaoyunhenhao@gmail.com</td>\n    </tr>\n    <tr>\n      <th>19</th>\n      <td>2019-07-11T13:59:06+0700</td>\n      <td>fc4fb4f19681f47d9da365b2478e0979</td>\n      <td>2021-04-08T11:39:19+0700</td>\n      <td>java:S1874</td>\n      <td>gaoyunhenhao@gmail.com</td>\n    </tr>\n    <tr>\n      <th>20</th>\n      <td>2020-11-08T17:46:04+0700</td>\n      <td>221d16779475e604f7dd32c75fa90998</td>\n      <td>2021-04-08T11:39:19+0700</td>\n      <td>java:S1874</td>\n      <td>gaoyunhenhao@gmail.com</td>\n    </tr>\n    <tr>\n      <th>21</th>\n      <td>2020-11-08T17:46:04+0700</td>\n      <td>3b0d70726a257fdcd60264ef83978c58</td>\n      <td>2021-04-08T11:39:19+0700</td>\n      <td>java:S1874</td>\n      <td>gaoyunhenhao@gmail.com</td>\n    </tr>\n    <tr>\n      <th>22</th>\n      <td>2020-05-19T11:10:05+0700</td>\n      <td>ba60d4afbae6c1dafbfce85b1837e84c</td>\n      <td>2021-04-08T11:39:19+0700</td>\n      <td>java:S1301</td>\n      <td>gaoyunhenhao@gmail.com</td>\n    </tr>\n    <tr>\n      <th>23</th>\n      <td>2020-05-19T11:10:05+0700</td>\n      <td>8d398088427da286f3eda5586608a190</td>\n      <td>2021-04-08T11:39:19+0700</td>\n      <td>java:S1135</td>\n      <td>gaoyunhenhao@gmail.com</td>\n    </tr>\n    <tr>\n      <th>24</th>\n      <td>2020-05-19T11:10:05+0700</td>\n      <td>bb61ce66383ed8c8feeb01767d3999f9</td>\n      <td>2021-04-08T11:39:19+0700</td>\n      <td>java:S107</td>\n      <td>gaoyunhenhao@gmail.com</td>\n    </tr>\n    <tr>\n      <th>25</th>\n      <td>2021-02-06T09:51:30+0700</td>\n      <td>1de0c0a36cf5b8dddccce17d7b9086a3</td>\n      <td>2021-04-08T11:39:19+0700</td>\n      <td>java:S107</td>\n      <td>gaoyunhenhao@gmail.com</td>\n    </tr>\n    <tr>\n      <th>26</th>\n      <td>2021-02-26T13:18:02+0700</td>\n      <td>f0035306684266375e35a3a56d2dfeaf</td>\n      <td>2021-04-08T11:39:19+0700</td>\n      <td>java:S3776</td>\n      <td>gaoyunhenhao@gmail.com</td>\n    </tr>\n    <tr>\n      <th>27</th>\n      <td>2021-02-26T13:18:02+0700</td>\n      <td>0325224bb45891ffbfad721ffec46148</td>\n      <td>2021-04-08T11:39:19+0700</td>\n      <td>java:S1181</td>\n      <td>gaoyunhenhao@gmail.com</td>\n    </tr>\n    <tr>\n      <th>28</th>\n      <td>2021-02-26T13:18:02+0700</td>\n      <td>0f319a2e92e2547480b9fdd8098f18c7</td>\n      <td>2021-04-08T11:39:19+0700</td>\n      <td>java:S1611</td>\n      <td>gaoyunhenhao@gmail.com</td>\n    </tr>\n    <tr>\n      <th>29</th>\n      <td>2021-02-26T13:18:02+0700</td>\n      <td>9de9a68a72be33f3c0e8ca8ad8e42daf</td>\n      <td>2021-04-08T11:39:19+0700</td>\n      <td>java:S1135</td>\n      <td>gaoyunhenhao@gmail.com</td>\n    </tr>\n    <tr>\n      <th>30</th>\n      <td>2021-02-26T13:18:02+0700</td>\n      <td>6bca2f9fce5bdb70c5c39bef9aa4eaa8</td>\n      <td>2021-04-08T11:39:19+0700</td>\n      <td>java:S1181</td>\n      <td>gaoyunhenhao@gmail.com</td>\n    </tr>\n    <tr>\n      <th>31</th>\n      <td>2021-02-26T13:18:02+0700</td>\n      <td>ac41687d6e57319e120b96486b6973b5</td>\n      <td>2021-04-08T11:39:19+0700</td>\n      <td>java:S3776</td>\n      <td>gaoyunhenhao@gmail.com</td>\n    </tr>\n    <tr>\n      <th>32</th>\n      <td>2021-02-06T09:51:30+0700</td>\n      <td>de20ad582de29e18ad4383cfd2d76436</td>\n      <td>2021-04-08T11:39:19+0700</td>\n      <td>java:S1155</td>\n      <td>gaoyunhenhao@gmail.com</td>\n    </tr>\n    <tr>\n      <th>33</th>\n      <td>2020-02-04T10:53:59+0700</td>\n      <td>dc907b8bbdfd686889235a9da95c2b80</td>\n      <td>2021-04-08T11:39:19+0700</td>\n      <td>java:S1192</td>\n      <td>gaoyunhenhao@gmail.com</td>\n    </tr>\n    <tr>\n      <th>34</th>\n      <td>2019-07-11T13:59:06+0700</td>\n      <td>9d94a2e493b16898aa835667125a5484</td>\n      <td>2021-04-08T11:39:19+0700</td>\n      <td>java:S1181</td>\n      <td>gaoyunhenhao@gmail.com</td>\n    </tr>\n    <tr>\n      <th>35</th>\n      <td>2020-11-25T09:10:53+0700</td>\n      <td>ac2aac87fd9e66aad3c7caad3d5c98e7</td>\n      <td>2021-04-08T11:39:19+0700</td>\n      <td>java:S119</td>\n      <td>gaoyunhenhao@gmail.com</td>\n    </tr>\n    <tr>\n      <th>36</th>\n      <td>2020-11-25T09:10:53+0700</td>\n      <td>ac2aac87fd9e66aad3c7caad3d5c98e7</td>\n      <td>2021-04-08T11:39:19+0700</td>\n      <td>java:S119</td>\n      <td>gaoyunhenhao@gmail.com</td>\n    </tr>\n    <tr>\n      <th>37</th>\n      <td>2020-05-27T15:27:05+0700</td>\n      <td>8c7b2365fdb85862b408f793a7f8d3e2</td>\n      <td>2021-04-08T11:39:19+0700</td>\n      <td>java:S119</td>\n      <td>gaoyunhenhao@gmail.com</td>\n    </tr>\n    <tr>\n      <th>38</th>\n      <td>2020-05-27T15:27:05+0700</td>\n      <td>8c7b2365fdb85862b408f793a7f8d3e2</td>\n      <td>2021-04-08T11:39:19+0700</td>\n      <td>java:S119</td>\n      <td>gaoyunhenhao@gmail.com</td>\n    </tr>\n    <tr>\n      <th>39</th>\n      <td>2020-11-25T09:10:53+0700</td>\n      <td>69d55a4365cf305a9aeef24eaf4424b3</td>\n      <td>2021-04-08T11:39:19+0700</td>\n      <td>java:S119</td>\n      <td>gaoyunhenhao@gmail.com</td>\n    </tr>\n    <tr>\n      <th>40</th>\n      <td>2020-11-25T09:10:53+0700</td>\n      <td>69d55a4365cf305a9aeef24eaf4424b3</td>\n      <td>2021-04-08T11:39:19+0700</td>\n      <td>java:S119</td>\n      <td>gaoyunhenhao@gmail.com</td>\n    </tr>\n  </tbody>\n</table>\n</div>"
     },
     "metadata": {},
     "execution_count": 35
    }
   ]
  },
  {
   "source": [
    "scorecode_line = pd.read_json('code_line.json')\n",
    "\n",
    "print(scorecode_line.head(1))"
   ],
   "cell_type": "code",
   "metadata": {},
   "execution_count": 36,
   "outputs": [
    {
     "output_type": "stream",
     "name": "stdout",
     "text": [
      "   line                        code                               scmRevision  \\\n0     1  <span class=\"cd\">/*</span>  1f5055c473c45348b794ff9c9ed8f0759d32a691   \n\n                scmAuthor                   scmDate  duplicated  isNew  \\\n0  gaoyunhenhao@gmail.com  2020-11-05T16:59:56+0700       False  False   \n\n   utLineHits  lineHits  \n0         NaN       NaN  \n"
     ]
    }
   ]
  },
  {
   "source": [
    "dfram_line = pd.DataFrame(scorecode_line)"
   ],
   "cell_type": "code",
   "metadata": {},
   "execution_count": 37,
   "outputs": []
  },
  {
   "source": [
    "dfram_line"
   ],
   "cell_type": "markdown",
   "metadata": {}
  },
  {
   "source": [
    "data_code = dfram_line[{'scmRevision','scmAuthor','scmDate'}]"
   ],
   "cell_type": "code",
   "metadata": {},
   "execution_count": 38,
   "outputs": []
  },
  {
   "source": [
    "data_code"
   ],
   "cell_type": "code",
   "metadata": {},
   "execution_count": 39,
   "outputs": [
    {
     "output_type": "execute_result",
     "data": {
      "text/plain": [
       "                                  scmRevision               scmAuthor  \\\n",
       "0    1f5055c473c45348b794ff9c9ed8f0759d32a691  gaoyunhenhao@gmail.com   \n",
       "1    1f5055c473c45348b794ff9c9ed8f0759d32a691  gaoyunhenhao@gmail.com   \n",
       "2    1f5055c473c45348b794ff9c9ed8f0759d32a691  gaoyunhenhao@gmail.com   \n",
       "3    1f5055c473c45348b794ff9c9ed8f0759d32a691  gaoyunhenhao@gmail.com   \n",
       "4    1f5055c473c45348b794ff9c9ed8f0759d32a691  gaoyunhenhao@gmail.com   \n",
       "..                                        ...                     ...   \n",
       "483  1f5055c473c45348b794ff9c9ed8f0759d32a691  gaoyunhenhao@gmail.com   \n",
       "484  1f5055c473c45348b794ff9c9ed8f0759d32a691  gaoyunhenhao@gmail.com   \n",
       "485  1f5055c473c45348b794ff9c9ed8f0759d32a691  gaoyunhenhao@gmail.com   \n",
       "486  1f5055c473c45348b794ff9c9ed8f0759d32a691  gaoyunhenhao@gmail.com   \n",
       "487  1f5055c473c45348b794ff9c9ed8f0759d32a691  gaoyunhenhao@gmail.com   \n",
       "\n",
       "                      scmDate  \n",
       "0    2020-11-05T16:59:56+0700  \n",
       "1    2020-11-05T16:59:56+0700  \n",
       "2    2020-11-05T16:59:56+0700  \n",
       "3    2020-11-05T16:59:56+0700  \n",
       "4    2020-11-05T16:59:56+0700  \n",
       "..                        ...  \n",
       "483  2020-11-05T16:59:56+0700  \n",
       "484  2020-11-05T16:59:56+0700  \n",
       "485  2020-11-05T16:59:56+0700  \n",
       "486  2020-11-05T16:59:56+0700  \n",
       "487  2020-11-05T16:59:56+0700  \n",
       "\n",
       "[488 rows x 3 columns]"
      ],
      "text/html": "<div>\n<style scoped>\n    .dataframe tbody tr th:only-of-type {\n        vertical-align: middle;\n    }\n\n    .dataframe tbody tr th {\n        vertical-align: top;\n    }\n\n    .dataframe thead th {\n        text-align: right;\n    }\n</style>\n<table border=\"1\" class=\"dataframe\">\n  <thead>\n    <tr style=\"text-align: right;\">\n      <th></th>\n      <th>scmRevision</th>\n      <th>scmAuthor</th>\n      <th>scmDate</th>\n    </tr>\n  </thead>\n  <tbody>\n    <tr>\n      <th>0</th>\n      <td>1f5055c473c45348b794ff9c9ed8f0759d32a691</td>\n      <td>gaoyunhenhao@gmail.com</td>\n      <td>2020-11-05T16:59:56+0700</td>\n    </tr>\n    <tr>\n      <th>1</th>\n      <td>1f5055c473c45348b794ff9c9ed8f0759d32a691</td>\n      <td>gaoyunhenhao@gmail.com</td>\n      <td>2020-11-05T16:59:56+0700</td>\n    </tr>\n    <tr>\n      <th>2</th>\n      <td>1f5055c473c45348b794ff9c9ed8f0759d32a691</td>\n      <td>gaoyunhenhao@gmail.com</td>\n      <td>2020-11-05T16:59:56+0700</td>\n    </tr>\n    <tr>\n      <th>3</th>\n      <td>1f5055c473c45348b794ff9c9ed8f0759d32a691</td>\n      <td>gaoyunhenhao@gmail.com</td>\n      <td>2020-11-05T16:59:56+0700</td>\n    </tr>\n    <tr>\n      <th>4</th>\n      <td>1f5055c473c45348b794ff9c9ed8f0759d32a691</td>\n      <td>gaoyunhenhao@gmail.com</td>\n      <td>2020-11-05T16:59:56+0700</td>\n    </tr>\n    <tr>\n      <th>...</th>\n      <td>...</td>\n      <td>...</td>\n      <td>...</td>\n    </tr>\n    <tr>\n      <th>483</th>\n      <td>1f5055c473c45348b794ff9c9ed8f0759d32a691</td>\n      <td>gaoyunhenhao@gmail.com</td>\n      <td>2020-11-05T16:59:56+0700</td>\n    </tr>\n    <tr>\n      <th>484</th>\n      <td>1f5055c473c45348b794ff9c9ed8f0759d32a691</td>\n      <td>gaoyunhenhao@gmail.com</td>\n      <td>2020-11-05T16:59:56+0700</td>\n    </tr>\n    <tr>\n      <th>485</th>\n      <td>1f5055c473c45348b794ff9c9ed8f0759d32a691</td>\n      <td>gaoyunhenhao@gmail.com</td>\n      <td>2020-11-05T16:59:56+0700</td>\n    </tr>\n    <tr>\n      <th>486</th>\n      <td>1f5055c473c45348b794ff9c9ed8f0759d32a691</td>\n      <td>gaoyunhenhao@gmail.com</td>\n      <td>2020-11-05T16:59:56+0700</td>\n    </tr>\n    <tr>\n      <th>487</th>\n      <td>1f5055c473c45348b794ff9c9ed8f0759d32a691</td>\n      <td>gaoyunhenhao@gmail.com</td>\n      <td>2020-11-05T16:59:56+0700</td>\n    </tr>\n  </tbody>\n</table>\n<p>488 rows × 3 columns</p>\n</div>"
     },
     "metadata": {},
     "execution_count": 39
    }
   ]
  },
  {
   "cell_type": "code",
   "execution_count": 17,
   "metadata": {},
   "outputs": [],
   "source": [
    "new_code_col = pd.DataFrame(data_code)"
   ]
  },
  {
   "source": [
    "rename_new_code = new_code_col.rename(columns= {'scmDate': 'creationDate', 'scmAuthor' :'author' ,'scmRevision' :'hash'})\n",
    "\n",
    "rename_new_code"
   ],
   "cell_type": "code",
   "metadata": {},
   "execution_count": 25,
   "outputs": [
    {
     "output_type": "execute_result",
     "data": {
      "text/plain": [
       "                                         hash                  author  \\\n",
       "0    1f5055c473c45348b794ff9c9ed8f0759d32a691  gaoyunhenhao@gmail.com   \n",
       "1    1f5055c473c45348b794ff9c9ed8f0759d32a691  gaoyunhenhao@gmail.com   \n",
       "2    1f5055c473c45348b794ff9c9ed8f0759d32a691  gaoyunhenhao@gmail.com   \n",
       "3    1f5055c473c45348b794ff9c9ed8f0759d32a691  gaoyunhenhao@gmail.com   \n",
       "4    1f5055c473c45348b794ff9c9ed8f0759d32a691  gaoyunhenhao@gmail.com   \n",
       "..                                        ...                     ...   \n",
       "483  1f5055c473c45348b794ff9c9ed8f0759d32a691  gaoyunhenhao@gmail.com   \n",
       "484  1f5055c473c45348b794ff9c9ed8f0759d32a691  gaoyunhenhao@gmail.com   \n",
       "485  1f5055c473c45348b794ff9c9ed8f0759d32a691  gaoyunhenhao@gmail.com   \n",
       "486  1f5055c473c45348b794ff9c9ed8f0759d32a691  gaoyunhenhao@gmail.com   \n",
       "487  1f5055c473c45348b794ff9c9ed8f0759d32a691  gaoyunhenhao@gmail.com   \n",
       "\n",
       "                 creationDate  \n",
       "0    2020-11-05T16:59:56+0700  \n",
       "1    2020-11-05T16:59:56+0700  \n",
       "2    2020-11-05T16:59:56+0700  \n",
       "3    2020-11-05T16:59:56+0700  \n",
       "4    2020-11-05T16:59:56+0700  \n",
       "..                        ...  \n",
       "483  2020-11-05T16:59:56+0700  \n",
       "484  2020-11-05T16:59:56+0700  \n",
       "485  2020-11-05T16:59:56+0700  \n",
       "486  2020-11-05T16:59:56+0700  \n",
       "487  2020-11-05T16:59:56+0700  \n",
       "\n",
       "[488 rows x 3 columns]"
      ],
      "text/html": "<div>\n<style scoped>\n    .dataframe tbody tr th:only-of-type {\n        vertical-align: middle;\n    }\n\n    .dataframe tbody tr th {\n        vertical-align: top;\n    }\n\n    .dataframe thead th {\n        text-align: right;\n    }\n</style>\n<table border=\"1\" class=\"dataframe\">\n  <thead>\n    <tr style=\"text-align: right;\">\n      <th></th>\n      <th>hash</th>\n      <th>author</th>\n      <th>creationDate</th>\n    </tr>\n  </thead>\n  <tbody>\n    <tr>\n      <th>0</th>\n      <td>1f5055c473c45348b794ff9c9ed8f0759d32a691</td>\n      <td>gaoyunhenhao@gmail.com</td>\n      <td>2020-11-05T16:59:56+0700</td>\n    </tr>\n    <tr>\n      <th>1</th>\n      <td>1f5055c473c45348b794ff9c9ed8f0759d32a691</td>\n      <td>gaoyunhenhao@gmail.com</td>\n      <td>2020-11-05T16:59:56+0700</td>\n    </tr>\n    <tr>\n      <th>2</th>\n      <td>1f5055c473c45348b794ff9c9ed8f0759d32a691</td>\n      <td>gaoyunhenhao@gmail.com</td>\n      <td>2020-11-05T16:59:56+0700</td>\n    </tr>\n    <tr>\n      <th>3</th>\n      <td>1f5055c473c45348b794ff9c9ed8f0759d32a691</td>\n      <td>gaoyunhenhao@gmail.com</td>\n      <td>2020-11-05T16:59:56+0700</td>\n    </tr>\n    <tr>\n      <th>4</th>\n      <td>1f5055c473c45348b794ff9c9ed8f0759d32a691</td>\n      <td>gaoyunhenhao@gmail.com</td>\n      <td>2020-11-05T16:59:56+0700</td>\n    </tr>\n    <tr>\n      <th>...</th>\n      <td>...</td>\n      <td>...</td>\n      <td>...</td>\n    </tr>\n    <tr>\n      <th>483</th>\n      <td>1f5055c473c45348b794ff9c9ed8f0759d32a691</td>\n      <td>gaoyunhenhao@gmail.com</td>\n      <td>2020-11-05T16:59:56+0700</td>\n    </tr>\n    <tr>\n      <th>484</th>\n      <td>1f5055c473c45348b794ff9c9ed8f0759d32a691</td>\n      <td>gaoyunhenhao@gmail.com</td>\n      <td>2020-11-05T16:59:56+0700</td>\n    </tr>\n    <tr>\n      <th>485</th>\n      <td>1f5055c473c45348b794ff9c9ed8f0759d32a691</td>\n      <td>gaoyunhenhao@gmail.com</td>\n      <td>2020-11-05T16:59:56+0700</td>\n    </tr>\n    <tr>\n      <th>486</th>\n      <td>1f5055c473c45348b794ff9c9ed8f0759d32a691</td>\n      <td>gaoyunhenhao@gmail.com</td>\n      <td>2020-11-05T16:59:56+0700</td>\n    </tr>\n    <tr>\n      <th>487</th>\n      <td>1f5055c473c45348b794ff9c9ed8f0759d32a691</td>\n      <td>gaoyunhenhao@gmail.com</td>\n      <td>2020-11-05T16:59:56+0700</td>\n    </tr>\n  </tbody>\n</table>\n<p>488 rows × 3 columns</p>\n</div>"
     },
     "metadata": {},
     "execution_count": 25
    }
   ]
  },
  {
   "source": [
    "new_dev = data_dev.set_index(['creationDate', 'author'])"
   ],
   "cell_type": "code",
   "metadata": {},
   "execution_count": 21,
   "outputs": []
  },
  {
   "source": [
    "new_dev.head(1)"
   ],
   "cell_type": "code",
   "metadata": {},
   "execution_count": 22,
   "outputs": [
    {
     "output_type": "execute_result",
     "data": {
      "text/plain": [
       "                                                                             hash  \\\n",
       "creationDate             author                                                     \n",
       "2020-11-05T16:59:56+0700 gaoyunhenhao@gmail.com  4394ada880a1ba95fcb3b3d006e5f1c5   \n",
       "\n",
       "                                                               updateDate  \\\n",
       "creationDate             author                                             \n",
       "2020-11-05T16:59:56+0700 gaoyunhenhao@gmail.com  2021-04-08T11:39:19+0700   \n",
       "\n",
       "                                                      rule  \n",
       "creationDate             author                             \n",
       "2020-11-05T16:59:56+0700 gaoyunhenhao@gmail.com  java:S119  "
      ],
      "text/html": "<div>\n<style scoped>\n    .dataframe tbody tr th:only-of-type {\n        vertical-align: middle;\n    }\n\n    .dataframe tbody tr th {\n        vertical-align: top;\n    }\n\n    .dataframe thead th {\n        text-align: right;\n    }\n</style>\n<table border=\"1\" class=\"dataframe\">\n  <thead>\n    <tr style=\"text-align: right;\">\n      <th></th>\n      <th></th>\n      <th>hash</th>\n      <th>updateDate</th>\n      <th>rule</th>\n    </tr>\n    <tr>\n      <th>creationDate</th>\n      <th>author</th>\n      <th></th>\n      <th></th>\n      <th></th>\n    </tr>\n  </thead>\n  <tbody>\n    <tr>\n      <th>2020-11-05T16:59:56+0700</th>\n      <th>gaoyunhenhao@gmail.com</th>\n      <td>4394ada880a1ba95fcb3b3d006e5f1c5</td>\n      <td>2021-04-08T11:39:19+0700</td>\n      <td>java:S119</td>\n    </tr>\n  </tbody>\n</table>\n</div>"
     },
     "metadata": {},
     "execution_count": 22
    }
   ]
  },
  {
   "cell_type": "code",
   "execution_count": 26,
   "metadata": {},
   "outputs": [],
   "source": [
    "new_code = rename_new_code.set_index(['creationDate','author'])"
   ]
  },
  {
   "source": [
    "new_code.head(1)"
   ],
   "cell_type": "code",
   "metadata": {},
   "execution_count": 119,
   "outputs": [
    {
     "output_type": "execute_result",
     "data": {
      "text/plain": [
       "                                                                                     hash\n",
       "creationDate             author                                                          \n",
       "2020-11-05T16:59:56+0700 gaoyunhenhao@gmail.com  1f5055c473c45348b794ff9c9ed8f0759d32a691"
      ],
      "text/html": "<div>\n<style scoped>\n    .dataframe tbody tr th:only-of-type {\n        vertical-align: middle;\n    }\n\n    .dataframe tbody tr th {\n        vertical-align: top;\n    }\n\n    .dataframe thead th {\n        text-align: right;\n    }\n</style>\n<table border=\"1\" class=\"dataframe\">\n  <thead>\n    <tr style=\"text-align: right;\">\n      <th></th>\n      <th></th>\n      <th>hash</th>\n    </tr>\n    <tr>\n      <th>creationDate</th>\n      <th>author</th>\n      <th></th>\n    </tr>\n  </thead>\n  <tbody>\n    <tr>\n      <th>2020-11-05T16:59:56+0700</th>\n      <th>gaoyunhenhao@gmail.com</th>\n      <td>1f5055c473c45348b794ff9c9ed8f0759d32a691</td>\n    </tr>\n  </tbody>\n</table>\n</div>"
     },
     "metadata": {},
     "execution_count": 119
    }
   ]
  },
  {
   "cell_type": "code",
   "execution_count": 27,
   "metadata": {},
   "outputs": [],
   "source": [
    "resulf = new_dev.join(new_code, on=['creationDate', 'author'] , lsuffix='_newcode', rsuffix='_newdev')"
   ]
  },
  {
   "cell_type": "code",
   "execution_count": 28,
   "metadata": {},
   "outputs": [
    {
     "output_type": "execute_result",
     "data": {
      "text/plain": [
       "                                                                     hash_newcode  \\\n",
       "creationDate             author                                                     \n",
       "2020-11-05T16:59:56+0700 gaoyunhenhao@gmail.com  4394ada880a1ba95fcb3b3d006e5f1c5   \n",
       "                         gaoyunhenhao@gmail.com  4394ada880a1ba95fcb3b3d006e5f1c5   \n",
       "                         gaoyunhenhao@gmail.com  4394ada880a1ba95fcb3b3d006e5f1c5   \n",
       "                         gaoyunhenhao@gmail.com  4394ada880a1ba95fcb3b3d006e5f1c5   \n",
       "                         gaoyunhenhao@gmail.com  4394ada880a1ba95fcb3b3d006e5f1c5   \n",
       "...                                                                           ...   \n",
       "2020-11-25T09:10:53+0700 gaoyunhenhao@gmail.com  ac2aac87fd9e66aad3c7caad3d5c98e7   \n",
       "2020-05-27T15:27:05+0700 gaoyunhenhao@gmail.com  8c7b2365fdb85862b408f793a7f8d3e2   \n",
       "                         gaoyunhenhao@gmail.com  8c7b2365fdb85862b408f793a7f8d3e2   \n",
       "2020-11-25T09:10:53+0700 gaoyunhenhao@gmail.com  69d55a4365cf305a9aeef24eaf4424b3   \n",
       "                         gaoyunhenhao@gmail.com  69d55a4365cf305a9aeef24eaf4424b3   \n",
       "\n",
       "                                                               updateDate  \\\n",
       "creationDate             author                                             \n",
       "2020-11-05T16:59:56+0700 gaoyunhenhao@gmail.com  2021-04-08T11:39:19+0700   \n",
       "                         gaoyunhenhao@gmail.com  2021-04-08T11:39:19+0700   \n",
       "                         gaoyunhenhao@gmail.com  2021-04-08T11:39:19+0700   \n",
       "                         gaoyunhenhao@gmail.com  2021-04-08T11:39:19+0700   \n",
       "                         gaoyunhenhao@gmail.com  2021-04-08T11:39:19+0700   \n",
       "...                                                                   ...   \n",
       "2020-11-25T09:10:53+0700 gaoyunhenhao@gmail.com  2021-04-08T11:39:19+0700   \n",
       "2020-05-27T15:27:05+0700 gaoyunhenhao@gmail.com  2021-04-08T11:39:19+0700   \n",
       "                         gaoyunhenhao@gmail.com  2021-04-08T11:39:19+0700   \n",
       "2020-11-25T09:10:53+0700 gaoyunhenhao@gmail.com  2021-04-08T11:39:19+0700   \n",
       "                         gaoyunhenhao@gmail.com  2021-04-08T11:39:19+0700   \n",
       "\n",
       "                                                      rule  \\\n",
       "creationDate             author                              \n",
       "2020-11-05T16:59:56+0700 gaoyunhenhao@gmail.com  java:S119   \n",
       "                         gaoyunhenhao@gmail.com  java:S119   \n",
       "                         gaoyunhenhao@gmail.com  java:S119   \n",
       "                         gaoyunhenhao@gmail.com  java:S119   \n",
       "                         gaoyunhenhao@gmail.com  java:S119   \n",
       "...                                                    ...   \n",
       "2020-11-25T09:10:53+0700 gaoyunhenhao@gmail.com  java:S119   \n",
       "2020-05-27T15:27:05+0700 gaoyunhenhao@gmail.com  java:S119   \n",
       "                         gaoyunhenhao@gmail.com  java:S119   \n",
       "2020-11-25T09:10:53+0700 gaoyunhenhao@gmail.com  java:S119   \n",
       "                         gaoyunhenhao@gmail.com  java:S119   \n",
       "\n",
       "                                                                              hash_newdev  \n",
       "creationDate             author                                                            \n",
       "2020-11-05T16:59:56+0700 gaoyunhenhao@gmail.com  1f5055c473c45348b794ff9c9ed8f0759d32a691  \n",
       "                         gaoyunhenhao@gmail.com  1f5055c473c45348b794ff9c9ed8f0759d32a691  \n",
       "                         gaoyunhenhao@gmail.com  1f5055c473c45348b794ff9c9ed8f0759d32a691  \n",
       "                         gaoyunhenhao@gmail.com  1f5055c473c45348b794ff9c9ed8f0759d32a691  \n",
       "                         gaoyunhenhao@gmail.com  1f5055c473c45348b794ff9c9ed8f0759d32a691  \n",
       "...                                                                                   ...  \n",
       "2020-11-25T09:10:53+0700 gaoyunhenhao@gmail.com                                       NaN  \n",
       "2020-05-27T15:27:05+0700 gaoyunhenhao@gmail.com                                       NaN  \n",
       "                         gaoyunhenhao@gmail.com                                       NaN  \n",
       "2020-11-25T09:10:53+0700 gaoyunhenhao@gmail.com                                       NaN  \n",
       "                         gaoyunhenhao@gmail.com                                       NaN  \n",
       "\n",
       "[5666 rows x 4 columns]"
      ],
      "text/html": "<div>\n<style scoped>\n    .dataframe tbody tr th:only-of-type {\n        vertical-align: middle;\n    }\n\n    .dataframe tbody tr th {\n        vertical-align: top;\n    }\n\n    .dataframe thead th {\n        text-align: right;\n    }\n</style>\n<table border=\"1\" class=\"dataframe\">\n  <thead>\n    <tr style=\"text-align: right;\">\n      <th></th>\n      <th></th>\n      <th>hash_newcode</th>\n      <th>updateDate</th>\n      <th>rule</th>\n      <th>hash_newdev</th>\n    </tr>\n    <tr>\n      <th>creationDate</th>\n      <th>author</th>\n      <th></th>\n      <th></th>\n      <th></th>\n      <th></th>\n    </tr>\n  </thead>\n  <tbody>\n    <tr>\n      <th rowspan=\"5\" valign=\"top\">2020-11-05T16:59:56+0700</th>\n      <th>gaoyunhenhao@gmail.com</th>\n      <td>4394ada880a1ba95fcb3b3d006e5f1c5</td>\n      <td>2021-04-08T11:39:19+0700</td>\n      <td>java:S119</td>\n      <td>1f5055c473c45348b794ff9c9ed8f0759d32a691</td>\n    </tr>\n    <tr>\n      <th>gaoyunhenhao@gmail.com</th>\n      <td>4394ada880a1ba95fcb3b3d006e5f1c5</td>\n      <td>2021-04-08T11:39:19+0700</td>\n      <td>java:S119</td>\n      <td>1f5055c473c45348b794ff9c9ed8f0759d32a691</td>\n    </tr>\n    <tr>\n      <th>gaoyunhenhao@gmail.com</th>\n      <td>4394ada880a1ba95fcb3b3d006e5f1c5</td>\n      <td>2021-04-08T11:39:19+0700</td>\n      <td>java:S119</td>\n      <td>1f5055c473c45348b794ff9c9ed8f0759d32a691</td>\n    </tr>\n    <tr>\n      <th>gaoyunhenhao@gmail.com</th>\n      <td>4394ada880a1ba95fcb3b3d006e5f1c5</td>\n      <td>2021-04-08T11:39:19+0700</td>\n      <td>java:S119</td>\n      <td>1f5055c473c45348b794ff9c9ed8f0759d32a691</td>\n    </tr>\n    <tr>\n      <th>gaoyunhenhao@gmail.com</th>\n      <td>4394ada880a1ba95fcb3b3d006e5f1c5</td>\n      <td>2021-04-08T11:39:19+0700</td>\n      <td>java:S119</td>\n      <td>1f5055c473c45348b794ff9c9ed8f0759d32a691</td>\n    </tr>\n    <tr>\n      <th>...</th>\n      <th>...</th>\n      <td>...</td>\n      <td>...</td>\n      <td>...</td>\n      <td>...</td>\n    </tr>\n    <tr>\n      <th>2020-11-25T09:10:53+0700</th>\n      <th>gaoyunhenhao@gmail.com</th>\n      <td>ac2aac87fd9e66aad3c7caad3d5c98e7</td>\n      <td>2021-04-08T11:39:19+0700</td>\n      <td>java:S119</td>\n      <td>NaN</td>\n    </tr>\n    <tr>\n      <th rowspan=\"2\" valign=\"top\">2020-05-27T15:27:05+0700</th>\n      <th>gaoyunhenhao@gmail.com</th>\n      <td>8c7b2365fdb85862b408f793a7f8d3e2</td>\n      <td>2021-04-08T11:39:19+0700</td>\n      <td>java:S119</td>\n      <td>NaN</td>\n    </tr>\n    <tr>\n      <th>gaoyunhenhao@gmail.com</th>\n      <td>8c7b2365fdb85862b408f793a7f8d3e2</td>\n      <td>2021-04-08T11:39:19+0700</td>\n      <td>java:S119</td>\n      <td>NaN</td>\n    </tr>\n    <tr>\n      <th rowspan=\"2\" valign=\"top\">2020-11-25T09:10:53+0700</th>\n      <th>gaoyunhenhao@gmail.com</th>\n      <td>69d55a4365cf305a9aeef24eaf4424b3</td>\n      <td>2021-04-08T11:39:19+0700</td>\n      <td>java:S119</td>\n      <td>NaN</td>\n    </tr>\n    <tr>\n      <th>gaoyunhenhao@gmail.com</th>\n      <td>69d55a4365cf305a9aeef24eaf4424b3</td>\n      <td>2021-04-08T11:39:19+0700</td>\n      <td>java:S119</td>\n      <td>NaN</td>\n    </tr>\n  </tbody>\n</table>\n<p>5666 rows × 4 columns</p>\n</div>"
     },
     "metadata": {},
     "execution_count": 28
    }
   ],
   "source": [
    "resulf"
   ]
  },
  {
   "cell_type": "code",
   "execution_count": 136,
   "metadata": {},
   "outputs": [],
   "source": [
    "resulf.to_excel('output.xlsx' , engine='xlsxwriter')"
   ]
  },
  {
   "cell_type": "code",
   "execution_count": null,
   "metadata": {},
   "outputs": [],
   "source": []
  }
 ]
}